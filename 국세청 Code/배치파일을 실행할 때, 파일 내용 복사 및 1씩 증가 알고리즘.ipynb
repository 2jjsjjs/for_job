{
 "cells": [
  {
   "cell_type": "code",
   "execution_count": 2,
   "id": "381625fe-c727-4201-81d7-60c48a004966",
   "metadata": {},
   "outputs": [],
   "source": [
    "import os\n",
    "import shutil"
   ]
  },
  {
   "cell_type": "markdown",
   "id": "39de52c9-faa4-4f17-8671-d150cbee232a",
   "metadata": {},
   "source": [
    "처음 01 폴더를 만들어서(필수) 모든 내용물 복사"
   ]
  },
  {
   "cell_type": "code",
   "execution_count": 30,
   "id": "f5b89181-1b2d-4001-b778-1481ad1f0901",
   "metadata": {},
   "outputs": [],
   "source": [
    "dirpath = \"C:/Users/2jjsj/OneDrive/바탕 화면/test_foleder/01\""
   ]
  },
  {
   "cell_type": "code",
   "execution_count": 31,
   "id": "8e3e1704-6602-4877-b3e1-e84d6d343da9",
   "metadata": {},
   "outputs": [],
   "source": [
    "os.chdir(dirpath)"
   ]
  },
  {
   "cell_type": "code",
   "execution_count": 69,
   "id": "7138f163-19bd-4ac3-842d-46f817d30579",
   "metadata": {},
   "outputs": [],
   "source": [
    "folders = [folder for folder in os.listdir() if os.path.isdir(folder) and folder.isdigit()]"
   ]
  },
  {
   "cell_type": "code",
   "execution_count": 70,
   "id": "93a9f0d9-d353-4928-a73f-2ee5120259b4",
   "metadata": {},
   "outputs": [
    {
     "data": {
      "text/plain": [
       "[]"
      ]
     },
     "execution_count": 70,
     "metadata": {},
     "output_type": "execute_result"
    }
   ],
   "source": [
    "folders"
   ]
  },
  {
   "cell_type": "markdown",
   "id": "cef9606a-fdf4-4459-b171-bd369256e7fb",
   "metadata": {},
   "source": [
    "02 , 03 , 04 ... 폴더 만드는 알고리즘"
   ]
  },
  {
   "cell_type": "code",
   "execution_count": 9,
   "id": "7e212784-67e5-442e-9803-84ea11bf2d32",
   "metadata": {},
   "outputs": [],
   "source": [
    "def get_last_folder_number():\n",
    "    folders = [folder for folder in os.listdir() if os.path.isdir(folder) and folder.isdigit()]\n",
    "\n",
    "    # os.listdir() 메써드는 지정한 디렉토리 내의 모든 파일과 디렉토리의 리스트(list)를 리턴한다.\n",
    "    # os.path.isdir() 메써드는 디렉토리가 존재 하는지 확인하는 방법을 리턴한다. \n",
    "    # folder.isdigit() 메써드는 문자가 단 하나라도 있으면 false 반환 / 숫자로 이루어져있으면 true 변환\n",
    "    \n",
    "    if folders: # 만약 last_folder가 folders에서 int를 기준으로 가장 큰값을 뽑아내서 추출 \n",
    "        last_folder = max(folders, key=int)\n",
    "        return int(last_folder)\n",
    "        \n",
    "    return 0 # 1부터 없으면 0부터 시작\n",
    "\n",
    "def create_next_numbered_folder(): \n",
    "    last_number = get_last_folder_number()\n",
    "    next_number = last_number + 1 # 위에 큰값에서 마지막 숫자를 더함\n",
    "    folder_name = f\"{next_number:02d}\"  # 숫자를 두 자리로 만들기 위해 문자열 포맷 활용\n",
    "    os.makedirs(folder_name)\n",
    "    return folder_name  # 새로 생성된 폴더 이름 반환\n"
   ]
  },
  {
   "cell_type": "code",
   "execution_count": 11,
   "id": "a949369d-fa3a-4d5f-b367-d59414fda992",
   "metadata": {},
   "outputs": [],
   "source": [
    "if __name__ == \"__main__\": # 해당 구문이 사용된 파이썬 파일을 직접 실행했을때만 아래코드를 실행하겠다는 뜻\n",
    "    new_folder = create_next_numbered_folder()"
   ]
  },
  {
   "cell_type": "markdown",
   "id": "f633f348-9b95-4f67-b7b6-efa630159503",
   "metadata": {},
   "source": [
    "그 폴더안에 있는 내용물 복사하는 알고리즘"
   ]
  },
  {
   "cell_type": "code",
   "execution_count": 12,
   "id": "77b74330-2ce3-4343-b556-a6ef71cecd72",
   "metadata": {},
   "outputs": [],
   "source": [
    "    # 원본 폴더 번호 계산\n",
    "    last_folder_number = int(new_folder) - 1\n",
    "    source_folder = f\"{last_folder_number:02d}\"  # 원본 폴더 번호\n",
    "\n",
    "    # 01 폴더에서 새 폴더로 파일 복사\n",
    "    destination_folder = new_folder\n",
    "\n",
    "    for filename in os.listdir(source_folder):\n",
    "        source_path = os.path.join(source_folder, filename)\n",
    "        destination_path = os.path.join(destination_folder, filename)\n",
    "        shutil.copy(source_path, destination_path)"
   ]
  },
  {
   "cell_type": "markdown",
   "id": "9511fa93-e9c3-487f-82c8-364f4462dd17",
   "metadata": {},
   "source": [
    "메모장에서 epoch , batch_size 읽어오는 기능"
   ]
  },
  {
   "cell_type": "code",
   "execution_count": 67,
   "id": "85d52aa3-d59f-4c51-a004-7addf21ddd98",
   "metadata": {},
   "outputs": [
    {
     "name": "stdout",
     "output_type": "stream",
     "text": [
      "[30, 400, 400, 300, 300]\n"
     ]
    }
   ],
   "source": [
    "import os\n",
    "import re\n",
    "\n",
    "current_script_directory = os.path.dirname(os.path.abspath('__file__'))\n",
    "\n",
    "# 스크립트 파일과 동일한 디렉토리에 있는 epoch.txt 파일을 읽습니다.\n",
    "epoch_file_path = os.path.join(current_script_directory, 'epoch , batch.txt')\n",
    "\n",
    "# 숫자를 저장할 빈 리스트를 생성합니다.\n",
    "numbers = []\n",
    "\n",
    "# epoch.txt 파일을 읽습니다.\n",
    "if os.path.exists(epoch_file_path):\n",
    "    with open(epoch_file_path, 'r') as file:\n",
    "        lines = file.readlines()\n",
    "\n",
    "        # 각 줄에서 숫자를 추출하여 리스트에 추가합니다.\n",
    "        for line in lines:\n",
    "            number = int(line.split('=')[-1].strip())\n",
    "            numbers.append(number)\n",
    "\n",
    "        print(numbers)\n",
    "else:\n",
    "    print(\"epoch.txt 파일을 찾을 수 없습니다.\")"
   ]
  },
  {
   "cell_type": "markdown",
   "id": "3d96610f-cb65-4151-871b-3624596a1798",
   "metadata": {},
   "source": [
    "위에서 그러면 numbers[0] . . . . 해서 배치사이즈 지정해서 클러스터링 된 알고리즘에 적용"
   ]
  }
 ],
 "metadata": {
  "kernelspec": {
   "display_name": "Python 3 (ipykernel)",
   "language": "python",
   "name": "python3"
  },
  "language_info": {
   "codemirror_mode": {
    "name": "ipython",
    "version": 3
   },
   "file_extension": ".py",
   "mimetype": "text/x-python",
   "name": "python",
   "nbconvert_exporter": "python",
   "pygments_lexer": "ipython3",
   "version": "3.8.18"
  }
 },
 "nbformat": 4,
 "nbformat_minor": 5
}
