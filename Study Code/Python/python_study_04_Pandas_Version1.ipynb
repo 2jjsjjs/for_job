{
  "cells": [
    {
      "cell_type": "markdown",
      "metadata": {
        "id": "anahYLbC1vY3"
      },
      "source": [
        "# Pandas Library\n",
        "\n",
        "## Pandas란?\n",
        "* Python의 [Pandas](https://pandas.pydata.org)\n",
        "* 파이썬에서 사용하는 데이터 분석 라이브러리  \n",
        "* Numpy는 기초적인 array data와 array 계산들을 제공  \n",
        "* Pandas는 데이터 작업을 위한 기본적인 구조들을 정의  \n",
        "* data 읽기, index 조정, time-series data 작업, sorting, grouping, 결측값 다루기 등과 같은 작업에 용이    "
      ]
    },
    {
      "cell_type": "markdown",
      "metadata": {
        "id": "f7tODZYl1vY7"
      },
      "source": [
        "참고사이트       \n",
        "1.[duke](https://people.duke.edu/~ccc14/sta-663/UsingPandas.html)     \n",
        "2.[Quantitative Economics](https://lectures.quantecon.org/py/pandas.html)  \n",
        "3.https://wikidocs.net/book/7188 ( Pandas DataFrame 완전정복 ) \n"
      ]
    },
    {
      "cell_type": "code",
      "execution_count": null,
      "metadata": {
        "id": "8C5Zsea01vY7"
      },
      "outputs": [],
      "source": [
        "# pandas, numpy import\n",
        "import pandas as pd\n",
        "import numpy as np"
      ]
    },
    {
      "cell_type": "markdown",
      "metadata": {
        "id": "xr-2elfd1vY8"
      },
      "source": [
        "## Pandas의 자료구조\n",
        "1. Series\n",
        "2. DataFrame\n",
        "\n",
        "### 1. Series\n",
        "* index를 가지는 1차원 데이터\n",
        "\n",
        "### 2. DataFrame\n",
        "* 표와 같은 스프레드시트 형식의 자료 구조  \n",
        "* 2차원 행렬 데이터로 각각의 행과 열에 대한 index 사용\n",
        "\n",
        "#### DataFrame 생성하기\n",
        "우선 DataFrame에 들어갈 데이터를 정의해주어야 하는데, 이는 Python의 dictionary 또는 Numpy의 array로 정의"
      ]
    },
    {
      "cell_type": "code",
      "execution_count": null,
      "metadata": {
        "colab": {
          "base_uri": "https://localhost:8080/",
          "height": 301
        },
        "id": "-F8ZzSMk1vY9",
        "outputId": "35818213-24ca-445f-b500-4e5b35948d3b"
      },
      "outputs": [
        {
          "output_type": "display_data",
          "data": {
            "text/plain": [
              "   col1  col2\n",
              "0     1     3\n",
              "1     2     4"
            ],
            "text/html": [
              "\n",
              "  <div id=\"df-9557c8f7-cc5e-4a4e-ac1e-53eee06d0a74\">\n",
              "    <div class=\"colab-df-container\">\n",
              "      <div>\n",
              "<style scoped>\n",
              "    .dataframe tbody tr th:only-of-type {\n",
              "        vertical-align: middle;\n",
              "    }\n",
              "\n",
              "    .dataframe tbody tr th {\n",
              "        vertical-align: top;\n",
              "    }\n",
              "\n",
              "    .dataframe thead th {\n",
              "        text-align: right;\n",
              "    }\n",
              "</style>\n",
              "<table border=\"1\" class=\"dataframe\">\n",
              "  <thead>\n",
              "    <tr style=\"text-align: right;\">\n",
              "      <th></th>\n",
              "      <th>col1</th>\n",
              "      <th>col2</th>\n",
              "    </tr>\n",
              "  </thead>\n",
              "  <tbody>\n",
              "    <tr>\n",
              "      <th>0</th>\n",
              "      <td>1</td>\n",
              "      <td>3</td>\n",
              "    </tr>\n",
              "    <tr>\n",
              "      <th>1</th>\n",
              "      <td>2</td>\n",
              "      <td>4</td>\n",
              "    </tr>\n",
              "  </tbody>\n",
              "</table>\n",
              "</div>\n",
              "      <button class=\"colab-df-convert\" onclick=\"convertToInteractive('df-9557c8f7-cc5e-4a4e-ac1e-53eee06d0a74')\"\n",
              "              title=\"Convert this dataframe to an interactive table.\"\n",
              "              style=\"display:none;\">\n",
              "        \n",
              "  <svg xmlns=\"http://www.w3.org/2000/svg\" height=\"24px\"viewBox=\"0 0 24 24\"\n",
              "       width=\"24px\">\n",
              "    <path d=\"M0 0h24v24H0V0z\" fill=\"none\"/>\n",
              "    <path d=\"M18.56 5.44l.94 2.06.94-2.06 2.06-.94-2.06-.94-.94-2.06-.94 2.06-2.06.94zm-11 1L8.5 8.5l.94-2.06 2.06-.94-2.06-.94L8.5 2.5l-.94 2.06-2.06.94zm10 10l.94 2.06.94-2.06 2.06-.94-2.06-.94-.94-2.06-.94 2.06-2.06.94z\"/><path d=\"M17.41 7.96l-1.37-1.37c-.4-.4-.92-.59-1.43-.59-.52 0-1.04.2-1.43.59L10.3 9.45l-7.72 7.72c-.78.78-.78 2.05 0 2.83L4 21.41c.39.39.9.59 1.41.59.51 0 1.02-.2 1.41-.59l7.78-7.78 2.81-2.81c.8-.78.8-2.07 0-2.86zM5.41 20L4 18.59l7.72-7.72 1.47 1.35L5.41 20z\"/>\n",
              "  </svg>\n",
              "      </button>\n",
              "      \n",
              "  <style>\n",
              "    .colab-df-container {\n",
              "      display:flex;\n",
              "      flex-wrap:wrap;\n",
              "      gap: 12px;\n",
              "    }\n",
              "\n",
              "    .colab-df-convert {\n",
              "      background-color: #E8F0FE;\n",
              "      border: none;\n",
              "      border-radius: 50%;\n",
              "      cursor: pointer;\n",
              "      display: none;\n",
              "      fill: #1967D2;\n",
              "      height: 32px;\n",
              "      padding: 0 0 0 0;\n",
              "      width: 32px;\n",
              "    }\n",
              "\n",
              "    .colab-df-convert:hover {\n",
              "      background-color: #E2EBFA;\n",
              "      box-shadow: 0px 1px 2px rgba(60, 64, 67, 0.3), 0px 1px 3px 1px rgba(60, 64, 67, 0.15);\n",
              "      fill: #174EA6;\n",
              "    }\n",
              "\n",
              "    [theme=dark] .colab-df-convert {\n",
              "      background-color: #3B4455;\n",
              "      fill: #D2E3FC;\n",
              "    }\n",
              "\n",
              "    [theme=dark] .colab-df-convert:hover {\n",
              "      background-color: #434B5C;\n",
              "      box-shadow: 0px 1px 3px 1px rgba(0, 0, 0, 0.15);\n",
              "      filter: drop-shadow(0px 1px 2px rgba(0, 0, 0, 0.3));\n",
              "      fill: #FFFFFF;\n",
              "    }\n",
              "  </style>\n",
              "\n",
              "      <script>\n",
              "        const buttonEl =\n",
              "          document.querySelector('#df-9557c8f7-cc5e-4a4e-ac1e-53eee06d0a74 button.colab-df-convert');\n",
              "        buttonEl.style.display =\n",
              "          google.colab.kernel.accessAllowed ? 'block' : 'none';\n",
              "\n",
              "        async function convertToInteractive(key) {\n",
              "          const element = document.querySelector('#df-9557c8f7-cc5e-4a4e-ac1e-53eee06d0a74');\n",
              "          const dataTable =\n",
              "            await google.colab.kernel.invokeFunction('convertToInteractive',\n",
              "                                                     [key], {});\n",
              "          if (!dataTable) return;\n",
              "\n",
              "          const docLinkHtml = 'Like what you see? Visit the ' +\n",
              "            '<a target=\"_blank\" href=https://colab.research.google.com/notebooks/data_table.ipynb>data table notebook</a>'\n",
              "            + ' to learn more about interactive tables.';\n",
              "          element.innerHTML = '';\n",
              "          dataTable['output_type'] = 'display_data';\n",
              "          await google.colab.output.renderOutput(dataTable, element);\n",
              "          const docLink = document.createElement('div');\n",
              "          docLink.innerHTML = docLinkHtml;\n",
              "          element.appendChild(docLink);\n",
              "        }\n",
              "      </script>\n",
              "    </div>\n",
              "  </div>\n",
              "  "
            ]
          },
          "metadata": {}
        },
        {
          "output_type": "display_data",
          "data": {
            "text/plain": [
              "   a  b  c  d  e\n",
              "0  7  7  1  5  1\n",
              "1  9  8  2  5  2\n",
              "2  1  8  9  8  2\n",
              "3  2  7  3  3  1\n",
              "4  1  3  7  3  8"
            ],
            "text/html": [
              "\n",
              "  <div id=\"df-2f0ec661-f00b-4bef-9f18-54b25bfabdea\">\n",
              "    <div class=\"colab-df-container\">\n",
              "      <div>\n",
              "<style scoped>\n",
              "    .dataframe tbody tr th:only-of-type {\n",
              "        vertical-align: middle;\n",
              "    }\n",
              "\n",
              "    .dataframe tbody tr th {\n",
              "        vertical-align: top;\n",
              "    }\n",
              "\n",
              "    .dataframe thead th {\n",
              "        text-align: right;\n",
              "    }\n",
              "</style>\n",
              "<table border=\"1\" class=\"dataframe\">\n",
              "  <thead>\n",
              "    <tr style=\"text-align: right;\">\n",
              "      <th></th>\n",
              "      <th>a</th>\n",
              "      <th>b</th>\n",
              "      <th>c</th>\n",
              "      <th>d</th>\n",
              "      <th>e</th>\n",
              "    </tr>\n",
              "  </thead>\n",
              "  <tbody>\n",
              "    <tr>\n",
              "      <th>0</th>\n",
              "      <td>7</td>\n",
              "      <td>7</td>\n",
              "      <td>1</td>\n",
              "      <td>5</td>\n",
              "      <td>1</td>\n",
              "    </tr>\n",
              "    <tr>\n",
              "      <th>1</th>\n",
              "      <td>9</td>\n",
              "      <td>8</td>\n",
              "      <td>2</td>\n",
              "      <td>5</td>\n",
              "      <td>2</td>\n",
              "    </tr>\n",
              "    <tr>\n",
              "      <th>2</th>\n",
              "      <td>1</td>\n",
              "      <td>8</td>\n",
              "      <td>9</td>\n",
              "      <td>8</td>\n",
              "      <td>2</td>\n",
              "    </tr>\n",
              "    <tr>\n",
              "      <th>3</th>\n",
              "      <td>2</td>\n",
              "      <td>7</td>\n",
              "      <td>3</td>\n",
              "      <td>3</td>\n",
              "      <td>1</td>\n",
              "    </tr>\n",
              "    <tr>\n",
              "      <th>4</th>\n",
              "      <td>1</td>\n",
              "      <td>3</td>\n",
              "      <td>7</td>\n",
              "      <td>3</td>\n",
              "      <td>8</td>\n",
              "    </tr>\n",
              "  </tbody>\n",
              "</table>\n",
              "</div>\n",
              "      <button class=\"colab-df-convert\" onclick=\"convertToInteractive('df-2f0ec661-f00b-4bef-9f18-54b25bfabdea')\"\n",
              "              title=\"Convert this dataframe to an interactive table.\"\n",
              "              style=\"display:none;\">\n",
              "        \n",
              "  <svg xmlns=\"http://www.w3.org/2000/svg\" height=\"24px\"viewBox=\"0 0 24 24\"\n",
              "       width=\"24px\">\n",
              "    <path d=\"M0 0h24v24H0V0z\" fill=\"none\"/>\n",
              "    <path d=\"M18.56 5.44l.94 2.06.94-2.06 2.06-.94-2.06-.94-.94-2.06-.94 2.06-2.06.94zm-11 1L8.5 8.5l.94-2.06 2.06-.94-2.06-.94L8.5 2.5l-.94 2.06-2.06.94zm10 10l.94 2.06.94-2.06 2.06-.94-2.06-.94-.94-2.06-.94 2.06-2.06.94z\"/><path d=\"M17.41 7.96l-1.37-1.37c-.4-.4-.92-.59-1.43-.59-.52 0-1.04.2-1.43.59L10.3 9.45l-7.72 7.72c-.78.78-.78 2.05 0 2.83L4 21.41c.39.39.9.59 1.41.59.51 0 1.02-.2 1.41-.59l7.78-7.78 2.81-2.81c.8-.78.8-2.07 0-2.86zM5.41 20L4 18.59l7.72-7.72 1.47 1.35L5.41 20z\"/>\n",
              "  </svg>\n",
              "      </button>\n",
              "      \n",
              "  <style>\n",
              "    .colab-df-container {\n",
              "      display:flex;\n",
              "      flex-wrap:wrap;\n",
              "      gap: 12px;\n",
              "    }\n",
              "\n",
              "    .colab-df-convert {\n",
              "      background-color: #E8F0FE;\n",
              "      border: none;\n",
              "      border-radius: 50%;\n",
              "      cursor: pointer;\n",
              "      display: none;\n",
              "      fill: #1967D2;\n",
              "      height: 32px;\n",
              "      padding: 0 0 0 0;\n",
              "      width: 32px;\n",
              "    }\n",
              "\n",
              "    .colab-df-convert:hover {\n",
              "      background-color: #E2EBFA;\n",
              "      box-shadow: 0px 1px 2px rgba(60, 64, 67, 0.3), 0px 1px 3px 1px rgba(60, 64, 67, 0.15);\n",
              "      fill: #174EA6;\n",
              "    }\n",
              "\n",
              "    [theme=dark] .colab-df-convert {\n",
              "      background-color: #3B4455;\n",
              "      fill: #D2E3FC;\n",
              "    }\n",
              "\n",
              "    [theme=dark] .colab-df-convert:hover {\n",
              "      background-color: #434B5C;\n",
              "      box-shadow: 0px 1px 3px 1px rgba(0, 0, 0, 0.15);\n",
              "      filter: drop-shadow(0px 1px 2px rgba(0, 0, 0, 0.3));\n",
              "      fill: #FFFFFF;\n",
              "    }\n",
              "  </style>\n",
              "\n",
              "      <script>\n",
              "        const buttonEl =\n",
              "          document.querySelector('#df-2f0ec661-f00b-4bef-9f18-54b25bfabdea button.colab-df-convert');\n",
              "        buttonEl.style.display =\n",
              "          google.colab.kernel.accessAllowed ? 'block' : 'none';\n",
              "\n",
              "        async function convertToInteractive(key) {\n",
              "          const element = document.querySelector('#df-2f0ec661-f00b-4bef-9f18-54b25bfabdea');\n",
              "          const dataTable =\n",
              "            await google.colab.kernel.invokeFunction('convertToInteractive',\n",
              "                                                     [key], {});\n",
              "          if (!dataTable) return;\n",
              "\n",
              "          const docLinkHtml = 'Like what you see? Visit the ' +\n",
              "            '<a target=\"_blank\" href=https://colab.research.google.com/notebooks/data_table.ipynb>data table notebook</a>'\n",
              "            + ' to learn more about interactive tables.';\n",
              "          element.innerHTML = '';\n",
              "          dataTable['output_type'] = 'display_data';\n",
              "          await google.colab.output.renderOutput(dataTable, element);\n",
              "          const docLink = document.createElement('div');\n",
              "          docLink.innerHTML = docLinkHtml;\n",
              "          element.appendChild(docLink);\n",
              "        }\n",
              "      </script>\n",
              "    </div>\n",
              "  </div>\n",
              "  "
            ]
          },
          "metadata": {}
        }
      ],
      "source": [
        "# dictionary에서 정의\n",
        "data = {'col1':[1, 2], 'col2':[3, 4]}\n",
        "df1 = pd.DataFrame(data)\n",
        "display(df1)\n",
        "\n",
        "# numpy에서 정의\n",
        "df2 = pd.DataFrame(np.random.randint(low=0, high=10, size=(5, 5)), columns=['a', 'b', 'c', 'd', 'e'])\n",
        "display(df2)"
      ]
    },
    {
      "cell_type": "markdown",
      "metadata": {
        "id": "YXxRR_iH1vY-"
      },
      "source": [
        "#### DataFrame의 속성 파악하기"
      ]
    },
    {
      "cell_type": "code",
      "execution_count": null,
      "metadata": {
        "colab": {
          "base_uri": "https://localhost:8080/"
        },
        "id": "XX58NUuI1vY-",
        "outputId": "3e39e18e-b8ca-4386-9f1e-b4c2dc76783f"
      },
      "outputs": [
        {
          "output_type": "stream",
          "name": "stdout",
          "text": [
            "2 \n",
            "\n",
            "(5, 5) \n",
            "\n",
            "25 \n",
            "\n",
            "Index(['a', 'b', 'c', 'd', 'e'], dtype='object') \n",
            "\n",
            "RangeIndex(start=0, stop=5, step=1) \n",
            "\n",
            "[[7 7 1 5 1]\n",
            " [9 8 2 5 2]\n",
            " [1 8 9 8 2]\n",
            " [2 7 3 3 1]\n",
            " [1 3 7 3 8]]\n"
          ]
        }
      ],
      "source": [
        "# .ndim: 데이터프레임의 차원\n",
        "# DataFrame은 2차원 자료\n",
        "print(df2.ndim, '\\n') \n",
        "\n",
        "# .shape: 데이터프레임의 행렬\n",
        "print(df2.shape, '\\n')\n",
        "\n",
        "# .size: 데이터프레임의 데이터 개수\n",
        "print(df2.size, '\\n')\n",
        "\n",
        "# .columns: 데이터프레임의 열 추출\n",
        "print(df2.columns, '\\n')\n",
        "\n",
        "# .index: 데이터프레임의 색인 추출\n",
        "print(df2.index, '\\n')\n",
        "\n",
        "# .values: 데이터프레임의 데이터 추출\n",
        "print(df2.values)"
      ]
    },
    {
      "cell_type": "markdown",
      "metadata": {
        "id": "KwhuhjD41vY-"
      },
      "source": [
        "#### xls 파일 불러오기 "
      ]
    },
    {
      "cell_type": "code",
      "execution_count": null,
      "metadata": {
        "colab": {
          "base_uri": "https://localhost:8080/",
          "height": 400
        },
        "id": "aB6ZVR8C1vY_",
        "outputId": "e0787123-c769-40f2-c70c-209284ba3c0a"
      },
      "outputs": [
        {
          "output_type": "error",
          "ename": "FileNotFoundError",
          "evalue": "ignored",
          "traceback": [
            "\u001b[0;31m---------------------------------------------------------------------------\u001b[0m",
            "\u001b[0;31mFileNotFoundError\u001b[0m                         Traceback (most recent call last)",
            "\u001b[0;32m<ipython-input-63-6b0d88bfd492>\u001b[0m in \u001b[0;36m<module>\u001b[0;34m\u001b[0m\n\u001b[1;32m      1\u001b[0m \u001b[0;31m#xls .read_excel(): excel파일을 읽어 DataFrame type으로 자동으로 저장\u001b[0m\u001b[0;34m\u001b[0m\u001b[0;34m\u001b[0m\u001b[0;34m\u001b[0m\u001b[0m\n\u001b[0;32m----> 2\u001b[0;31m \u001b[0mdf0\u001b[0m\u001b[0;34m=\u001b[0m \u001b[0mpd\u001b[0m\u001b[0;34m.\u001b[0m\u001b[0mread_excel\u001b[0m\u001b[0;34m(\u001b[0m\u001b[0;34m'pdx101.xlsx'\u001b[0m\u001b[0;34m,\u001b[0m\u001b[0msheet_name\u001b[0m\u001b[0;34m=\u001b[0m\u001b[0;34m'Sheet1'\u001b[0m\u001b[0;34m)\u001b[0m\u001b[0;34m\u001b[0m\u001b[0;34m\u001b[0m\u001b[0m\n\u001b[0m\u001b[1;32m      3\u001b[0m \u001b[0mprint\u001b[0m\u001b[0;34m(\u001b[0m\u001b[0mtype\u001b[0m\u001b[0;34m(\u001b[0m\u001b[0mdf0\u001b[0m\u001b[0;34m)\u001b[0m\u001b[0;34m,\u001b[0m \u001b[0;34m'\\n'\u001b[0m\u001b[0;34m)\u001b[0m\u001b[0;34m\u001b[0m\u001b[0;34m\u001b[0m\u001b[0m\n\u001b[1;32m      4\u001b[0m \u001b[0;34m\u001b[0m\u001b[0m\n\u001b[1;32m      5\u001b[0m \u001b[0mprint\u001b[0m\u001b[0;34m(\u001b[0m\u001b[0mdf0\u001b[0m\u001b[0;34m.\u001b[0m\u001b[0mshape\u001b[0m\u001b[0;34m,\u001b[0m \u001b[0;34m'\\n'\u001b[0m\u001b[0;34m)\u001b[0m\u001b[0;34m\u001b[0m\u001b[0;34m\u001b[0m\u001b[0m\n",
            "\u001b[0;32m/usr/local/lib/python3.8/dist-packages/pandas/util/_decorators.py\u001b[0m in \u001b[0;36mwrapper\u001b[0;34m(*args, **kwargs)\u001b[0m\n\u001b[1;32m    309\u001b[0m                     \u001b[0mstacklevel\u001b[0m\u001b[0;34m=\u001b[0m\u001b[0mstacklevel\u001b[0m\u001b[0;34m,\u001b[0m\u001b[0;34m\u001b[0m\u001b[0;34m\u001b[0m\u001b[0m\n\u001b[1;32m    310\u001b[0m                 )\n\u001b[0;32m--> 311\u001b[0;31m             \u001b[0;32mreturn\u001b[0m \u001b[0mfunc\u001b[0m\u001b[0;34m(\u001b[0m\u001b[0;34m*\u001b[0m\u001b[0margs\u001b[0m\u001b[0;34m,\u001b[0m \u001b[0;34m**\u001b[0m\u001b[0mkwargs\u001b[0m\u001b[0;34m)\u001b[0m\u001b[0;34m\u001b[0m\u001b[0;34m\u001b[0m\u001b[0m\n\u001b[0m\u001b[1;32m    312\u001b[0m \u001b[0;34m\u001b[0m\u001b[0m\n\u001b[1;32m    313\u001b[0m         \u001b[0;32mreturn\u001b[0m \u001b[0mwrapper\u001b[0m\u001b[0;34m\u001b[0m\u001b[0;34m\u001b[0m\u001b[0m\n",
            "\u001b[0;32m/usr/local/lib/python3.8/dist-packages/pandas/io/excel/_base.py\u001b[0m in \u001b[0;36mread_excel\u001b[0;34m(io, sheet_name, header, names, index_col, usecols, squeeze, dtype, engine, converters, true_values, false_values, skiprows, nrows, na_values, keep_default_na, na_filter, verbose, parse_dates, date_parser, thousands, comment, skipfooter, convert_float, mangle_dupe_cols, storage_options)\u001b[0m\n\u001b[1;32m    362\u001b[0m     \u001b[0;32mif\u001b[0m \u001b[0;32mnot\u001b[0m \u001b[0misinstance\u001b[0m\u001b[0;34m(\u001b[0m\u001b[0mio\u001b[0m\u001b[0;34m,\u001b[0m \u001b[0mExcelFile\u001b[0m\u001b[0;34m)\u001b[0m\u001b[0;34m:\u001b[0m\u001b[0;34m\u001b[0m\u001b[0;34m\u001b[0m\u001b[0m\n\u001b[1;32m    363\u001b[0m         \u001b[0mshould_close\u001b[0m \u001b[0;34m=\u001b[0m \u001b[0;32mTrue\u001b[0m\u001b[0;34m\u001b[0m\u001b[0;34m\u001b[0m\u001b[0m\n\u001b[0;32m--> 364\u001b[0;31m         \u001b[0mio\u001b[0m \u001b[0;34m=\u001b[0m \u001b[0mExcelFile\u001b[0m\u001b[0;34m(\u001b[0m\u001b[0mio\u001b[0m\u001b[0;34m,\u001b[0m \u001b[0mstorage_options\u001b[0m\u001b[0;34m=\u001b[0m\u001b[0mstorage_options\u001b[0m\u001b[0;34m,\u001b[0m \u001b[0mengine\u001b[0m\u001b[0;34m=\u001b[0m\u001b[0mengine\u001b[0m\u001b[0;34m)\u001b[0m\u001b[0;34m\u001b[0m\u001b[0;34m\u001b[0m\u001b[0m\n\u001b[0m\u001b[1;32m    365\u001b[0m     \u001b[0;32melif\u001b[0m \u001b[0mengine\u001b[0m \u001b[0;32mand\u001b[0m \u001b[0mengine\u001b[0m \u001b[0;34m!=\u001b[0m \u001b[0mio\u001b[0m\u001b[0;34m.\u001b[0m\u001b[0mengine\u001b[0m\u001b[0;34m:\u001b[0m\u001b[0;34m\u001b[0m\u001b[0;34m\u001b[0m\u001b[0m\n\u001b[1;32m    366\u001b[0m         raise ValueError(\n",
            "\u001b[0;32m/usr/local/lib/python3.8/dist-packages/pandas/io/excel/_base.py\u001b[0m in \u001b[0;36m__init__\u001b[0;34m(self, path_or_buffer, engine, storage_options)\u001b[0m\n\u001b[1;32m   1189\u001b[0m                 \u001b[0mext\u001b[0m \u001b[0;34m=\u001b[0m \u001b[0;34m\"xls\"\u001b[0m\u001b[0;34m\u001b[0m\u001b[0;34m\u001b[0m\u001b[0m\n\u001b[1;32m   1190\u001b[0m             \u001b[0;32melse\u001b[0m\u001b[0;34m:\u001b[0m\u001b[0;34m\u001b[0m\u001b[0;34m\u001b[0m\u001b[0m\n\u001b[0;32m-> 1191\u001b[0;31m                 ext = inspect_excel_format(\n\u001b[0m\u001b[1;32m   1192\u001b[0m                     \u001b[0mcontent_or_path\u001b[0m\u001b[0;34m=\u001b[0m\u001b[0mpath_or_buffer\u001b[0m\u001b[0;34m,\u001b[0m \u001b[0mstorage_options\u001b[0m\u001b[0;34m=\u001b[0m\u001b[0mstorage_options\u001b[0m\u001b[0;34m\u001b[0m\u001b[0;34m\u001b[0m\u001b[0m\n\u001b[1;32m   1193\u001b[0m                 )\n",
            "\u001b[0;32m/usr/local/lib/python3.8/dist-packages/pandas/io/excel/_base.py\u001b[0m in \u001b[0;36minspect_excel_format\u001b[0;34m(content_or_path, storage_options)\u001b[0m\n\u001b[1;32m   1068\u001b[0m         \u001b[0mcontent_or_path\u001b[0m \u001b[0;34m=\u001b[0m \u001b[0mBytesIO\u001b[0m\u001b[0;34m(\u001b[0m\u001b[0mcontent_or_path\u001b[0m\u001b[0;34m)\u001b[0m\u001b[0;34m\u001b[0m\u001b[0;34m\u001b[0m\u001b[0m\n\u001b[1;32m   1069\u001b[0m \u001b[0;34m\u001b[0m\u001b[0m\n\u001b[0;32m-> 1070\u001b[0;31m     with get_handle(\n\u001b[0m\u001b[1;32m   1071\u001b[0m         \u001b[0mcontent_or_path\u001b[0m\u001b[0;34m,\u001b[0m \u001b[0;34m\"rb\"\u001b[0m\u001b[0;34m,\u001b[0m \u001b[0mstorage_options\u001b[0m\u001b[0;34m=\u001b[0m\u001b[0mstorage_options\u001b[0m\u001b[0;34m,\u001b[0m \u001b[0mis_text\u001b[0m\u001b[0;34m=\u001b[0m\u001b[0;32mFalse\u001b[0m\u001b[0;34m\u001b[0m\u001b[0;34m\u001b[0m\u001b[0m\n\u001b[1;32m   1072\u001b[0m     ) as handle:\n",
            "\u001b[0;32m/usr/local/lib/python3.8/dist-packages/pandas/io/common.py\u001b[0m in \u001b[0;36mget_handle\u001b[0;34m(path_or_buf, mode, encoding, compression, memory_map, is_text, errors, storage_options)\u001b[0m\n\u001b[1;32m    709\u001b[0m         \u001b[0;32melse\u001b[0m\u001b[0;34m:\u001b[0m\u001b[0;34m\u001b[0m\u001b[0;34m\u001b[0m\u001b[0m\n\u001b[1;32m    710\u001b[0m             \u001b[0;31m# Binary mode\u001b[0m\u001b[0;34m\u001b[0m\u001b[0;34m\u001b[0m\u001b[0;34m\u001b[0m\u001b[0m\n\u001b[0;32m--> 711\u001b[0;31m             \u001b[0mhandle\u001b[0m \u001b[0;34m=\u001b[0m \u001b[0mopen\u001b[0m\u001b[0;34m(\u001b[0m\u001b[0mhandle\u001b[0m\u001b[0;34m,\u001b[0m \u001b[0mioargs\u001b[0m\u001b[0;34m.\u001b[0m\u001b[0mmode\u001b[0m\u001b[0;34m)\u001b[0m\u001b[0;34m\u001b[0m\u001b[0;34m\u001b[0m\u001b[0m\n\u001b[0m\u001b[1;32m    712\u001b[0m         \u001b[0mhandles\u001b[0m\u001b[0;34m.\u001b[0m\u001b[0mappend\u001b[0m\u001b[0;34m(\u001b[0m\u001b[0mhandle\u001b[0m\u001b[0;34m)\u001b[0m\u001b[0;34m\u001b[0m\u001b[0;34m\u001b[0m\u001b[0m\n\u001b[1;32m    713\u001b[0m \u001b[0;34m\u001b[0m\u001b[0m\n",
            "\u001b[0;31mFileNotFoundError\u001b[0m: [Errno 2] No such file or directory: 'pdx101.xlsx'"
          ]
        }
      ],
      "source": [
        "#xls .read_excel(): excel파일을 읽어 DataFrame type으로 자동으로 저장\n",
        "df0= pd.read_excel('pdx101.xlsx',sheet_name='Sheet1')\n",
        "print(type(df0), '\\n')\n",
        "\n",
        "print(df0.shape, '\\n')\n",
        "\n",
        "display(df0)\n",
        "\n",
        "#import xlrd\n",
        "#df0= pd.read_excel('경로.파일.xlsx',sheet_name='Sheet1')"
      ]
    },
    {
      "cell_type": "markdown",
      "metadata": {
        "id": "tr0fIutG1vY_"
      },
      "source": [
        "#### csv 파일 불러오기 "
      ]
    },
    {
      "cell_type": "code",
      "execution_count": null,
      "metadata": {
        "id": "yZg7fDmx1vY_"
      },
      "outputs": [],
      "source": [
        "# .read_csv(): csv 파일을 읽어 DataFrame type으로 자동으로 저장\n",
        "df = pd.read_csv('https://github.com/QuantEcon/QuantEcon.lectures.code/raw/master/pandas/data/test_pwt.csv')\n",
        "print(type(df), '\\n')\n",
        "\n",
        "print(df.shape, '\\n')\n",
        "\n",
        "display(df)"
      ]
    },
    {
      "cell_type": "markdown",
      "source": [
        "### 객체 간 연산"
      ],
      "metadata": {
        "id": "jPkOvMAd3PgR"
      }
    },
    {
      "cell_type": "markdown",
      "source": [
        "#### 덧셈 / 뺄셈\n",
        "df.add(other, axis='columns', level=None, fill_value=None)  \n",
        "\n",
        "*   axis : 더할 레이블을 설정합니다. 0은 행(index), 1은 열 입니다. ※Series일 경우 Index와 일치시킬 축   \n",
        "*   other : 데이터프레임이나, Series, 스칼라 등 데이터가 올 수 있습니다. 더할 값입니다.  \n",
        "*   level : multiIndex에서 계산할 Index의 레벨입니다.  \n",
        "*   fill_value : NaN 값등의 누락 요소를 계산 전에 이 값으로 대체합니다.  \n",
        "\n",
        "\n"
      ],
      "metadata": {
        "id": "IXjbGsTG3Xz7"
      }
    },
    {
      "cell_type": "markdown",
      "source": [
        "스칼라 값 더하기"
      ],
      "metadata": {
        "id": "RB7C9V2F37KT"
      }
    },
    {
      "cell_type": "code",
      "source": [
        "data = [[1,10,100],[2,20,200],[3,30,300]]\n",
        "col = ['col1','col2','col3']\n",
        "row = ['row1','row2','row3']\n",
        "df = pd.DataFrame(data=data,index=row,columns=col)\n",
        "print(df)"
      ],
      "metadata": {
        "id": "jKgk6jI03zjq"
      },
      "execution_count": null,
      "outputs": []
    },
    {
      "cell_type": "code",
      "source": [
        "result = df.add(1)\n",
        "print(result)"
      ],
      "metadata": {
        "id": "XqVWO8P0338q"
      },
      "execution_count": null,
      "outputs": []
    },
    {
      "cell_type": "code",
      "source": [
        "result = df+1\n",
        "print(result)"
      ],
      "metadata": {
        "id": "jhIIuo614KX0"
      },
      "execution_count": null,
      "outputs": []
    },
    {
      "cell_type": "markdown",
      "source": [
        "다른 DataFrame 객체를 더하기"
      ],
      "metadata": {
        "id": "KpOqrZaN3-wL"
      }
    },
    {
      "cell_type": "code",
      "source": [
        "data2  = [[3],[4],[5]]\n",
        "df2 = pd.DataFrame(data=data2,index=['row1','row2','row3'],columns=['col1'])\n",
        "print(df2)"
      ],
      "metadata": {
        "id": "zdtgw4Tu39kD"
      },
      "execution_count": null,
      "outputs": []
    },
    {
      "cell_type": "code",
      "source": [
        "result = df.add(df2)\n",
        "print(result)"
      ],
      "metadata": {
        "id": "dPt9rCwd4F27"
      },
      "execution_count": null,
      "outputs": []
    },
    {
      "cell_type": "code",
      "source": [
        "result = df.add(df2,fill_value=0)\n",
        "print(result)"
      ],
      "metadata": {
        "id": "gOH10pTR4Q5e"
      },
      "execution_count": null,
      "outputs": []
    },
    {
      "cell_type": "markdown",
      "source": [
        "오류가 뜨지 않게 하기 위해서 fill-value값인 0으로 채워넣은 뒤 계산을 진행 "
      ],
      "metadata": {
        "id": "ivJNVhAM4Rvw"
      }
    },
    {
      "cell_type": "markdown",
      "source": [
        "뺄셈의 경우에는 sub라는 함수로 바꾸고 똑같은 문법으로 적용 가능 "
      ],
      "metadata": {
        "id": "8IUHIxkk5ok3"
      }
    },
    {
      "cell_type": "markdown",
      "source": [
        "#### 곱셈 / 나눗셈\n",
        "df.mul(other, axis='columns', level=None, fill_value=None)\n",
        "*   other : 데이터프레임이나, Series, 스칼라 등 데이터가 올 수 있습니다. 곱할 값입니다.\n",
        "*   곱할 레이블을 설정합니다. 0은 행(index), 1은 열 입니다. ※Series일 경우 Index와 일치시킬 축\n",
        "*   multiIndex에서 계산할 Index의 레벨입니다.\n",
        "*   NaN 값등의 누락 요소를 계산 전에 이 값으로 대체합니다.\n",
        "\n"
      ],
      "metadata": {
        "id": "YRCx-bic3tpU"
      }
    },
    {
      "cell_type": "code",
      "source": [
        "data = [[1,10,100],[2,20,200],[3,30,300]]\n",
        "col = ['col1','col2','col3']\n",
        "row = ['row1','row2','row3']\n",
        "df = pd.DataFrame(data=data,index=row,columns=col)\n",
        "print(df)"
      ],
      "metadata": {
        "colab": {
          "base_uri": "https://localhost:8080/"
        },
        "id": "C3d9-oyI4_q2",
        "outputId": "bc6a75a5-8f82-4efd-a2ec-5dbb7ab52d0d"
      },
      "execution_count": null,
      "outputs": [
        {
          "output_type": "stream",
          "name": "stdout",
          "text": [
            "      col1  col2  col3\n",
            "row1     1    10   100\n",
            "row2     2    20   200\n",
            "row3     3    30   300\n"
          ]
        }
      ]
    },
    {
      "cell_type": "markdown",
      "source": [
        "스칼라 값 곱하기"
      ],
      "metadata": {
        "id": "yhbNTaQb5TLv"
      }
    },
    {
      "cell_type": "code",
      "source": [
        "result = df.mul(2)\n",
        "print(result)"
      ],
      "metadata": {
        "colab": {
          "base_uri": "https://localhost:8080/"
        },
        "id": "yu_fQzZf5Qn4",
        "outputId": "a62686a6-9659-4c6d-cf69-5621681f34d4"
      },
      "execution_count": null,
      "outputs": [
        {
          "output_type": "stream",
          "name": "stdout",
          "text": [
            "      col1  col2  col3\n",
            "row1     2    20   200\n",
            "row2     4    40   400\n",
            "row3     6    60   600\n"
          ]
        }
      ]
    },
    {
      "cell_type": "code",
      "source": [
        "result = df*2\n",
        "print(result)"
      ],
      "metadata": {
        "id": "UUSEKB-x5VlA"
      },
      "execution_count": null,
      "outputs": []
    },
    {
      "cell_type": "markdown",
      "source": [
        "다른 DataFrame객체를 곱하기"
      ],
      "metadata": {
        "id": "Qp7KYGCo5Wv8"
      }
    },
    {
      "cell_type": "code",
      "source": [
        "data2  = [[3],[4],[5]]\n",
        "df2 = pd.DataFrame(data=data2,index=['row1','row2','row3'],columns=['col1'])\n",
        "print(df2)"
      ],
      "metadata": {
        "id": "y1dMvcoe5YQJ"
      },
      "execution_count": null,
      "outputs": []
    },
    {
      "cell_type": "code",
      "source": [
        "result = df.mul(df2)\n",
        "print(result)"
      ],
      "metadata": {
        "id": "2pio684v5b8P"
      },
      "execution_count": null,
      "outputs": []
    },
    {
      "cell_type": "code",
      "source": [
        "result = df.mul(df2,fill_value=0)\n",
        "print(result)"
      ],
      "metadata": {
        "id": "8N7AeOVO5fmh"
      },
      "execution_count": null,
      "outputs": []
    },
    {
      "cell_type": "markdown",
      "source": [
        "덧셈의 형태와 거의 비슷한 것을 확인 할 수 있다."
      ],
      "metadata": {
        "id": "MVj_DX5L5gno"
      }
    },
    {
      "cell_type": "markdown",
      "source": [
        "나눗셈의 경우 div라는 함수를 쓰고 문법도 똑같이 적용하면 같다."
      ],
      "metadata": {
        "id": "pTY2DMId5xfI"
      }
    },
    {
      "cell_type": "markdown",
      "source": [
        "나머지 , 거듭제곱 의 경우에도 똑같은 문법으로 적용 \n",
        "\n",
        "*   나머지 : mod\n",
        "*   거듭제곱 : pow\n",
        "\n"
      ],
      "metadata": {
        "id": "5EZC0XhY5-Wi"
      }
    },
    {
      "cell_type": "markdown",
      "metadata": {
        "id": "rT3KqjFC1vZA"
      },
      "source": [
        "#### DataFrame의 indexing과 slicing"
      ]
    },
    {
      "cell_type": "code",
      "execution_count": null,
      "metadata": {
        "scrolled": false,
        "id": "XsGws5hG1vZA"
      },
      "outputs": [],
      "source": [
        "# indexing: column 기준\n",
        "\n",
        "# df['column'], Series로 반환\n",
        "print(df['country'])  # == df.country\n",
        "\n",
        "# df[['column1', 'column2']], DataFrame으로 반환\n",
        "df[['country', 'tcgdp']]"
      ]
    },
    {
      "cell_type": "code",
      "execution_count": null,
      "metadata": {
        "id": "WYJPSc8i1vZA"
      },
      "outputs": [],
      "source": [
        "# slicing: row 기준\n",
        "df[2:5]"
      ]
    },
    {
      "cell_type": "code",
      "execution_count": null,
      "metadata": {
        "id": "OVSHLs-S1vZB"
      },
      "outputs": [],
      "source": [
        "# .iloc[]: int index 접근 (행 번호를 기준으로 행 데이터를 추출)\n",
        "display(df.iloc[2:5, 0:4])   \n",
        "\n",
        "# .loc[]: str index 접근 (인덱스를 기준으로 행 데이터를 추출) \n",
        "display(df.loc[df.index[2:5], ['country', 'tcgdp']])"
      ]
    },
    {
      "cell_type": "markdown",
      "metadata": {
        "id": "mHah78qk1vZB"
      },
      "source": [
        "#### DataFrame의 data 수정하기"
      ]
    },
    {
      "cell_type": "code",
      "execution_count": null,
      "metadata": {
        "id": "TeWb0lMy1vZB"
      },
      "outputs": [],
      "source": [
        "# 관심있는 변수: 인구, 총 GDP\n",
        "\n",
        "# DataFrame 압축 후 덮어쓰기\n",
        "df = df[['country', 'POP', 'tcgdp']]\n",
        "print(type(df))\n",
        "display(df)"
      ]
    },
    {
      "cell_type": "code",
      "execution_count": null,
      "metadata": {
        "id": "mQXaDvfP1vZB"
      },
      "outputs": [],
      "source": [
        "# index명 변경\n",
        "# .set_index(): 특정 column을 index로 설정\n",
        "df = df.set_index('country')\n",
        "display(df)\n",
        "\n",
        "# column명 변경\n",
        "df.columns = 'population', 'total GDP'\n",
        "# == df.rename(columns = {'POP':'population', 'tcgdp':'total GDP'}, inplace = True)\n",
        "display(df)"
      ]
    },
    {
      "cell_type": "code",
      "execution_count": null,
      "metadata": {
        "id": "F7AHzmyR1vZC"
      },
      "outputs": [],
      "source": [
        "# 인구 단위 변환\n",
        "# data 연산\n",
        "df['population'] = df['population']*1e3\n",
        "display(df)\n",
        "\n",
        "# 1인당 GDP data 추가\n",
        "# data 연산과 column 추가  \n",
        "df['GDP percap'] = df['total GDP']*1e6/df['population']\n",
        "display(df) "
      ]
    },
    {
      "cell_type": "markdown",
      "metadata": {
        "id": "nSuP3Ih11vZC"
      },
      "source": [
        "#### DataFrame 차트 그리기 ( Plotting )\n",
        "matplotlib은 List, Array, Series, DataFrame의 데이터를 활용한 데이터 시각화를 제공한다."
      ]
    },
    {
      "cell_type": "markdown",
      "source": [
        "Example 1"
      ],
      "metadata": {
        "id": "JZvhsLSXqZ3B"
      }
    },
    {
      "cell_type": "code",
      "execution_count": null,
      "metadata": {
        "id": "kBno60tQ1vZC"
      },
      "outputs": [],
      "source": [
        "# 1인당 GDP 막대 그래프 \n",
        "\n",
        "# 차트를 그리기 위해 필요한 module import\n",
        "import matplotlib.pyplot as plt\n",
        "# plotting 옵션 \n",
        "%matplotlib inline # 브라우저에서 바로 그림을 볼 수 있게 해주는 역할   \n",
        "\n",
        "df['GDP percap'].plot(kind='bar')"
      ]
    },
    {
      "cell_type": "code",
      "execution_count": null,
      "metadata": {
        "id": "p8lXqNbE1vZC"
      },
      "outputs": [],
      "source": [
        "# 1인당 GDP 내림차순 정렬 막대 그래프 \n",
        "\n",
        "# .sort_values(by = 'column', ascending = False): column을 내림차순으로 데이터 정렬\n",
        "df = df.sort_values(by = 'GDP percap', ascending = False)\n",
        "\n",
        "df['GDP percap'].plot(kind='bar')"
      ]
    },
    {
      "cell_type": "markdown",
      "source": [
        "Example 2"
      ],
      "metadata": {
        "id": "tXGzT5z_qb8J"
      }
    },
    {
      "cell_type": "code",
      "source": [
        "val = np.linspace(0,100,101)\n",
        "sin = np.sin(np.pi/25*val)\n",
        "tan = np.tan(np.pi/25*val)\n",
        "df = pd.DataFrame(data={'val':val,'sin':sin,'tan':tan})"
      ],
      "metadata": {
        "id": "ykNTZKxWqYZR"
      },
      "execution_count": null,
      "outputs": []
    },
    {
      "cell_type": "code",
      "source": [
        "df2 = df.loc[:,['sin','tan']]\n",
        "print(df2)"
      ],
      "metadata": {
        "id": "jfZm1YkkqgBT"
      },
      "execution_count": null,
      "outputs": []
    },
    {
      "cell_type": "markdown",
      "source": [
        "기본적인 형태"
      ],
      "metadata": {
        "id": "xvZtTh5hq-xo"
      }
    },
    {
      "cell_type": "code",
      "source": [
        "df2.plot()\n",
        "plt.show()"
      ],
      "metadata": {
        "id": "ZZ5X9ZW5q-Zf"
      },
      "execution_count": null,
      "outputs": []
    },
    {
      "cell_type": "markdown",
      "source": [
        "kind 인수를 통해 원하는 형태의 그래프를 출력할 수 있으며 x,y로 해당 그래프의 x와 y 지정할 수 있다.  \n",
        "{line / bar / barh : 가로 막대 그래프 / hist / box / kde : 밀도그래프 / density : 밀도플롯 / area / pie / scatter / hexbin : 고밀도 산점도 그래프}"
      ],
      "metadata": {
        "id": "lvfjy72YrJJG"
      }
    },
    {
      "cell_type": "code",
      "source": [
        "df.plot(kind='line',x='val',y='sin')\n",
        "plt.show()"
      ],
      "metadata": {
        "id": "ENVRITSMrIfP"
      },
      "execution_count": null,
      "outputs": []
    },
    {
      "cell_type": "code",
      "source": [
        "fig, ax = plt.subplots(2)\n",
        "df.plot(kind='line',x='val',y='sin',ax=ax[0])\n",
        "df.plot(kind='line',x='val',y='tan',ax=ax[1])"
      ],
      "metadata": {
        "id": "Qv1YndpVsFKO"
      },
      "execution_count": null,
      "outputs": []
    },
    {
      "cell_type": "markdown",
      "source": [
        "ax로 구분한 axes를 2칸짜리 subplot에 배열한것을 확인할 수 있다.( R로 치면 mfrow 문법 )"
      ],
      "metadata": {
        "id": "Yb0dMQf-sWmu"
      }
    },
    {
      "cell_type": "code",
      "source": [
        "df2.plot(subplots=True)\n",
        "plt.show()"
      ],
      "metadata": {
        "id": "40clSBoSsm3x"
      },
      "execution_count": null,
      "outputs": []
    },
    {
      "cell_type": "markdown",
      "source": [
        "위에 ax 대신 간단하게 subplots를 붙여주면 알아서 다 해준다."
      ],
      "metadata": {
        "id": "gSe6OfJ8s34J"
      }
    },
    {
      "cell_type": "code",
      "source": [
        "df2.plot(subplots=True,layout=(2,2))\n",
        "plt.show"
      ],
      "metadata": {
        "id": "4hzq_1BGs8jN"
      },
      "execution_count": null,
      "outputs": []
    },
    {
      "cell_type": "markdown",
      "source": [
        "fig가 2*2짜리 subplot으로 설정된 것을 확인할 수 있다."
      ],
      "metadata": {
        "id": "tL7k6UgWtcB2"
      }
    },
    {
      "cell_type": "code",
      "source": [
        "df2.plot(figsize=(10,4))\n",
        "plt.show()"
      ],
      "metadata": {
        "id": "wr1XLsHZtZNm"
      },
      "execution_count": null,
      "outputs": []
    },
    {
      "cell_type": "markdown",
      "source": [
        "여기서 fig란 그래프의 크기를 의미하고 단위는 inch이다."
      ],
      "metadata": {
        "id": "llqbbeKbtlMt"
      }
    },
    {
      "cell_type": "code",
      "source": [
        "df2.plot(title=\"Pandas plot method\",grid=True)\n",
        "plt.show()"
      ],
      "metadata": {
        "id": "PjGFRPUitrD4"
      },
      "execution_count": null,
      "outputs": []
    },
    {
      "cell_type": "markdown",
      "source": [
        "title = 제목 / grid = 구분선"
      ],
      "metadata": {
        "id": "GrCR8WB3t22F"
      }
    },
    {
      "cell_type": "code",
      "source": [
        "df2.plot(linestyle='dashed')\n",
        "plt.show()"
      ],
      "metadata": {
        "id": "U_LhcHyEt5Tz"
      },
      "execution_count": null,
      "outputs": []
    },
    {
      "cell_type": "markdown",
      "source": [
        "linestyle : 그래프의 선 스타일을 지정할 수 있다.   \n",
        "(선 종류 참조 : https://matplotlib.org/stable/gallery/lines_bars_and_markers/linestyles.html)\n"
      ],
      "metadata": {
        "id": "f8SAxqaSuCNh"
      }
    },
    {
      "cell_type": "code",
      "source": [
        "df2.plot(logx=True,logy=True)\n",
        "plt.show()"
      ],
      "metadata": {
        "id": "WzT9gk7UuMZU"
      },
      "execution_count": null,
      "outputs": []
    },
    {
      "cell_type": "markdown",
      "source": [
        "log 인수를 이용해 각 축의 표시형식을 log스케일로 변경가능."
      ],
      "metadata": {
        "id": "rK3PUreTuSpz"
      }
    },
    {
      "cell_type": "code",
      "source": [
        "df.plot(kind='line',x='val',y='sin',xticks=[0,50,100],yticks=[0,0.5,1])\n",
        "plt.show()"
      ],
      "metadata": {
        "id": "KoSiN7M-uWKe"
      },
      "execution_count": null,
      "outputs": []
    },
    {
      "cell_type": "markdown",
      "source": [
        "x축 , y축에 리스트형태로 특정 눈금의 값을 출력 할 수 있다."
      ],
      "metadata": {
        "id": "5DnKKPkeuhwc"
      }
    },
    {
      "cell_type": "code",
      "source": [
        "df.plot(kind='line',x='val',y='sin',xticks=list(range(0,100,50)),yticks=list(range(0,1,0.5)))"
      ],
      "metadata": {
        "id": "RlYOATJqvF8B"
      },
      "execution_count": null,
      "outputs": []
    },
    {
      "cell_type": "code",
      "source": [
        "df.plot(kind='line',x='val',y='sin',xlim=[30,80],ylim=[0.25,0.75])"
      ],
      "metadata": {
        "id": "nH2ATsujumX1"
      },
      "execution_count": null,
      "outputs": []
    },
    {
      "cell_type": "markdown",
      "source": [
        "x축으로는 30 ~ 80의 범위가 , y축으로는 0.25 ~ 0.75의 범위가 출력 된 것을 확인 할 수 있다."
      ],
      "metadata": {
        "id": "A122J9HivzN0"
      }
    },
    {
      "cell_type": "code",
      "source": [
        "df2.plot(xlabel='Width',ylabel='Height')\n",
        "plt.show()"
      ],
      "metadata": {
        "id": "8Cq32HDBvygE"
      },
      "execution_count": null,
      "outputs": []
    },
    {
      "cell_type": "markdown",
      "source": [
        "각 축의 이름이 출력 된 것을 확인 할 수 있다."
      ],
      "metadata": {
        "id": "2wylIF3BwIyl"
      }
    },
    {
      "cell_type": "code",
      "source": [
        "df2.plot(rot=45,fontsize=20)"
      ],
      "metadata": {
        "id": "DYTPGfITwLVK"
      },
      "execution_count": null,
      "outputs": []
    },
    {
      "cell_type": "markdown",
      "source": [
        "눈금값의 기울기가 45도 , 눈금값의 크기가 20으로 변경된 것을 확인할 수 있다. "
      ],
      "metadata": {
        "id": "Roi_nQ4gwSAG"
      }
    },
    {
      "cell_type": "code",
      "source": [
        "data = {'x_value':[4,7,3,1,2],'y_value':[1,2,3,4,5],'color_bar':[0,1,2,3,4]}\n",
        "df3 = pd.DataFrame(data)\n",
        "df3.plot(kind='scatter',x='x_value',y='y_value',c='color_bar', colormap='cool',colorbar=True)"
      ],
      "metadata": {
        "id": "4j8_M9RuwvLR"
      },
      "execution_count": null,
      "outputs": []
    },
    {
      "cell_type": "markdown",
      "source": [
        "colormap은 출력되는 그래프의 값을 특정 색 범위로 표현하는 matplotlib의 기능  \n",
        "colorbar는 색에 해당하는 값의 범위를 막대 형태로 출력하는 기능 ( colorbar의 경우 c인수에 색의 값을 지정하는 열을 입력하여 가능 )"
      ],
      "metadata": {
        "id": "7-hSkZ1cw-xI"
      }
    },
    {
      "cell_type": "code",
      "source": [
        "data = {'x_value':[4,7,3,1,2],'y_value':[1,2,3,4,5],'color_bar':[0,1,2,3,4]}\n",
        "df3 = pd.DataFrame(data)\n",
        "fig, ax=plt.subplots(3) # 3칸짜리 subplot을 갖는 fig 개체 설정\n",
        "df3.plot(kind='bar',x='x_value',y='y_value',position=0,ax=ax[0])\n",
        "df3.plot(kind='bar',x='x_value',y='y_value',position=0.5,ax=ax[1])\n",
        "df3.plot(kind='bar',x='x_value',y='y_value',position=1,ax=ax[2]) \n",
        "plt.show()"
      ],
      "metadata": {
        "id": "a_XSaD9OxmOV"
      },
      "execution_count": null,
      "outputs": []
    },
    {
      "cell_type": "markdown",
      "source": [
        "position = 눈금의 위치를 조정할수 있는 함수이다. {좌측(0), 중(0.5), 우측(1)}"
      ],
      "metadata": {
        "id": "n6ZBs9bYxq0c"
      }
    },
    {
      "cell_type": "code",
      "source": [
        "data = {'x_value':[1,2,3,4,5],'y_value':[2,5,3,7,1],'err':[0.1,0.3,0.6,1.0,0.1]}\n",
        "df4 = pd.DataFrame(data)\n",
        "fig, ax=plt.subplots(2)\n",
        "df4.plot(kind='bar',x='x_value',y='y_value',yerr='err',ax=ax[0])\n",
        "df4.plot(kind='barh',x='x_value',y='y_value',xerr='err',ax=ax[1])\n",
        "plt.show()"
      ],
      "metadata": {
        "id": "vsUEYvPGxzcX"
      },
      "execution_count": null,
      "outputs": []
    },
    {
      "cell_type": "markdown",
      "source": [
        "기존 x_value / y_value 막대그래프에 대해서 작은 선 형태로 err 열이 오차범위로써 덧 씌워진 것을 확인할 수 있다."
      ],
      "metadata": {
        "id": "f-oYscPxx6SV"
      }
    },
    {
      "cell_type": "code",
      "source": [
        "data = {'x_value':[1,2,3,4,5],'y_value':[2,5,3,7,1],'err':[0.1,0.3,0.6,1.0,0.1]}\n",
        "df4 = pd.DataFrame(data)\n",
        "df4.plot(kind='bar',x='x_value',y=['y_value','err'],stacked=True)\n",
        "plt.show()"
      ],
      "metadata": {
        "id": "hJjcgWDpx8et"
      },
      "execution_count": null,
      "outputs": []
    },
    {
      "cell_type": "markdown",
      "source": [
        "y의 값을 리스트 형태로 두 컬럼을 입력하여 두 막대그래프를 출력하도록 한 다음 stacked=True로 하여 누적 막대그래프가 된 것을 확인할 수 있다."
      ],
      "metadata": {
        "id": "2oE2zFg1yB23"
      }
    },
    {
      "cell_type": "code",
      "source": [
        "data = {'x_value':[1,2,3,4,5],'y_value':[2,5,3,7,1],'err':[0.1,0.3,0.6,1.0,0.1]}\n",
        "df4 = pd.DataFrame(data)\n",
        "ax1 = df4.plot(x='x_value',y='y_value',color='Red',) # y_value를 ax1로 \n",
        "ax2 = df4.plot(x='x_value',y='err',ax=ax1,secondary_y=True) # err을 ax2로하여 ax1에 종속 및 보조축 설정\n",
        "ax1.set_ylabel('y_value') # 라벨 설정\n",
        "ax2.set_ylabel('err')"
      ],
      "metadata": {
        "id": "s0fkBNkXyJmn"
      },
      "execution_count": null,
      "outputs": []
    },
    {
      "cell_type": "markdown",
      "source": [
        "ax1를 생성하고 ax2를 ax1에 종속시키면서 secondary_y=True로 하여 우측에 보조축이 생성된 것을 확인할 수 있다."
      ],
      "metadata": {
        "id": "gcGO9PPgyKcH"
      }
    },
    {
      "cell_type": "markdown",
      "source": [
        "# 함수 적용 "
      ],
      "metadata": {
        "id": "51OtJ3I7O7Nk"
      }
    },
    {
      "cell_type": "markdown",
      "source": [
        "### 축 기준 ( apply )"
      ],
      "metadata": {
        "id": "BNze1qKzPCbD"
      }
    },
    {
      "cell_type": "markdown",
      "source": [
        "df.apply(func, axis=0, raw=False, result_type=None, args=(), kwargs)\n",
        "\n",
        "\n",
        "*   function : 각 행이나 열에 적용할 함수 입니다.\n",
        "*   axis : {0 : Index / 1 : columns} 함수를 적용할 축 입니다.\n",
        "*   row : {True : ndarray / False : Series} 함수에 전달할 축의 형식입니다.\n",
        "*   True면 ndarray형태로 전달하고 False면 Series형태로 전달합니다. 기본적으로 Series입니다.\n",
        "*   result_type : {expand / reduce / broadcast} 반환값의 형태를 결정합니다. expand이면 배열 형태를\n",
        "기준으로 열을 확장합니다.(기본 인덱스로), reduce인 경우는 그대로 Serise형태로 반환합니다.\n",
        "broadcase인 경우 기존 열 형식대로 확장하여 반환합니다.(열의 수가 같아야합니다.)"
      ],
      "metadata": {
        "id": "Ac6t13gpPVVV"
      }
    },
    {
      "cell_type": "markdown",
      "source": [
        "Example"
      ],
      "metadata": {
        "id": "K3gnSxnCPQb5"
      }
    },
    {
      "cell_type": "code",
      "source": [
        "col = ['col1','col2','col3']\n",
        "row = ['row1','row2','row3']\n",
        "data = [[1,2,3],[4,5,6],[7,8,9]]\n",
        "df = pd.DataFrame(data=data,index=row,columns=col)\n",
        "print(df)"
      ],
      "metadata": {
        "colab": {
          "base_uri": "https://localhost:8080/"
        },
        "id": "IbK4WQRgP3p6",
        "outputId": "3ed60f2b-4fae-4272-b980-b2119de52490"
      },
      "execution_count": null,
      "outputs": [
        {
          "output_type": "stream",
          "name": "stdout",
          "text": [
            "      col1  col2  col3\n",
            "row1     1     2     3\n",
            "row2     4     5     6\n",
            "row3     7     8     9\n"
          ]
        }
      ]
    },
    {
      "cell_type": "markdown",
      "source": [
        "**func의 성질에 따른 차이**  \n",
        "func항목이 np.sqrt처럼 축에대해 계산할 수 없는 형식이라면 아래와 같이 각 요소에 적용됩니다."
      ],
      "metadata": {
        "id": "337e0LwWYB5d"
      }
    },
    {
      "cell_type": "code",
      "source": [
        "print(df.apply(np.sqrt))"
      ],
      "metadata": {
        "colab": {
          "base_uri": "https://localhost:8080/"
        },
        "id": "fT7R2ADhTbSL",
        "outputId": "7af4d70e-0728-414d-e08f-7e626cf74157"
      },
      "execution_count": null,
      "outputs": [
        {
          "output_type": "stream",
          "name": "stdout",
          "text": [
            "          col1      col2      col3\n",
            "row1  1.000000  1.414214  1.732051\n",
            "row2  2.000000  2.236068  2.449490\n",
            "row3  2.645751  2.828427  3.000000\n"
          ]
        }
      ]
    },
    {
      "cell_type": "markdown",
      "source": [
        "np.sum처럼 축에대해 적용이 가능한경우라면 축 기준으로 연산을 수행합니다."
      ],
      "metadata": {
        "id": "-_VUilavYIcn"
      }
    },
    {
      "cell_type": "code",
      "source": [
        "print(df.apply(np.sum))"
      ],
      "metadata": {
        "colab": {
          "base_uri": "https://localhost:8080/"
        },
        "id": "HnrYgIJOYI10",
        "outputId": "498ffa51-a579-42c9-ade7-407bd9abf336"
      },
      "execution_count": null,
      "outputs": [
        {
          "output_type": "stream",
          "name": "stdout",
          "text": [
            "col1    12\n",
            "col2    15\n",
            "col3    18\n",
            "dtype: int64\n"
          ]
        }
      ]
    },
    {
      "cell_type": "markdown",
      "source": [
        "**axis에 따른 차이**  \n",
        "axis가 0인경우 Index(행)에 대해 연산을 수행하고, 1인경우는 columns(열)에 대해 연산을 수행합니다."
      ],
      "metadata": {
        "id": "jn2VB-v3YRHs"
      }
    },
    {
      "cell_type": "code",
      "source": [
        "print(df.apply(np.prod,axis=0))"
      ],
      "metadata": {
        "colab": {
          "base_uri": "https://localhost:8080/"
        },
        "id": "5qQSurC4YWT8",
        "outputId": "ebde1c8b-09ea-4009-8acd-5c4f7e42dea1"
      },
      "execution_count": null,
      "outputs": [
        {
          "output_type": "stream",
          "name": "stdout",
          "text": [
            "col1     28\n",
            "col2     80\n",
            "col3    162\n",
            "dtype: int64\n"
          ]
        }
      ]
    },
    {
      "cell_type": "code",
      "source": [
        "print(df.apply(np.prod,axis=1))"
      ],
      "metadata": {
        "colab": {
          "base_uri": "https://localhost:8080/"
        },
        "id": "yAYDca_YYe_7",
        "outputId": "d7ad4c3b-44cc-4538-d250-897be298c130"
      },
      "execution_count": null,
      "outputs": [
        {
          "output_type": "stream",
          "name": "stdout",
          "text": [
            "row1      6\n",
            "row2    120\n",
            "row3    504\n",
            "dtype: int64\n"
          ]
        }
      ]
    },
    {
      "cell_type": "markdown",
      "source": [
        "**result_type에 따른 차이**  \n",
        "먼저 lamba를 사용하여 기존 DataFrame에 [1,2,3]객체를 apply해보겠습니다."
      ],
      "metadata": {
        "id": "WbNYQK31Yi6z"
      }
    },
    {
      "cell_type": "code",
      "source": [
        "print(df.apply(lambda x : [1,2,3]))"
      ],
      "metadata": {
        "colab": {
          "base_uri": "https://localhost:8080/"
        },
        "id": "Wkws9sHPYnPL",
        "outputId": "85e4dbaf-d908-4203-ece5-65d5f5736b25"
      },
      "execution_count": null,
      "outputs": [
        {
          "output_type": "stream",
          "name": "stdout",
          "text": [
            "      col1  col2  col3\n",
            "row1     1     1     1\n",
            "row2     2     2     2\n",
            "row3     3     3     3\n"
          ]
        }
      ]
    },
    {
      "cell_type": "markdown",
      "source": [
        "result_type = 'expand'인 경우  \n",
        "func를 기준으로 확장하여 columns를 지정하게 되는것을 확인할 수 있습니다."
      ],
      "metadata": {
        "id": "dIl7Ck6wYxqk"
      }
    },
    {
      "cell_type": "code",
      "source": [
        "print(df.apply(lambda x : [1,2,3], axis=1,result_type='expand'))"
      ],
      "metadata": {
        "colab": {
          "base_uri": "https://localhost:8080/"
        },
        "id": "6RiJx5XJY_Hc",
        "outputId": "14554511-4e86-4cdc-fabf-6d0f77d57038"
      },
      "execution_count": null,
      "outputs": [
        {
          "output_type": "stream",
          "name": "stdout",
          "text": [
            "      0  1  2\n",
            "row1  1  2  3\n",
            "row2  1  2  3\n",
            "row3  1  2  3\n"
          ]
        }
      ]
    },
    {
      "cell_type": "markdown",
      "source": [
        "result_type = 'reduce'인 경우  \n",
        "func를 기준으로 축소하여 columns없이 Series 객체로 반환하는것을 확인할 수 있습니다."
      ],
      "metadata": {
        "id": "YgiunhufZGfY"
      }
    },
    {
      "cell_type": "code",
      "source": [
        "print(df.apply(lambda x : [1,2,3], axis=1,result_type='reduce'))"
      ],
      "metadata": {
        "colab": {
          "base_uri": "https://localhost:8080/"
        },
        "id": "cw2ly3tNZFgk",
        "outputId": "5e483216-456a-4d65-e4d2-d4f99c06fd70"
      },
      "execution_count": null,
      "outputs": [
        {
          "output_type": "stream",
          "name": "stdout",
          "text": [
            "row1    [1, 2, 3]\n",
            "row2    [1, 2, 3]\n",
            "row3    [1, 2, 3]\n",
            "dtype: object\n"
          ]
        }
      ]
    },
    {
      "cell_type": "markdown",
      "source": [
        "result_type = 'broadcast'인 경우  \n",
        "func를 기준으로 확장하되, columns는 기존 DataFrame의 것을 사용하는것을 확인할 수 있습니다."
      ],
      "metadata": {
        "id": "Ay452vEcZKWT"
      }
    },
    {
      "cell_type": "code",
      "source": [
        "print(df.apply(lambda x : [1,2,3], axis=1,result_type='broadcast'))"
      ],
      "metadata": {
        "colab": {
          "base_uri": "https://localhost:8080/"
        },
        "id": "pgn4hjKxZLYz",
        "outputId": "c342bf54-559b-473b-a878-7f1b1dbe7801"
      },
      "execution_count": null,
      "outputs": [
        {
          "output_type": "stream",
          "name": "stdout",
          "text": [
            "      col1  col2  col3\n",
            "row1     1     2     3\n",
            "row2     1     2     3\n",
            "row3     1     2     3\n"
          ]
        }
      ]
    },
    {
      "cell_type": "markdown",
      "source": [
        "### 요소별 ( applymap )"
      ],
      "metadata": {
        "id": "lJekSlSfZmm2"
      }
    },
    {
      "cell_type": "markdown",
      "source": [
        "위와는 달리 applymap의 경우에는 각 요소에 함수를 적용하는 메서드이다."
      ],
      "metadata": {
        "id": "GKtX0wqvZUyj"
      }
    },
    {
      "cell_type": "markdown",
      "source": [
        "df.apply(func, axis=0, raw=False, result_type=None, args=(), kwargs)  \n",
        "*   func : 단일 값을 반환하는 함수 입니다.\n",
        "*   na_action : {None / 'ignore} NaN의 무시 여부입니다. 'ignore'이면 NaN을 함수로 전달하지 않습니다.\n",
        "\n",
        "\n"
      ],
      "metadata": {
        "id": "4hfmPokAZasU"
      }
    },
    {
      "cell_type": "markdown",
      "source": [
        "Example"
      ],
      "metadata": {
        "id": "Lt6hK19OakeV"
      }
    },
    {
      "cell_type": "code",
      "source": [
        "col = ['col1','col2','col3']\n",
        "row = ['row1','row2','row3']\n",
        "data = [[1,2,3],[4,5,6],[7,pd.NA,9]]\n",
        "df = pd.DataFrame(data=data,index=row,columns=col)\n",
        "print(df)"
      ],
      "metadata": {
        "colab": {
          "base_uri": "https://localhost:8080/"
        },
        "id": "-sCxCoTWZrtL",
        "outputId": "6588fef2-47d1-41e1-8055-04da076d995e"
      },
      "execution_count": null,
      "outputs": [
        {
          "output_type": "stream",
          "name": "stdout",
          "text": [
            "      col1  col2  col3\n",
            "row1     1     2     3\n",
            "row2     4     5     6\n",
            "row3     7  <NA>     9\n"
          ]
        }
      ]
    },
    {
      "cell_type": "code",
      "source": [
        "print(df.applymap(lambda x : x**2,na_action='ignore'))"
      ],
      "metadata": {
        "colab": {
          "base_uri": "https://localhost:8080/"
        },
        "id": "nVrL1tdMZuRs",
        "outputId": "dcb0edfb-8d6c-40b0-a8e2-427bfbf537b4"
      },
      "execution_count": null,
      "outputs": [
        {
          "output_type": "stream",
          "name": "stdout",
          "text": [
            "      col1  col2  col3\n",
            "row1     1     4     9\n",
            "row2    16    25    36\n",
            "row3    49  <NA>    81\n"
          ]
        }
      ]
    },
    {
      "cell_type": "markdown",
      "source": [
        "### 함수내 함수 연속적용 ( pipe )"
      ],
      "metadata": {
        "id": "uEs1_ZaYZ6Lw"
      }
    },
    {
      "cell_type": "markdown",
      "source": [
        "df.pipe(func, args, kwargs)\n",
        "\n",
        "*   func : 함수입니다.\n",
        "*   arg : 함수의 인수입니다.\n",
        "*   \n",
        "kwargs : dict 형태의 함수의 인수입니다."
      ],
      "metadata": {
        "id": "qzC8uk3GZ-Lb"
      }
    },
    {
      "cell_type": "markdown",
      "source": [
        "만약 함수 3개가 아래와 같이 있다고 해봅니다.  \n",
        "f1(data, arg1), f2(data, arg1, arg2, f3(data, arg3)  \n",
        "f1 > f2 > f3 순서로 포함되게 함수를 사용한다고 하면 아래와 같이 함수를 사용해야 합니다.  \n",
        "df = f1( f2( f3( data,arg3='c'),arg2 = 'b1',arg3 = 'b2'),arg1 = 'a')  \n",
        "이는 어떤 arg가 어떤함수인지 직관적으로 볼 수 없습니다. 이때, pipe함수를 사용할 수 있습니다.  \n",
        "df = data.pipe(f3, arg3='c').pipe(f2, arg2='b1', arg3='b2').pipe(f3, arg3='c')"
      ],
      "metadata": {
        "id": "6Ouc1l7faNm_"
      }
    },
    {
      "cell_type": "markdown",
      "source": [
        "Example"
      ],
      "metadata": {
        "id": "_1S_7pCcydYo"
      }
    },
    {
      "cell_type": "code",
      "source": [
        "org_data = pd.DataFrame({'info':['삼성전자/3/70000','SK하이닉스/2/100000']})\n",
        "print(org_data)"
      ],
      "metadata": {
        "colab": {
          "base_uri": "https://localhost:8080/"
        },
        "id": "cFNwvzh4wup6",
        "outputId": "b35de7b9-e631-4754-a004-3620abbe9d70"
      },
      "execution_count": null,
      "outputs": [
        {
          "output_type": "stream",
          "name": "stdout",
          "text": [
            "              info\n",
            "0     삼성전자/3/70000\n",
            "1  SK하이닉스/2/100000\n"
          ]
        }
      ]
    },
    {
      "cell_type": "markdown",
      "source": [
        "code_name(data)는 (종목명/수량/가격) 형태인 문자열 data를 입력받아서 각각으로 분리하고 수량과 가격의 dtype을 int로 변경하는 함수입니다."
      ],
      "metadata": {
        "id": "vziheVY00bj8"
      }
    },
    {
      "cell_type": "code",
      "source": [
        "def code_name(data):\n",
        "    result = pd.DataFrame(columns = ['name','count','price']) \n",
        "    df = pd.DataFrame(list(data['info'].str.split('/'))) # '/ ' 로 구분하여 문자열을 나누어 리스트에 넣음\n",
        "    result['name'] = df[0] # 여기엔 첫번째 값인 이름이 입력\n",
        "    result['count']= df[1] # 여기엔 두번째 값인 수량이 입력\n",
        "    result['price']= df[2] # 여기엔 세번째 값인 가격이 입력\n",
        "    result = result.astype({'count':int,'price':int}) # count와 price를 int로 바꿈(기존str)\n",
        "    return result\n",
        "print(code_name(org_data))"
      ],
      "metadata": {
        "colab": {
          "base_uri": "https://localhost:8080/"
        },
        "id": "482nj84Vw_Dz",
        "outputId": "5c6e9dae-ba2f-4c98-e778-0e0984dad4d5"
      },
      "execution_count": null,
      "outputs": [
        {
          "output_type": "stream",
          "name": "stdout",
          "text": [
            "     name  count   price\n",
            "0    삼성전자      3   70000\n",
            "1  SK하이닉스      2  100000\n"
          ]
        }
      ]
    },
    {
      "cell_type": "markdown",
      "source": [
        "value_cal( data , unit = ' ' )은 가격과 수량을 곱한다음에 단위로 unit arg를 붙이는 함수입니다."
      ],
      "metadata": {
        "id": "cV9MDhTFz0Sb"
      }
    },
    {
      "cell_type": "code",
      "source": [
        "def value_cal(data,unit=''):\n",
        "    result = pd.DataFrame(columns=['name','value']) \n",
        "    result['name'] = data['name'] # 이름은 기존거를 가져옴\n",
        "    result['value']= data['count'] * data['price'] # value는 count * price를 입력함\n",
        "    result = result.astype({'value': str}) # value를 str로 변경(단위를 붙이기 위함)\n",
        "    result['value'] = result['value'] + unit # 단위를 붙임\n",
        "    return(result)\n",
        "\n",
        "input = code_name(org_data)\n",
        "print(value_cal(input,'원'))"
      ],
      "metadata": {
        "colab": {
          "base_uri": "https://localhost:8080/"
        },
        "id": "SXKzSIa6xseX",
        "outputId": "b1b5bb89-93f1-4313-a18b-5f0fcce5df3e"
      },
      "execution_count": null,
      "outputs": [
        {
          "output_type": "stream",
          "name": "stdout",
          "text": [
            "     name    value\n",
            "0    삼성전자  210000원\n",
            "1  SK하이닉스  200000원\n"
          ]
        }
      ]
    },
    {
      "cell_type": "code",
      "source": [
        "print(value_cal(code_name(org_data),'원'))"
      ],
      "metadata": {
        "colab": {
          "base_uri": "https://localhost:8080/"
        },
        "id": "6XmhN7m7x8l0",
        "outputId": "6c68f05a-2411-4d7d-b7e9-160ace7f6c21"
      },
      "execution_count": null,
      "outputs": [
        {
          "output_type": "stream",
          "name": "stdout",
          "text": [
            "     name    value\n",
            "0    삼성전자  210000원\n",
            "1  SK하이닉스  200000원\n"
          ]
        }
      ]
    },
    {
      "cell_type": "code",
      "source": [
        "print(org_data.pipe(code_name).pipe(value_cal,'원'))"
      ],
      "metadata": {
        "colab": {
          "base_uri": "https://localhost:8080/"
        },
        "id": "n44bNDYKyGQq",
        "outputId": "11040870-7850-4a56-c9a5-cad0001cab14"
      },
      "execution_count": null,
      "outputs": [
        {
          "output_type": "stream",
          "name": "stdout",
          "text": [
            "     name    value\n",
            "0    삼성전자  210000원\n",
            "1  SK하이닉스  200000원\n"
          ]
        }
      ]
    },
    {
      "cell_type": "markdown",
      "source": [
        "### 함수연속적용_축별 ( aggregate, agg )"
      ],
      "metadata": {
        "id": "TpglSKyk0xxi"
      }
    },
    {
      "cell_type": "markdown",
      "source": [
        "agg메서드는 apply와 비슷하게 함수를 적용하는 메서드이지만,\n",
        "여러개의 함수를 동시에 적용할 수 있다는 장점이 있습니다."
      ],
      "metadata": {
        "id": "PkX1SQKO026f"
      }
    },
    {
      "cell_type": "markdown",
      "source": [
        "df.agg(func=None, axis=0, args, kwargs)\n",
        "\n",
        "*   func : 함수입니다.\n",
        "*   axis : { 0  : index(row) / 1 : columns } 축입니다 0은 행, 1은 열 입니다. arg : 함수의 인수 입니다..\n",
        "*   kwargs : dict 형태의 함수의 인수입니다.\n",
        "\n",
        "\n"
      ],
      "metadata": {
        "id": "VI238qli1I1u"
      }
    },
    {
      "cell_type": "code",
      "source": [
        "df = pd.DataFrame([[1,4,7],[2,5,8],[3,6,9]])\n",
        "print(df)"
      ],
      "metadata": {
        "colab": {
          "base_uri": "https://localhost:8080/"
        },
        "id": "8B1MoTrR02S-",
        "outputId": "646b9535-88b8-480f-d1dd-ad320e52dd17"
      },
      "execution_count": null,
      "outputs": [
        {
          "output_type": "stream",
          "name": "stdout",
          "text": [
            "   0  1  2\n",
            "0  1  4  7\n",
            "1  2  5  8\n",
            "2  3  6  9\n"
          ]
        }
      ]
    },
    {
      "cell_type": "code",
      "source": [
        "ex1 = df.agg(np.prod)\n",
        "print(ex1)"
      ],
      "metadata": {
        "colab": {
          "base_uri": "https://localhost:8080/"
        },
        "id": "NpdfP7PX0vA_",
        "outputId": "0baedc50-37fc-4ea1-e76a-99d079570d35"
      },
      "execution_count": null,
      "outputs": [
        {
          "output_type": "stream",
          "name": "stdout",
          "text": [
            "0      6\n",
            "1    120\n",
            "2    504\n",
            "dtype: int64\n"
          ]
        }
      ]
    },
    {
      "cell_type": "markdown",
      "source": [
        "위의 경우와 똑같지만 간단하게 표현가능하다."
      ],
      "metadata": {
        "id": "-aCUFV2F1gIT"
      }
    },
    {
      "cell_type": "code",
      "source": [
        "ex2 = df.agg('prod')\n",
        "print(ex2)"
      ],
      "metadata": {
        "colab": {
          "base_uri": "https://localhost:8080/"
        },
        "id": "KNZwQWvG1YX6",
        "outputId": "d20d9846-7f40-4f3c-8b7e-8ed71d7a4691"
      },
      "execution_count": null,
      "outputs": [
        {
          "output_type": "stream",
          "name": "stdout",
          "text": [
            "0      6\n",
            "1    120\n",
            "2    504\n",
            "dtype: int64\n"
          ]
        }
      ]
    },
    {
      "cell_type": "markdown",
      "source": [
        "lambda함수나 사용자 정의 함수 를 사용 할 수도 있습니다."
      ],
      "metadata": {
        "id": "yOkijY241uRU"
      }
    },
    {
      "cell_type": "code",
      "source": [
        "ex3 = df.agg([lambda x : min(x) * max(x)])\n",
        "print(ex3)"
      ],
      "metadata": {
        "colab": {
          "base_uri": "https://localhost:8080/"
        },
        "id": "V24UfJyT1jxb",
        "outputId": "363c8dda-5a7c-4dce-9f28-198faffe088e"
      },
      "execution_count": null,
      "outputs": [
        {
          "output_type": "stream",
          "name": "stdout",
          "text": [
            "          0   1   2\n",
            "<lambda>  3  24  63\n"
          ]
        }
      ]
    },
    {
      "cell_type": "code",
      "source": [
        "def func_sub(input):\n",
        "    return max(input) - min(input)\n",
        "ex4 = df.agg([func_sub,'sum'])\n",
        "print(ex4)"
      ],
      "metadata": {
        "colab": {
          "base_uri": "https://localhost:8080/"
        },
        "id": "7u4ukFtK1ype",
        "outputId": "28bc8325-2cae-4bc1-917b-0815ac62789b"
      },
      "execution_count": null,
      "outputs": [
        {
          "output_type": "stream",
          "name": "stdout",
          "text": [
            "          0   1   2\n",
            "func_sub  2   2   2\n",
            "sum       6  15  24\n"
          ]
        }
      ]
    },
    {
      "cell_type": "markdown",
      "source": [
        "만약 함수명을 __name__메서드를 통해 따로 설정해주면 그 이름이 쓰입니다."
      ],
      "metadata": {
        "id": "r-GQrVkPRACy"
      }
    },
    {
      "cell_type": "code",
      "source": [
        "def func_sub(input):\n",
        "    return max(input)-min(input)\n",
        "func_sub.__name__='내함수'\n",
        "ex5 = df.agg([func_sub,'sum'])\n",
        "print(ex5)"
      ],
      "metadata": {
        "id": "qDyy65vaRCWS"
      },
      "execution_count": null,
      "outputs": []
    },
    {
      "cell_type": "markdown",
      "source": [
        "여러 함수를 동시에 적용하는 경우  \n",
        "list나 dict형태로 func값을 입력하는 경우 여러 함수를 동시에 적용할 수 있습니다.  \n",
        "list로 입력하는 경우에는"
      ],
      "metadata": {
        "id": "TEAACqK4RF4x"
      }
    },
    {
      "cell_type": "code",
      "source": [
        "ex6 = df.agg(['min','max','sum','prod'])\n",
        "print(ex6)"
      ],
      "metadata": {
        "id": "9DGi-O2wR0XZ"
      },
      "execution_count": null,
      "outputs": []
    },
    {
      "cell_type": "markdown",
      "source": [
        "dict를 이용하는 경우 순서를 변경하는것도 가능합니다."
      ],
      "metadata": {
        "id": "hT5vdaVxR-qR"
      }
    },
    {
      "cell_type": "code",
      "source": [
        "ex7 = df.agg({2:'sum',0:'max',1:'min'})\n",
        "print(ex7)"
      ],
      "metadata": {
        "id": "Zvu1gTuPSASz"
      },
      "execution_count": null,
      "outputs": []
    },
    {
      "cell_type": "markdown",
      "source": [
        "dict함수내에 다중함수를 적용할 수도 있습니다. 이 경우 해당되지 않는 index는 NaN을 출력합니다."
      ],
      "metadata": {
        "id": "5DpGBkb2Sd4E"
      }
    },
    {
      "cell_type": "code",
      "source": [
        "ex2 = df.agg('prod', axis=0)\n",
        "print(ex2)"
      ],
      "metadata": {
        "colab": {
          "base_uri": "https://localhost:8080/"
        },
        "id": "xfjeeLlQS-g8",
        "outputId": "0dbd5b69-6ede-48e4-9c0e-4c04367c0938"
      },
      "execution_count": null,
      "outputs": [
        {
          "output_type": "stream",
          "name": "stdout",
          "text": [
            "0      6\n",
            "1    120\n",
            "2    504\n",
            "dtype: int64\n"
          ]
        }
      ]
    },
    {
      "cell_type": "code",
      "source": [
        "ex3 = df.agg('prod', axis=1)\n",
        "print(ex3)"
      ],
      "metadata": {
        "colab": {
          "base_uri": "https://localhost:8080/"
        },
        "id": "eCddAdMDTLpE",
        "outputId": "66c03a3f-3d16-478c-a9e1-345bf466ab52"
      },
      "execution_count": null,
      "outputs": [
        {
          "output_type": "stream",
          "name": "stdout",
          "text": [
            "0     28\n",
            "1     80\n",
            "2    162\n",
            "dtype: int64\n"
          ]
        }
      ]
    },
    {
      "cell_type": "markdown",
      "source": [
        "## 함수연속적용_요소별 ( transform )"
      ],
      "metadata": {
        "id": "pBtnspVnUKp0"
      }
    },
    {
      "cell_type": "markdown",
      "source": [
        "transform메서드는 agg와 비슷하게 함수를 적용하는 메서드이지만,  \n",
        "단일 요소별로 함수를 동시에 적용할 수 있다는 장점이 있습니다. 마치 apply와 applymap의 차이와 비슷합니다."
      ],
      "metadata": {
        "id": "INXGXPVpUd_-"
      }
    },
    {
      "cell_type": "markdown",
      "source": [
        "df.transform(func, axis=0, args, kwargs)\n",
        "*   func : 함수입니다.\n",
        "*   axis :{0 : index(row) / 1 : columns} 축입니다 0은 행, 1은 열 입니다.\n",
        "*   arg : 함수의 인수 입니다.\n",
        "*   kwargs : dict 형태의 함수의 인수입니다."
      ],
      "metadata": {
        "id": "3fYmv5G8Ukk2"
      }
    },
    {
      "cell_type": "code",
      "source": [
        "col = ['col1','col2','col3']\n",
        "row = ['row1','row2','row3']\n",
        "df = pd.DataFrame(data=[[10,40,70],[20,50,80],[30,60,90]],index=row,columns=col)\n",
        "print(df)"
      ],
      "metadata": {
        "colab": {
          "base_uri": "https://localhost:8080/"
        },
        "id": "P8nNKNwmUjzG",
        "outputId": "4694dc33-15c9-47b0-da4f-d7d52d72a9e3"
      },
      "execution_count": null,
      "outputs": [
        {
          "output_type": "stream",
          "name": "stdout",
          "text": [
            "      col1  col2  col3\n",
            "row1    10    40    70\n",
            "row2    20    50    80\n",
            "row3    30    60    90\n"
          ]
        }
      ]
    },
    {
      "cell_type": "markdown",
      "source": [
        "입력함수로는 먼저 np.함수 형태나 그냥 문자열 형태로의 입력이 가능합니다."
      ],
      "metadata": {
        "id": "_tACpQN4XH7g"
      }
    },
    {
      "cell_type": "code",
      "source": [
        "ex1 = df.transform(np.sqrt)\n",
        "print(ex1)"
      ],
      "metadata": {
        "colab": {
          "base_uri": "https://localhost:8080/"
        },
        "id": "1BdTjLR9XDKh",
        "outputId": "294e7cb7-48af-47f6-c3f5-04d2c7d6e637"
      },
      "execution_count": null,
      "outputs": [
        {
          "output_type": "stream",
          "name": "stdout",
          "text": [
            "          col1      col2      col3\n",
            "row1  3.162278  6.324555  8.366600\n",
            "row2  4.472136  7.071068  8.944272\n",
            "row3  5.477226  7.745967  9.486833\n"
          ]
        }
      ]
    },
    {
      "cell_type": "code",
      "source": [
        "ex2 = df.transform('sqrt')\n",
        "print(ex2)"
      ],
      "metadata": {
        "colab": {
          "base_uri": "https://localhost:8080/"
        },
        "id": "jBBqaQEOXLYh",
        "outputId": "8a2b1020-c451-43f3-c45a-a69830fe205c"
      },
      "execution_count": null,
      "outputs": [
        {
          "output_type": "stream",
          "name": "stdout",
          "text": [
            "          col1      col2      col3\n",
            "row1  3.162278  6.324555  8.366600\n",
            "row2  4.472136  7.071068  8.944272\n",
            "row3  5.477226  7.745967  9.486833\n"
          ]
        }
      ]
    },
    {
      "cell_type": "markdown",
      "source": [
        "lambda함수나 사용자 정의 함수를사용할 수도 있습니다.  \n",
        "agg와 다르게 기존 레이블이 표시됩니다."
      ],
      "metadata": {
        "id": "hYJfsGvWXN7S"
      }
    },
    {
      "cell_type": "markdown",
      "source": [
        "여러 함수를 동시에 적용하는 경우  \n",
        "list나 dict형태로 func값을 입력하는 경우 여러 함수를 동시에 적용할 수 있습니다.  \n",
        "list로 입력하는 경우 마치 multi index처럼 multi columns가 생성됩니다.  "
      ],
      "metadata": {
        "id": "m_wCW_9UXPw5"
      }
    },
    {
      "cell_type": "code",
      "source": [
        "ex4 = df.transform(['exp','sqrt'])\n",
        "print(ex4)"
      ],
      "metadata": {
        "colab": {
          "base_uri": "https://localhost:8080/"
        },
        "id": "hM5eQF64XWpx",
        "outputId": "933fb2d4-f537-4f45-c2ff-b0731469015c"
      },
      "execution_count": null,
      "outputs": [
        {
          "output_type": "stream",
          "name": "stdout",
          "text": [
            "              col1                    col2                    col3          \n",
            "               exp      sqrt           exp      sqrt           exp      sqrt\n",
            "row1  2.202647e+04  3.162278  2.353853e+17  6.324555  2.515439e+30  8.366600\n",
            "row2  4.851652e+08  4.472136  5.184706e+21  7.071068  5.540622e+34  8.944272\n",
            "row3  1.068647e+13  5.477226  1.142007e+26  7.745967  1.220403e+39  9.486833\n"
          ]
        }
      ]
    },
    {
      "cell_type": "code",
      "source": [
        "ex5 = df.transform({'col2':'exp','col1':'sqrt'})\n",
        "print(ex5)"
      ],
      "metadata": {
        "colab": {
          "base_uri": "https://localhost:8080/"
        },
        "id": "K-TmXjqEXXqR",
        "outputId": "4adaa74c-ba7d-406b-f28f-112f9372d4ab"
      },
      "execution_count": null,
      "outputs": [
        {
          "output_type": "stream",
          "name": "stdout",
          "text": [
            "              col2      col1\n",
            "row1  2.353853e+17  3.162278\n",
            "row2  5.184706e+21  4.472136\n",
            "row3  1.142007e+26  5.477226\n"
          ]
        }
      ]
    },
    {
      "cell_type": "markdown",
      "source": [
        "## 문자열 형식의 계산식 적용 (eval)"
      ],
      "metadata": {
        "id": "Q9qgGiICXvvp"
      }
    },
    {
      "cell_type": "markdown",
      "source": [
        "eval메서드는 파이썬의 eval 메서드와 사용목적이 동일합니다. 문자열로 된 계산식을 적용합니다."
      ],
      "metadata": {
        "id": "6s-O9ZGpXzK1"
      }
    },
    {
      "cell_type": "markdown",
      "source": [
        "df.eval(expr, inplace=False, kwargs)\n",
        "*   expr : 문자열 형태의 계산식입니다.\n",
        "*   inplace : {True / False} 계산된 값이 원본을 변경할지의 여부입니다. 기본적으로 원본은 변경되지 않습니다.\n",
        "\n"
      ],
      "metadata": {
        "id": "cMK4AtTfX0no"
      }
    },
    {
      "cell_type": "code",
      "source": [
        "data = [[1,2,3],[4,5,6],[7,8,9]]\n",
        "col = ['col1','col2','col3']\n",
        "row = ['row1','row2','row3']\n",
        "df = pd.DataFrame(data = data, index = row, columns= col)\n",
        "print(df)"
      ],
      "metadata": {
        "colab": {
          "base_uri": "https://localhost:8080/"
        },
        "id": "Vh5Js8TpX87D",
        "outputId": "e4fc75c8-04ec-48f4-cb23-d13641d6c1cb"
      },
      "execution_count": null,
      "outputs": [
        {
          "output_type": "stream",
          "name": "stdout",
          "text": [
            "      col1  col2  col3\n",
            "row1     1     2     3\n",
            "row2     4     5     6\n",
            "row3     7     8     9\n"
          ]
        }
      ]
    },
    {
      "cell_type": "code",
      "source": [
        "print(df.eval('col4=col1*col2-col3'))"
      ],
      "metadata": {
        "colab": {
          "base_uri": "https://localhost:8080/"
        },
        "id": "usQQQeAXYGxC",
        "outputId": "336e6574-2209-4bfa-e96e-99500aafc316"
      },
      "execution_count": null,
      "outputs": [
        {
          "output_type": "stream",
          "name": "stdout",
          "text": [
            "      col1  col2  col3  col4\n",
            "row1     1     2     3    -1\n",
            "row2     4     5     6    14\n",
            "row3     7     8     9    47\n"
          ]
        }
      ]
    },
    {
      "cell_type": "markdown",
      "source": [
        "하지만 inplace인수가 기본값인 False이기 때문에 원본은 변경되지 않은것을 알 수 있습니다."
      ],
      "metadata": {
        "id": "8sbeACH9YmR7"
      }
    },
    {
      "cell_type": "code",
      "source": [
        "print(df)"
      ],
      "metadata": {
        "colab": {
          "base_uri": "https://localhost:8080/"
        },
        "id": "J3ORmhqlYyXq",
        "outputId": "ef2bcf44-1b51-4de1-9848-13b5ac06495c"
      },
      "execution_count": null,
      "outputs": [
        {
          "output_type": "stream",
          "name": "stdout",
          "text": [
            "      col1  col2  col3\n",
            "row1     1     2     3\n",
            "row2     4     5     6\n",
            "row3     7     8     9\n"
          ]
        }
      ]
    },
    {
      "cell_type": "markdown",
      "source": [
        "inplace = True인 경우\n",
        "Inplace = True로 할 경우 원본이 변경되는것을 확인할 수 있습니다.  \n",
        "※ inplace = True로 할경우 사본이 생성되지 않기 때문에 print할 경우 None이 출력됩니다."
      ],
      "metadata": {
        "id": "30MK_ciPYqOK"
      }
    },
    {
      "cell_type": "code",
      "source": [
        "print(df.eval('col4=col1*col2-col3',inplace=True))\n",
        "print(df)"
      ],
      "metadata": {
        "colab": {
          "base_uri": "https://localhost:8080/"
        },
        "id": "qAxFEosdY3sr",
        "outputId": "c9edc03d-6333-4dfb-ee67-a79fb458ae92"
      },
      "execution_count": null,
      "outputs": [
        {
          "output_type": "stream",
          "name": "stdout",
          "text": [
            "None\n",
            "      col1  col2  col3  col4\n",
            "row1     1     2     3    -1\n",
            "row2     4     5     6    14\n",
            "row3     7     8     9    47\n"
          ]
        }
      ]
    },
    {
      "cell_type": "markdown",
      "source": [
        "# 인덱싱  "
      ],
      "metadata": {
        "id": "jzNaQuJWZGed"
      }
    },
    {
      "cell_type": "markdown",
      "source": [
        "## 레이블기반_스칼라 (at)"
      ],
      "metadata": {
        "id": "5JVsziUbZIv7"
      }
    },
    {
      "cell_type": "markdown",
      "source": [
        "행/열 한쌍에 대한 단일 값에 엑세스합니다."
      ],
      "metadata": {
        "id": "XFLe5ARKZN9b"
      }
    },
    {
      "cell_type": "markdown",
      "source": [
        "**사용법**  \n",
        "값 가져오기 : result = df.at['행', '열']  \n",
        "값 설정하기 : df.at['행', '열'] = value"
      ],
      "metadata": {
        "id": "GCDiONqgZRJT"
      }
    },
    {
      "cell_type": "code",
      "source": [
        "df = pd.DataFrame([[1,2], [3,4]], index=['row1', 'row2'], columns=['col1', 'col2'])\n",
        "print(df)"
      ],
      "metadata": {
        "colab": {
          "base_uri": "https://localhost:8080/"
        },
        "id": "cP6dOZLpZTPL",
        "outputId": "1f0a335c-2417-4c33-b7ad-65e66b100410"
      },
      "execution_count": null,
      "outputs": [
        {
          "output_type": "stream",
          "name": "stdout",
          "text": [
            "      col1  col2\n",
            "row1     1     2\n",
            "row2     3     4\n"
          ]
        }
      ]
    },
    {
      "cell_type": "markdown",
      "source": [
        "값 가져오기"
      ],
      "metadata": {
        "id": "vsgJoS2hZfrj"
      }
    },
    {
      "cell_type": "code",
      "source": [
        "result = df.at['row1', 'col2']\n",
        "print(result)"
      ],
      "metadata": {
        "colab": {
          "base_uri": "https://localhost:8080/"
        },
        "id": "w_emFhPVZbzq",
        "outputId": "cd81eaea-d5a8-4985-f858-d022871811f4"
      },
      "execution_count": null,
      "outputs": [
        {
          "output_type": "stream",
          "name": "stdout",
          "text": [
            "2\n"
          ]
        }
      ]
    },
    {
      "cell_type": "markdown",
      "source": [
        "값 설정하기\n",
        "행, 열 값을 인수로 지정 후 값을 할당하여 값을 설정할 수 있습니다."
      ],
      "metadata": {
        "id": "FAaG77hZZtfz"
      }
    },
    {
      "cell_type": "code",
      "source": [
        "df.at['row2', 'col1'] = 5\n",
        "print(df)"
      ],
      "metadata": {
        "colab": {
          "base_uri": "https://localhost:8080/"
        },
        "id": "Ya1sbYbeZgrz",
        "outputId": "1cbcf101-bc5b-4d5f-d02c-ba22df804bfe"
      },
      "execution_count": null,
      "outputs": [
        {
          "output_type": "stream",
          "name": "stdout",
          "text": [
            "      col1  col2\n",
            "row1     1     2\n",
            "row2     5     4\n"
          ]
        }
      ]
    },
    {
      "cell_type": "markdown",
      "source": [
        "loc 메서드를 이용해 Series로 추출한 뒤 at메서드를 이용해 스칼라값을 얻는 방식으로 활용이 가능합니다."
      ],
      "metadata": {
        "id": "6AqoC9rxZwOj"
      }
    },
    {
      "cell_type": "code",
      "source": [
        " df.loc['row2'].at['col2']"
      ],
      "metadata": {
        "colab": {
          "base_uri": "https://localhost:8080/"
        },
        "id": "u8orKK_XZvr8",
        "outputId": "ca71c660-0ace-4b58-9935-f8c1fc066333"
      },
      "execution_count": null,
      "outputs": [
        {
          "output_type": "execute_result",
          "data": {
            "text/plain": [
              "4"
            ]
          },
          "metadata": {},
          "execution_count": 26
        }
      ]
    },
    {
      "cell_type": "markdown",
      "source": [
        "## 레이블기반_데이터 (loc)\n"
      ],
      "metadata": {
        "id": "VCcTmRbyZ44j"
      }
    },
    {
      "cell_type": "markdown",
      "source": [
        "행/열 설정에 따라 자유로운 인덱싱이 가능합니다.  \n",
        "loc는 bool 배열과 함께 사용이 가능합니다."
      ],
      "metadata": {
        "id": "Uzd1GKioZ92z"
      }
    },
    {
      "cell_type": "markdown",
      "source": [
        "**기본 사용법**  \n",
        "값 가져오기 : result = df.loc[ '행' , '열' ]  \n",
        "값 설정하기 : df.loc[ '행' , '열' ] = value  \n",
        "\n",
        "입력 가능한 Input  \n",
        "1. 레이블 (만약 3을 입력할 경우 정수위치가 아닌 index의 레이블로 해석  \n",
        "2. list 객체 (예 : ['a', 'b', 'c'])  \n",
        "3. 레이블의 슬라이스 객체 (예 : 'b' : 'f')  \n",
        "4. 슬라이싱되는 축과 길이가 같은 bool 배열 (예 : [True, True, False, True])  "
      ],
      "metadata": {
        "id": "NGGcKyrsaFBr"
      }
    },
    {
      "cell_type": "code",
      "source": [
        "df = pd.DataFrame([[1,2,3], [4,5,6], [7,8,9]], index=['row1', 'row2', 'row3'], columns=['col1', 'col2', 'col3'])\n",
        "print(df)"
      ],
      "metadata": {
        "colab": {
          "base_uri": "https://localhost:8080/"
        },
        "id": "TTZ7HVXtaRTV",
        "outputId": "8ad9465a-e5e2-4f49-80a7-1d7b2a98acd1"
      },
      "execution_count": null,
      "outputs": [
        {
          "output_type": "stream",
          "name": "stdout",
          "text": [
            "      col1  col2  col3\n",
            "row1     1     2     3\n",
            "row2     4     5     6\n",
            "row3     7     8     9\n"
          ]
        }
      ]
    },
    {
      "cell_type": "markdown",
      "source": [
        "값 가져오기\n",
        "\n",
        "단일 레이블을 지정할경우 Series 형태로 반환됩니다."
      ],
      "metadata": {
        "id": "CB0s9vfIabvn"
      }
    },
    {
      "cell_type": "code",
      "source": [
        "result = df.loc['row1']\n",
        "print(result)"
      ],
      "metadata": {
        "colab": {
          "base_uri": "https://localhost:8080/"
        },
        "id": "Iog3gxAwaSvl",
        "outputId": "4bfd0839-d742-4c4f-963c-a16155fac5f0"
      },
      "execution_count": null,
      "outputs": [
        {
          "output_type": "stream",
          "name": "stdout",
          "text": [
            "col1    1\n",
            "col2    2\n",
            "col3    3\n",
            "Name: row1, dtype: int64\n"
          ]
        }
      ]
    },
    {
      "cell_type": "markdown",
      "source": [
        "레이블로 구성된 리스트. [ [ ] ]를 사용하면 DataFrame형태로 반환됩니다."
      ],
      "metadata": {
        "id": "YMlPqGWAajlj"
      }
    },
    {
      "cell_type": "code",
      "source": [
        "result = df.loc[ ['row1','row3'] ]\n",
        "print(result)"
      ],
      "metadata": {
        "colab": {
          "base_uri": "https://localhost:8080/"
        },
        "id": "8gCBydccaWRE",
        "outputId": "e4d70664-d184-4693-e3bf-8a27ee0e3f7c"
      },
      "execution_count": null,
      "outputs": [
        {
          "output_type": "stream",
          "name": "stdout",
          "text": [
            "      col1  col2  col3\n",
            "row1     1     2     3\n",
            "row3     7     8     9\n"
          ]
        }
      ]
    },
    {
      "cell_type": "markdown",
      "source": [
        "행과 열을 설정하여 단일 레이블의 값을 입력가능합니다."
      ],
      "metadata": {
        "id": "GybJWHVmamgM"
      }
    },
    {
      "cell_type": "code",
      "source": [
        "result = df.loc['row2', 'col2']\n",
        "print(result)"
      ],
      "metadata": {
        "colab": {
          "base_uri": "https://localhost:8080/"
        },
        "id": "T0jtuR6oapBt",
        "outputId": "a821394a-312f-4bdf-e520-54a631128817"
      },
      "execution_count": null,
      "outputs": [
        {
          "output_type": "stream",
          "name": "stdout",
          "text": [
            "5\n"
          ]
        }
      ]
    },
    {
      "cell_type": "markdown",
      "source": [
        "슬라이스를 이용하여 인덱싱을 할 수 있습니다."
      ],
      "metadata": {
        "id": "nXskZ-NddRYH"
      }
    },
    {
      "cell_type": "code",
      "source": [
        "result = df.loc['row1' : 'row3', 'col2']\n",
        "print(result)"
      ],
      "metadata": {
        "colab": {
          "base_uri": "https://localhost:8080/"
        },
        "id": "yQf1Doc6dSuG",
        "outputId": "9ad8fa37-6b67-4f1f-8bb8-821a75afed3e"
      },
      "execution_count": null,
      "outputs": [
        {
          "output_type": "stream",
          "name": "stdout",
          "text": [
            "row1    2\n",
            "row2    5\n",
            "row3    8\n",
            "Name: col2, dtype: int64\n"
          ]
        }
      ]
    },
    {
      "cell_type": "markdown",
      "source": [
        "여기에 해당조건을 만족하는 특정 열을 반환할 수도 있습니다.  \n",
        "아래의 경우 col3에서 5보다 큰 값을 만족하는 행에 대해서 col2의 값만 반환합니다."
      ],
      "metadata": {
        "id": "lXoCKiF9dX0u"
      }
    },
    {
      "cell_type": "code",
      "source": [
        "result = df.loc[ df['col3'] > 5, ['col2'] ] \n",
        "print(result)"
      ],
      "metadata": {
        "colab": {
          "base_uri": "https://localhost:8080/"
        },
        "id": "WspxbrVBdayn",
        "outputId": "25456794-ac44-43dd-8d8a-61b7195afe3e"
      },
      "execution_count": null,
      "outputs": [
        {
          "output_type": "stream",
          "name": "stdout",
          "text": [
            "      col2\n",
            "row2     5\n",
            "row3     8\n"
          ]
        }
      ]
    },
    {
      "cell_type": "markdown",
      "source": [
        "람다함수를 이용하여 인덱싱이 가능합니다. 아래의 경우 col2의 값중 5인 값을 만족하는 행을 반환합니다."
      ],
      "metadata": {
        "id": "-Kof3Okided4"
      }
    },
    {
      "cell_type": "code",
      "source": [
        "result = df.loc[lambda df : df['col2'] == 5]\n",
        "print(result)"
      ],
      "metadata": {
        "colab": {
          "base_uri": "https://localhost:8080/"
        },
        "id": "ffN7l0p_dgGv",
        "outputId": "9f99cc6b-a462-4b46-ea7c-49bdcfbaf1dd"
      },
      "execution_count": null,
      "outputs": [
        {
          "output_type": "stream",
          "name": "stdout",
          "text": [
            "      col1  col2  col3\n",
            "row2     4     5     6\n"
          ]
        }
      ]
    },
    {
      "cell_type": "markdown",
      "source": [
        "값 설정하기  \n",
        "\n",
        "기본적으로 조건을 만족하는 모든 항목의 값이 변경됩니다.  \n",
        "레이블을 지정하여 값 설정하기.  "
      ],
      "metadata": {
        "id": "iP___CWKdlIu"
      }
    },
    {
      "cell_type": "code",
      "source": [
        "df.loc[ ['row1', 'row3'], ['col3'] ] = 'A'\n",
        "print(df)"
      ],
      "metadata": {
        "colab": {
          "base_uri": "https://localhost:8080/"
        },
        "id": "j_NW99AzdoS6",
        "outputId": "ade3cac7-1678-4b68-aa79-2134f44c5441"
      },
      "execution_count": null,
      "outputs": [
        {
          "output_type": "stream",
          "name": "stdout",
          "text": [
            "      col1  col2 col3\n",
            "row1     1     2    A\n",
            "row2     4     5    6\n",
            "row3     7     8    A\n"
          ]
        }
      ]
    },
    {
      "cell_type": "markdown",
      "source": [
        "하나의 레이블만 지정할 경우 해당 행/열 전체의 값 설정이 가능합니다."
      ],
      "metadata": {
        "id": "TUYMAwW-dq9P"
      }
    },
    {
      "cell_type": "code",
      "source": [
        "df.loc[ ['row1'] ] = 'A' # 행을 변경할 경우\n",
        "print(df)"
      ],
      "metadata": {
        "colab": {
          "base_uri": "https://localhost:8080/"
        },
        "id": "Cj8jtB9Tdsin",
        "outputId": "f43ce0ee-6124-47e4-fd48-2fd5e49b7c34"
      },
      "execution_count": null,
      "outputs": [
        {
          "output_type": "stream",
          "name": "stdout",
          "text": [
            "     col1 col2 col3\n",
            "row1    A    A    A\n",
            "row2    4    5    6\n",
            "row3    7    8    A\n"
          ]
        }
      ]
    },
    {
      "cell_type": "code",
      "source": [
        "df.loc[ : , ['col3'] ] = 'B' # 열을 변경할 경우 행을 전체선택 ( : ) 해줍니다.\n",
        "print(df)"
      ],
      "metadata": {
        "colab": {
          "base_uri": "https://localhost:8080/"
        },
        "id": "U_n_z7qxdvTP",
        "outputId": "a62d399f-83bd-4447-aded-1c30a4f016f3"
      },
      "execution_count": null,
      "outputs": [
        {
          "output_type": "stream",
          "name": "stdout",
          "text": [
            "     col1 col2 col3\n",
            "row1    A    A    B\n",
            "row2    4    5    B\n",
            "row3    7    8    B\n"
          ]
        }
      ]
    },
    {
      "cell_type": "markdown",
      "source": [
        "## 정수기반_스칼라 (iat)\n"
      ],
      "metadata": {
        "id": "wAuI4BxSek0a"
      }
    },
    {
      "cell_type": "markdown",
      "source": [
        "iat 함수는 iloc 함수와 같이 정수 기반으로 인덱싱을 합니다.  \n",
        "단일 스칼라값으로 반환하길 원한다면 iat함수를 사용합니다."
      ],
      "metadata": {
        "id": "qcUz_oJ8gapi"
      }
    },
    {
      "cell_type": "markdown",
      "source": [
        "**기본 사용법**   \n",
        "값 가져오기 : result = df.iat[ '행' , '열' ]  \n",
        "값 설정하기 : df.iat[ '행' , '열' ] = value"
      ],
      "metadata": {
        "id": "KIT092NKgchL"
      }
    },
    {
      "cell_type": "code",
      "source": [
        "df = pd.DataFrame([[1,2,3], [4,5,6], [7,8,9]], index=['row1', 'row2', 'row3'], columns=['col1', 'col2', 'col3'])\n",
        "print(df)"
      ],
      "metadata": {
        "colab": {
          "base_uri": "https://localhost:8080/"
        },
        "id": "h0w4l4UAgejy",
        "outputId": "35ae0bca-ae1b-4d67-ec70-047534bbfc9a"
      },
      "execution_count": null,
      "outputs": [
        {
          "output_type": "stream",
          "name": "stdout",
          "text": [
            "      col1  col2  col3\n",
            "row1     1     2     3\n",
            "row2     4     5     6\n",
            "row3     7     8     9\n"
          ]
        }
      ]
    },
    {
      "cell_type": "markdown",
      "source": [
        "**값 가져오기**  \n",
        "정수기반 조회 메서드이기 때문에, 행/열 쌍을 정수로 입력해야합니다.  \n",
        "아래의 경우 [rows=1,columns=2] 를 출력하는 것으로, 0부터 시작하기 때문에 [row2, col3]의 값인 6을 출력하게 됩니다."
      ],
      "metadata": {
        "id": "7hEVEZvpg94R"
      }
    },
    {
      "cell_type": "code",
      "source": [
        "result = df.iat[1,2]\n",
        "print(result)"
      ],
      "metadata": {
        "colab": {
          "base_uri": "https://localhost:8080/"
        },
        "id": "ChPxPVflhCUN",
        "outputId": "39c6a267-b8db-45a1-8460-0383e92f67ee"
      },
      "execution_count": null,
      "outputs": [
        {
          "output_type": "stream",
          "name": "stdout",
          "text": [
            "6\n"
          ]
        }
      ]
    },
    {
      "cell_type": "markdown",
      "source": [
        "**값 설정하기**  \n",
        "마찬가지로 정수값을 지정하여 해당 행/열의 값을 바꿀 수 있습니다."
      ],
      "metadata": {
        "id": "KPJ5C5CGhM1x"
      }
    },
    {
      "cell_type": "code",
      "source": [
        "df.iat[1,2] = 'A'\n",
        "print(df)"
      ],
      "metadata": {
        "colab": {
          "base_uri": "https://localhost:8080/"
        },
        "id": "8LGHWe7hhO14",
        "outputId": "460248f0-d0dc-40db-dfb5-e1f0580cbd64"
      },
      "execution_count": null,
      "outputs": [
        {
          "output_type": "stream",
          "name": "stdout",
          "text": [
            "      col1  col2 col3\n",
            "row1     1     2    3\n",
            "row2     4     5    A\n",
            "row3     7     8    9\n"
          ]
        }
      ]
    },
    {
      "cell_type": "markdown",
      "source": [
        "## 정수기반_데이터 (iloc)"
      ],
      "metadata": {
        "id": "BHM_dzXOhT9p"
      }
    },
    {
      "cell_type": "markdown",
      "source": [
        "**기본 사용법**  \n",
        "값 가져오기 : result = df.iloc['행', '열']  \n",
        "값 설정하기 : df.iloc['행', '열'] = value  \n",
        "\n",
        "**가능한 Input**  \n",
        "1. 단일 정수값 (예 : 5)  \n",
        "2. 정수로 이루어진 list (예 : [3, 5, 1])  \n",
        "3. 정수 슬라이스 객체 (예 : 2:5 )  \n",
        "4. bool 배열  "
      ],
      "metadata": {
        "id": "qzjFRO6uhWkp"
      }
    },
    {
      "cell_type": "code",
      "source": [
        "df = pd.DataFrame([[1,2,3], [4,5,6], [7,8,9]], index=['row1', 'row2', 'row3'], columns=['col1', 'col2', 'col3'])\n",
        "print(df)"
      ],
      "metadata": {
        "colab": {
          "base_uri": "https://localhost:8080/"
        },
        "id": "6ix6XaQ6hchq",
        "outputId": "fb2e8ebc-31c5-41f1-dd46-0a3cf09a8d72"
      },
      "execution_count": null,
      "outputs": [
        {
          "output_type": "stream",
          "name": "stdout",
          "text": [
            "      col1  col2  col3\n",
            "row1     1     2     3\n",
            "row2     4     5     6\n",
            "row3     7     8     9\n"
          ]
        }
      ]
    },
    {
      "cell_type": "markdown",
      "source": [
        "**값 가져오기**  \n",
        "단일 정수로 인덱싱 하는 경우 Series 형식으로 반환합니다."
      ],
      "metadata": {
        "id": "UMHPmVCThnhD"
      }
    },
    {
      "cell_type": "code",
      "source": [
        "result= df.iloc[0]\n",
        "print(result)"
      ],
      "metadata": {
        "colab": {
          "base_uri": "https://localhost:8080/"
        },
        "id": "MiN9jhJahhBp",
        "outputId": "1480fad0-4cca-492c-c8c8-4d821cdf1d04"
      },
      "execution_count": null,
      "outputs": [
        {
          "output_type": "stream",
          "name": "stdout",
          "text": [
            "col1    1\n",
            "col2    2\n",
            "col3    3\n",
            "Name: row1, dtype: int64\n"
          ]
        }
      ]
    },
    {
      "cell_type": "markdown",
      "source": [
        "list형식으로 인덱싱하는 경우 DataFrame형식 으로 반환합니다."
      ],
      "metadata": {
        "id": "joYdmKpUhsJx"
      }
    },
    {
      "cell_type": "code",
      "source": [
        "result = df.iloc[[0,2]]\n",
        "print(result)"
      ],
      "metadata": {
        "colab": {
          "base_uri": "https://localhost:8080/"
        },
        "id": "lTAqPMHkhug5",
        "outputId": "0b09a384-3216-4593-8128-45dc28b6ede1"
      },
      "execution_count": null,
      "outputs": [
        {
          "output_type": "stream",
          "name": "stdout",
          "text": [
            "      col1  col2  col3\n",
            "row1     1     2     3\n",
            "row3     7     8     9\n"
          ]
        }
      ]
    },
    {
      "cell_type": "markdown",
      "source": [
        "슬라이싱도 사용 가능 "
      ],
      "metadata": {
        "id": "qBhptLAQhzHY"
      }
    },
    {
      "cell_type": "code",
      "source": [
        "result= df.iloc[1:2]\n",
        "print(result)"
      ],
      "metadata": {
        "colab": {
          "base_uri": "https://localhost:8080/"
        },
        "id": "4e4sQPA-h0TQ",
        "outputId": "c7a5279a-547f-4337-b8e7-0132bef39ee0"
      },
      "execution_count": null,
      "outputs": [
        {
          "output_type": "stream",
          "name": "stdout",
          "text": [
            "      col1  col2  col3\n",
            "row2     4     5     6\n"
          ]
        }
      ]
    },
    {
      "cell_type": "markdown",
      "source": [
        "람다 함수도 사용 가능"
      ],
      "metadata": {
        "id": "EWlfV5yuh3oA"
      }
    },
    {
      "cell_type": "code",
      "source": [
        "result= df.iloc[lambda x : x.index == 'row3']\n",
        "print(result)"
      ],
      "metadata": {
        "colab": {
          "base_uri": "https://localhost:8080/"
        },
        "id": "6k8q36Lbh5Io",
        "outputId": "b90f10e7-9057-4e16-9aad-969a95c91510"
      },
      "execution_count": null,
      "outputs": [
        {
          "output_type": "stream",
          "name": "stdout",
          "text": [
            "      col1  col2  col3\n",
            "row3     7     8     9\n"
          ]
        }
      ]
    },
    {
      "cell_type": "markdown",
      "source": [
        "## 앞에서 n행 인덱싱 (head)"
      ],
      "metadata": {
        "id": "hOnrDHprh_Hh"
      }
    },
    {
      "cell_type": "markdown",
      "source": [
        "**기본 사용법**  \n",
        "df.head(n=5)"
      ],
      "metadata": {
        "id": "7Vw07PVkiBUa"
      }
    },
    {
      "cell_type": "code",
      "source": [
        "data = np.random.randint(10,size=(10,10))\n",
        "df = pd.DataFrame(data=data)\n",
        "print(df)"
      ],
      "metadata": {
        "colab": {
          "base_uri": "https://localhost:8080/"
        },
        "id": "TNPhKMRsiIpa",
        "outputId": "b6150a52-6ff6-4f5d-940b-a58d15d63e9b"
      },
      "execution_count": null,
      "outputs": [
        {
          "output_type": "stream",
          "name": "stdout",
          "text": [
            "   0  1  2  3  4  5  6  7  8  9\n",
            "0  2  8  5  6  3  0  4  8  0  6\n",
            "1  2  3  9  1  6  6  4  0  7  1\n",
            "2  8  9  7  8  1  2  9  8  8  6\n",
            "3  3  8  9  0  9  7  4  1  3  2\n",
            "4  9  4  2  0  3  1  7  4  1  8\n",
            "5  6  1  3  1  3  3  9  7  6  2\n",
            "6  8  4  1  8  1  1  0  1  7  4\n",
            "7  0  3  1  3  0  3  8  9  5  1\n",
            "8  3  2  3  1  0  3  5  7  0  7\n",
            "9  9  6  6  4  0  9  5  1  2  6\n"
          ]
        }
      ]
    },
    {
      "cell_type": "markdown",
      "source": [
        "위에서부터 n까지 열을 반환 ( n > 0 )"
      ],
      "metadata": {
        "id": "2593VtQoiQ4z"
      }
    },
    {
      "cell_type": "code",
      "source": [
        "print(df.head(3))"
      ],
      "metadata": {
        "colab": {
          "base_uri": "https://localhost:8080/"
        },
        "id": "ac9bVNvViLFK",
        "outputId": "15c9bad1-9e86-4fbb-9f77-737b85b00633"
      },
      "execution_count": null,
      "outputs": [
        {
          "output_type": "stream",
          "name": "stdout",
          "text": [
            "   0  1  2  3  4  5  6  7  8  9\n",
            "0  2  8  5  6  3  0  4  8  0  6\n",
            "1  2  3  9  1  6  6  4  0  7  1\n",
            "2  8  9  7  8  1  2  9  8  8  6\n"
          ]
        }
      ]
    },
    {
      "cell_type": "markdown",
      "source": [
        "끝에서부터 n개열을 제외하고 반환 ( n < 0 )"
      ],
      "metadata": {
        "id": "ucO-j45kiS7L"
      }
    },
    {
      "cell_type": "code",
      "source": [
        "print(df.head(-3))"
      ],
      "metadata": {
        "id": "s2O2puajiPYa"
      },
      "execution_count": null,
      "outputs": []
    },
    {
      "cell_type": "markdown",
      "source": [
        "## 뒤에서 n행 인덱싱 (head)"
      ],
      "metadata": {
        "id": "9r2aLbExicsZ"
      }
    },
    {
      "cell_type": "markdown",
      "source": [
        "**기본 사용법**  \n",
        "df.tail(n=5)"
      ],
      "metadata": {
        "id": "mZiv2QLUieTK"
      }
    },
    {
      "cell_type": "code",
      "source": [
        "data = np.random.randint(10,size=(10,10))\n",
        "df = pd.DataFrame(data=data)\n",
        "print(df)"
      ],
      "metadata": {
        "colab": {
          "base_uri": "https://localhost:8080/"
        },
        "id": "UTQxsHNvig5h",
        "outputId": "0038d4ac-2996-493b-a9b4-c5e0a170a694"
      },
      "execution_count": null,
      "outputs": [
        {
          "output_type": "stream",
          "name": "stdout",
          "text": [
            "   0  1  2  3  4  5  6  7  8  9\n",
            "0  8  2  4  4  5  4  6  7  7  7\n",
            "1  8  2  9  6  9  9  6  6  8  7\n",
            "2  7  4  6  9  2  0  7  2  1  0\n",
            "3  5  6  7  6  3  8  0  1  9  0\n",
            "4  5  4  0  3  5  7  9  4  4  9\n",
            "5  3  8  3  8  0  1  2  8  6  1\n",
            "6  1  1  0  8  0  3  7  7  1  0\n",
            "7  9  4  3  4  6  6  5  0  9  2\n",
            "8  8  9  2  9  4  5  2  2  9  2\n",
            "9  8  1  1  2  4  5  8  3  0  0\n"
          ]
        }
      ]
    },
    {
      "cell_type": "markdown",
      "source": [
        "아래에서부터 n까지 열을 반환 ( n > 0 )"
      ],
      "metadata": {
        "id": "W2Xct_pritMJ"
      }
    },
    {
      "cell_type": "code",
      "source": [
        "print(df.tail(3))"
      ],
      "metadata": {
        "colab": {
          "base_uri": "https://localhost:8080/"
        },
        "id": "MoxgwxpziwoC",
        "outputId": "f63e61e0-c9db-42df-84c2-8472d1b4336f"
      },
      "execution_count": null,
      "outputs": [
        {
          "output_type": "stream",
          "name": "stdout",
          "text": [
            "   0  1  2  3  4  5  6  7  8  9\n",
            "7  9  4  3  4  6  6  5  0  9  2\n",
            "8  8  9  2  9  4  5  2  2  9  2\n",
            "9  8  1  1  2  4  5  8  3  0  0\n"
          ]
        }
      ]
    },
    {
      "cell_type": "markdown",
      "source": [
        "위에서부터 n개열을 제외하고 반환 ( n < 0 ) "
      ],
      "metadata": {
        "id": "brdvNN5Dix3h"
      }
    },
    {
      "cell_type": "code",
      "source": [
        "print(df.tail(-3))"
      ],
      "metadata": {
        "colab": {
          "base_uri": "https://localhost:8080/"
        },
        "id": "HyRJ0NKni1P6",
        "outputId": "3e698321-e349-49ef-e93f-dbb7f8bb6acc"
      },
      "execution_count": null,
      "outputs": [
        {
          "output_type": "stream",
          "name": "stdout",
          "text": [
            "   0  1  2  3  4  5  6  7  8  9\n",
            "3  5  6  7  6  3  8  0  1  9  0\n",
            "4  5  4  0  3  5  7  9  4  4  9\n",
            "5  3  8  3  8  0  1  2  8  6  1\n",
            "6  1  1  0  8  0  3  7  7  1  0\n",
            "7  9  4  3  4  6  6  5  0  9  2\n",
            "8  8  9  2  9  4  5  2  2  9  2\n",
            "9  8  1  1  2  4  5  8  3  0  0\n"
          ]
        }
      ]
    },
    {
      "cell_type": "markdown",
      "source": [
        "## Mutli Index의 경우 "
      ],
      "metadata": {
        "id": "GACK4Qk1jAca"
      }
    },
    {
      "cell_type": "code",
      "source": [
        "index_tuples = [('row1', 'val1'), ('row1', 'val2'), ('row2', 'val1'), ('row2', 'val2'), ('row2', 'val3'), ('row3', 'val2'),('row3', 'val3')]\n",
        "values = [ [1,2,3], [4,5,6], [7,8,9], [10,11,12], [13,14,15], [16,17,18], [19,20,21]]\n",
        "index = pd.MultiIndex.from_tuples(index_tuples) # 인덱스 설정\n",
        "df = pd.DataFrame(values, columns=['col1', 'col2', 'col3'], index = index)\n",
        "print(df)"
      ],
      "metadata": {
        "colab": {
          "base_uri": "https://localhost:8080/"
        },
        "id": "tmQoqIWDjC9E",
        "outputId": "5a161d95-598c-4019-cb6e-3bdc6ea4f05c"
      },
      "execution_count": null,
      "outputs": [
        {
          "output_type": "stream",
          "name": "stdout",
          "text": [
            "           col1  col2  col3\n",
            "row1 val1     1     2     3\n",
            "     val2     4     5     6\n",
            "row2 val1     7     8     9\n",
            "     val2    10    11    12\n",
            "     val3    13    14    15\n",
            "row3 val2    16    17    18\n",
            "     val3    19    20    21\n"
          ]
        }
      ]
    },
    {
      "cell_type": "markdown",
      "source": [
        "하나의 행을 지정할 경우 단일 index로 반환된다."
      ],
      "metadata": {
        "id": "LNsUsrZpjKKq"
      }
    },
    {
      "cell_type": "code",
      "source": [
        "result = df.loc['row2']\n",
        "print(result)"
      ],
      "metadata": {
        "colab": {
          "base_uri": "https://localhost:8080/"
        },
        "id": "nFfMUGasjK3D",
        "outputId": "23e21d35-f1e8-4f9e-bfed-06897cf994a9"
      },
      "execution_count": null,
      "outputs": [
        {
          "output_type": "stream",
          "name": "stdout",
          "text": [
            "      col1  col2  col3\n",
            "val1     7     8     9\n",
            "val2    10    11    12\n",
            "val3    13    14    15\n"
          ]
        }
      ]
    },
    {
      "cell_type": "markdown",
      "source": [
        "multi index에서 특정 index를 튜플로 지정할 경우 Series로 반환됩니다.  \n",
        "또한, 아래의 경우에서 튜플이 아니라 단일 행/열 레이블 형태로 입력하여도\n",
        "같은 결과가 도출됩니다. (예 : result = df.loc[ ' row2', 'val2' ] )"
      ],
      "metadata": {
        "id": "WDKkqFEPjnqS"
      }
    },
    {
      "cell_type": "code",
      "source": [
        "result = df.loc[('row2','val2')]\n",
        "print(result)"
      ],
      "metadata": {
        "colab": {
          "base_uri": "https://localhost:8080/"
        },
        "id": "hpg0-aOtju8D",
        "outputId": "0536720f-f74e-4a00-83bb-27e072333b0f"
      },
      "execution_count": null,
      "outputs": [
        {
          "output_type": "stream",
          "name": "stdout",
          "text": [
            "col1    10\n",
            "col2    11\n",
            "col3    12\n",
            "Name: (row2, val2), dtype: int64\n"
          ]
        }
      ]
    },
    {
      "cell_type": "markdown",
      "source": [
        "만약 DataFrame 형태로 반환하고 싶다면 [ [ ] ] 형태로 인덱싱하면됩니다."
      ],
      "metadata": {
        "id": "afaQAKW1j-66"
      }
    },
    {
      "cell_type": "code",
      "source": [
        "result = df.loc[[('row2','val2')]]\n",
        "print(result)"
      ],
      "metadata": {
        "colab": {
          "base_uri": "https://localhost:8080/"
        },
        "id": "FbTPFZqWjgEU",
        "outputId": "05af8d89-00de-45a8-8de7-6b570ec37b57"
      },
      "execution_count": null,
      "outputs": [
        {
          "output_type": "stream",
          "name": "stdout",
          "text": [
            "           col1  col2  col3\n",
            "row2 val2    10    11    12\n"
          ]
        }
      ]
    },
    {
      "cell_type": "markdown",
      "source": [
        "여기에 열 값까지 설정해줄 경우 해당 값을 반환할 수 있습니다."
      ],
      "metadata": {
        "id": "M4P8bGgMkBbz"
      }
    },
    {
      "cell_type": "code",
      "source": [
        "result = df.loc[('row2','val2'), 'col3']\n",
        "print(result)"
      ],
      "metadata": {
        "colab": {
          "base_uri": "https://localhost:8080/"
        },
        "id": "cW6FwQPJkCGt",
        "outputId": "5bb48112-8dd4-4fe0-9b5d-c73a56946e33"
      },
      "execution_count": null,
      "outputs": [
        {
          "output_type": "stream",
          "name": "stdout",
          "text": [
            "12\n"
          ]
        }
      ]
    },
    {
      "cell_type": "markdown",
      "source": [
        "Multi Index의 튜플을 통해 슬라이스하여 인덱싱이 가능합니다."
      ],
      "metadata": {
        "id": "bqULwai2kEE6"
      }
    },
    {
      "cell_type": "code",
      "source": [
        "result = df.loc[('row1','val2') : ('row3','val2')] # row1의 val2부터 row3의 val2까지\n",
        "print(result)"
      ],
      "metadata": {
        "colab": {
          "base_uri": "https://localhost:8080/"
        },
        "id": "eZBImZpvkFuz",
        "outputId": "1d830f70-670d-4928-d23a-8ad48c57c550"
      },
      "execution_count": null,
      "outputs": [
        {
          "output_type": "stream",
          "name": "stdout",
          "text": [
            "           col1  col2  col3\n",
            "row1 val2     4     5     6\n",
            "row2 val1     7     8     9\n",
            "     val2    10    11    12\n",
            "     val3    13    14    15\n",
            "row3 val2    16    17    18\n"
          ]
        }
      ]
    },
    {
      "cell_type": "markdown",
      "source": [
        "# 비교 & 필터링 "
      ],
      "metadata": {
        "id": "piZp-WsbklxG"
      }
    },
    {
      "cell_type": "markdown",
      "source": [
        "## 초과, 미만, 이상, 이하, 같음, 다름 (gt, lt, ge, le, eq, ne) "
      ],
      "metadata": {
        "id": "T4uR4mZ3kpG7"
      }
    },
    {
      "cell_type": "markdown",
      "source": [
        "**기본 사용법**  \n",
        "df.eq(other, axis='columns', level=None)\n",
        "*   other : 스칼라, 시퀀스, Series, DataFrame, list등이 올 수 있습니다. 비교하고자 하는 값입니다.\n",
        "*   axis : {0 : index / 1 : columns} 비교할 레이블 입니다.\n",
        "*   level : 멀티인덱스 사용시 비교할 레이블의 레벨입니다.\n",
        "\n"
      ],
      "metadata": {
        "id": "by4vCWzGkon7"
      }
    },
    {
      "cell_type": "code",
      "source": [
        "col = ['col1','col2','col3']\n",
        "row = ['A','B','C']\n",
        "df = pd.DataFrame(data=[[10,20,10],\n",
        "                        [80,30,60],\n",
        "                        [20,10,70]],index=row,columns=col)"
      ],
      "metadata": {
        "id": "Y-nn2Jjsk6Zz"
      },
      "execution_count": null,
      "outputs": []
    },
    {
      "cell_type": "markdown",
      "source": [
        "**스칼라값과의 비교**  \n",
        "스칼라와의 비교시에는 단순히 other에 스칼라값을 입력하는것으로 실행할 수 있습니다.  \n",
        "비교 결과는 bool로 표시됩니다.\n"
      ],
      "metadata": {
        "id": "Gzm_kfRrlJ1j"
      }
    },
    {
      "cell_type": "code",
      "source": [
        "print(df.eq(10)) # equal"
      ],
      "metadata": {
        "colab": {
          "base_uri": "https://localhost:8080/"
        },
        "id": "lDQxylNxlRrT",
        "outputId": "89887e0c-6aa0-4926-fd00-4985199b3e94"
      },
      "execution_count": null,
      "outputs": [
        {
          "output_type": "stream",
          "name": "stdout",
          "text": [
            "    col1   col2   col3\n",
            "A   True  False   True\n",
            "B  False  False  False\n",
            "C  False   True  False\n"
          ]
        }
      ]
    },
    {
      "cell_type": "code",
      "source": [
        "print(df.ne(20)) # not equal"
      ],
      "metadata": {
        "colab": {
          "base_uri": "https://localhost:8080/"
        },
        "id": "F-QV0zqmlTMD",
        "outputId": "48d4fd46-783f-4e40-d884-90e2bf93eb38"
      },
      "execution_count": null,
      "outputs": [
        {
          "output_type": "stream",
          "name": "stdout",
          "text": [
            "    col1   col2  col3\n",
            "A   True  False  True\n",
            "B   True   True  True\n",
            "C  False   True  True\n"
          ]
        }
      ]
    },
    {
      "cell_type": "markdown",
      "source": [
        "**Series와의 비교**  \n",
        "Series로 입력할 경우 Series의 index를 통해 비교할 레이블의 설정이 가능합니다."
      ],
      "metadata": {
        "id": "-gRSB20RlW7L"
      }
    },
    {
      "cell_type": "code",
      "source": [
        "s1 = pd.Series([10,30],index=[\"col1\",\"col3\"])\n",
        "print(df.gt(s1)) # col1에서 10이상, col3에서 30이상이면 True"
      ],
      "metadata": {
        "colab": {
          "base_uri": "https://localhost:8080/"
        },
        "id": "vCIYN052lalC",
        "outputId": "1a5fe82e-21bd-479c-b7eb-233f31f925b9"
      },
      "execution_count": null,
      "outputs": [
        {
          "output_type": "stream",
          "name": "stdout",
          "text": [
            "    col1   col2   col3\n",
            "A  False  False  False\n",
            "B   True  False   True\n",
            "C   True  False   True\n"
          ]
        }
      ]
    },
    {
      "cell_type": "markdown",
      "source": [
        "만약 존재하지 않는 레이블을 비교한다면, 해당 레이블이 생성(broadcast)됩니다."
      ],
      "metadata": {
        "id": "PX7ejouLlkD-"
      }
    },
    {
      "cell_type": "code",
      "source": [
        "s2 = pd.Series([10],index=[\"col4\"])\n",
        "print(df.lt(s2)) # df에는 col4가 없기 때문에 col4가 브로드캐스트 됩니다."
      ],
      "metadata": {
        "colab": {
          "base_uri": "https://localhost:8080/"
        },
        "id": "QOySAcsalmAy",
        "outputId": "31d3158c-0425-4244-ebaa-544e7ec3105b"
      },
      "execution_count": null,
      "outputs": [
        {
          "output_type": "stream",
          "name": "stdout",
          "text": [
            "    col1   col2   col3   col4\n",
            "A  False  False  False  False\n",
            "B  False  False  False  False\n",
            "C  False  False  False  False\n"
          ]
        }
      ]
    },
    {
      "cell_type": "markdown",
      "source": [
        "**axis에 따른 비교의 차이**"
      ],
      "metadata": {
        "id": "Hwe7snUZlnlj"
      }
    },
    {
      "cell_type": "code",
      "source": [
        "print(df.le([10,20,30], axis=\"columns\")) # 열 기준으로 비교했을때 각각 10, 20, 30 이하면 True ( less )"
      ],
      "metadata": {
        "colab": {
          "base_uri": "https://localhost:8080/"
        },
        "id": "619YH1B9lpue",
        "outputId": "781bad9f-49b3-43a4-aa09-f83219728ff5"
      },
      "execution_count": null,
      "outputs": [
        {
          "output_type": "stream",
          "name": "stdout",
          "text": [
            "    col1   col2   col3\n",
            "A   True   True   True\n",
            "B  False  False  False\n",
            "C  False   True  False\n"
          ]
        }
      ]
    },
    {
      "cell_type": "code",
      "source": [
        "print(df.le([10,20,30], axis=\"index\")) # 행 기준으로 비교했을때 각각 10,20,30 이하면 True"
      ],
      "metadata": {
        "colab": {
          "base_uri": "https://localhost:8080/"
        },
        "id": "-KAejpC0lvoP",
        "outputId": "3402d990-5c6b-4fef-97c7-2cf5bb0ff69c"
      },
      "execution_count": null,
      "outputs": [
        {
          "output_type": "stream",
          "name": "stdout",
          "text": [
            "    col1   col2   col3\n",
            "A   True  False   True\n",
            "B  False  False  False\n",
            "C   True   True  False\n"
          ]
        }
      ]
    },
    {
      "cell_type": "markdown",
      "source": [
        "**DataFrame과의 비교**  \n",
        "Series와 마찬가지로 특정 레이블이 일치하는 DataFrame과의 비교가 가능합니다.  \n",
        "※ 레이블이 일치하지 않을경우 해당 레이블이 생성(broadcast)됩니다.  \n"
      ],
      "metadata": {
        "id": "uwagLZwvmGa8"
      }
    },
    {
      "cell_type": "code",
      "source": [
        "df2 = pd.DataFrame([[50],[50],[50]],index=row,columns=['col1'])\n",
        "print(df2)"
      ],
      "metadata": {
        "colab": {
          "base_uri": "https://localhost:8080/"
        },
        "id": "4By9SmTTmNGy",
        "outputId": "9dd0d7c9-9c30-4f1a-d038-1632f3ec4be6"
      },
      "execution_count": null,
      "outputs": [
        {
          "output_type": "stream",
          "name": "stdout",
          "text": [
            "   col1\n",
            "A    50\n",
            "B    50\n",
            "C    50\n"
          ]
        }
      ]
    },
    {
      "cell_type": "code",
      "source": [
        "print(df.ge(df2)) # col1에 대해서 각각50, 50, 50 이상이면 True ( greater )"
      ],
      "metadata": {
        "colab": {
          "base_uri": "https://localhost:8080/"
        },
        "id": "VmBP7SY7mPOS",
        "outputId": "9cdd48de-4584-45fe-fd88-af2cee72f226"
      },
      "execution_count": null,
      "outputs": [
        {
          "output_type": "stream",
          "name": "stdout",
          "text": [
            "    col1   col2   col3\n",
            "A  False  False  False\n",
            "B   True  False  False\n",
            "C  False  False  False\n"
          ]
        }
      ]
    },
    {
      "cell_type": "markdown",
      "source": [
        "**멀티 인덱스의 사용 (level인수)**\n",
        "먼저 간단한 멀티인덱스 데이터프레임을 하나 만들어보겠습니다."
      ],
      "metadata": {
        "id": "WETcuxmBmSKq"
      }
    },
    {
      "cell_type": "code",
      "source": [
        "row_mul = [['U','U','U','D','D','D'],['A','B','C','A','B','C']]\n",
        "df_mul = pd.DataFrame(data=[[10,20,10],\n",
        "                            [80,30,60],\n",
        "                            [20,10,70],\n",
        "                            [30,70,60],\n",
        "                            [10,90,40],\n",
        "                            [50,30,80]],index=row_mul,columns=col)\n",
        "print(df_mul)"
      ],
      "metadata": {
        "colab": {
          "base_uri": "https://localhost:8080/"
        },
        "id": "bZ3KmzZimV4q",
        "outputId": "49f7db2b-bc13-4097-8fe8-96f56b3b3819"
      },
      "execution_count": null,
      "outputs": [
        {
          "output_type": "stream",
          "name": "stdout",
          "text": [
            "     col1  col2  col3\n",
            "U A    10    20    10\n",
            "  B    80    30    60\n",
            "  C    20    10    70\n",
            "D A    30    70    60\n",
            "  B    10    90    40\n",
            "  C    50    30    80\n"
          ]
        }
      ]
    },
    {
      "cell_type": "code",
      "source": [
        "print(df.ge(df_mul,level=1)) # level=1이기 때문에 A, B, C를 index로하는 두 DataFrame과의 비교처럼 진행됩니다."
      ],
      "metadata": {
        "colab": {
          "base_uri": "https://localhost:8080/"
        },
        "id": "FNMBidkYmZo7",
        "outputId": "20a075a1-244b-4600-e89e-2657d74dedb2"
      },
      "execution_count": null,
      "outputs": [
        {
          "output_type": "stream",
          "name": "stdout",
          "text": [
            "      col1   col2   col3\n",
            "U A   True   True   True\n",
            "  B   True   True   True\n",
            "  C   True   True   True\n",
            "D A  False  False  False\n",
            "  B   True  False   True\n",
            "  C  False  False  False\n"
          ]
        }
      ]
    },
    {
      "cell_type": "markdown",
      "source": [
        "## dtype기반 열 선택 (select_dtyps)"
      ],
      "metadata": {
        "id": "vJeblka7i49a"
      }
    },
    {
      "cell_type": "markdown",
      "source": [
        "**기본 사용법**  \n",
        "\n",
        "df.dtypes  \n",
        "\n",
        "include 및 exclude는 비어있거나 겹치면 안되며(에러발생), 스칼라나 list형태의 입력값이 가능합니다.  \n",
        "\n",
        "**자료형**  \n",
        "1. 숫자형(numeric)은 np.number 또는 'number'  \n",
        "2. 문자형(str)은 'object'  \n",
        "3. 날짜,시간(datetimes)을 선택하려면 np.datetime64, 'datetime' 또는 'datetime64'  \n",
        "4. timedeltas는 np.timedelta64, 'timedelta' or 'timedelta64'  \n",
        "5. Pandas의 categorical 타입은 'category'"
      ],
      "metadata": {
        "id": "eqyCeMqXi7Zh"
      }
    },
    {
      "cell_type": "code",
      "source": [
        "col1 = [1, 2, 3, 4, 5]\n",
        "col2 = ['one', 'two', 'three', 'four', 'five']\n",
        "col3 = [1.5, 2.5, 3.5, 4.5, 5.5]\n",
        "col4 = [True, False, False, True, True]\n",
        "df = pd.DataFrame({\"col1\": col1, \"col2\": col2, \"col3\": col3, \"col4\": col4})\n",
        "print(df)"
      ],
      "metadata": {
        "colab": {
          "base_uri": "https://localhost:8080/"
        },
        "id": "iBe2vgqxjNE4",
        "outputId": "6524b015-49b4-4ebf-d833-44d5c5f46ba2"
      },
      "execution_count": 5,
      "outputs": [
        {
          "output_type": "stream",
          "name": "stdout",
          "text": [
            "   col1   col2  col3   col4\n",
            "0     1    one   1.5   True\n",
            "1     2    two   2.5  False\n",
            "2     3  three   3.5  False\n",
            "3     4   four   4.5   True\n",
            "4     5   five   5.5   True\n"
          ]
        }
      ]
    },
    {
      "cell_type": "markdown",
      "source": [
        "include에 포함될 type을 입력함으로써, 해당 type인 열만 반환하는것이 가능합니다."
      ],
      "metadata": {
        "id": "G1YwVkAwjqZK"
      }
    },
    {
      "cell_type": "code",
      "source": [
        "result = df.select_dtypes(include=[float,bool])\n",
        "print(result)"
      ],
      "metadata": {
        "colab": {
          "base_uri": "https://localhost:8080/"
        },
        "id": "q3iCLztBjkuW",
        "outputId": "adbd45be-350b-4c89-8655-5bb5aba0e714"
      },
      "execution_count": 6,
      "outputs": [
        {
          "output_type": "stream",
          "name": "stdout",
          "text": [
            "   col3   col4\n",
            "0   1.5   True\n",
            "1   2.5  False\n",
            "2   3.5  False\n",
            "3   4.5   True\n",
            "4   5.5   True\n"
          ]
        }
      ]
    },
    {
      "cell_type": "markdown",
      "source": [
        "exclude에 제외할 type을 입력함으로써, 해당 type인 열만 제외하여 반환하는것이 가능합니다."
      ],
      "metadata": {
        "id": "fIsxfSwAjslM"
      }
    },
    {
      "cell_type": "code",
      "source": [
        "result = df.select_dtypes(exclude=['int64'])\n",
        "print(result)"
      ],
      "metadata": {
        "id": "M28E0gG4jr7O"
      },
      "execution_count": null,
      "outputs": []
    },
    {
      "cell_type": "markdown",
      "source": [
        "include에 포함될 type을, exclude에 제외할 type을 입력하여 혼용 인덱싱이 가능합니다."
      ],
      "metadata": {
        "id": "A6ZHVYJMjyGP"
      }
    },
    {
      "cell_type": "code",
      "source": [
        "result = df.select_dtypes(include =[float,object], exclude=['int64'])\n",
        "print(result)"
      ],
      "metadata": {
        "id": "P0qe152Zjxhp"
      },
      "execution_count": null,
      "outputs": []
    },
    {
      "cell_type": "markdown",
      "source": [
        "## 임계값 적용 (clip)"
      ],
      "metadata": {
        "id": "QQsXHPl0j3Qc"
      }
    },
    {
      "cell_type": "markdown",
      "source": [
        "**기본 사용법**  \n",
        "df.clip(lower=None, upper=None, axis=None, inplace=False, args, kwargs)\n",
        "\n",
        "*   lower : 하한값입니다. 이 이하의 값은 이 값으로 변경됩니다.\n",
        "*   upper : 상한값입니다. 이 이상의 값은 이 값으로 변경됩니다.\n",
        "*   axis : 계산할 기준이되는 레이블입니다.\n",
        "*   inplace : 제자리에서 계산할지 여부 입니다.\n",
        "\n"
      ],
      "metadata": {
        "id": "6OYOiBujj526"
      }
    },
    {
      "cell_type": "code",
      "source": [
        "col  = ['col1','col2','col3']\n",
        "row  = ['row1','row2','row3']\n",
        "data = [[-7,3,9],\n",
        "        [6,-8,1],\n",
        "        [-3,0,-7]]\n",
        "df = pd.DataFrame(data,row,col)\n",
        "print(df)"
      ],
      "metadata": {
        "colab": {
          "base_uri": "https://localhost:8080/"
        },
        "id": "alR8p1w9kEDZ",
        "outputId": "1fbfddf4-4399-4b9b-e95a-76e54a49a4ec"
      },
      "execution_count": 7,
      "outputs": [
        {
          "output_type": "stream",
          "name": "stdout",
          "text": [
            "      col1  col2  col3\n",
            "row1    -7     3     9\n",
            "row2     6    -8     1\n",
            "row3    -3     0    -7\n"
          ]
        }
      ]
    },
    {
      "cell_type": "markdown",
      "source": [
        "-4보다 작은 수는 -4로 5보다 큰 수는 5로 변경된다 그 안의 수는 변경되지 않는다."
      ],
      "metadata": {
        "id": "i2qJb6s_kN89"
      }
    },
    {
      "cell_type": "code",
      "source": [
        "print(df.clip(-4,5)) "
      ],
      "metadata": {
        "colab": {
          "base_uri": "https://localhost:8080/"
        },
        "id": "VUCZUxXkkJwZ",
        "outputId": "a90210f8-63d3-4870-d06a-4ba214a070a3"
      },
      "execution_count": 8,
      "outputs": [
        {
          "output_type": "stream",
          "name": "stdout",
          "text": [
            "      col1  col2  col3\n",
            "row1    -4     3     5\n",
            "row2     5    -4     1\n",
            "row3    -3     0    -4\n"
          ]
        }
      ]
    },
    {
      "cell_type": "markdown",
      "source": [
        "row1에는 -1 ~ 1 / row2에는 -2 ~ 2 / row3에는 -3 ~ 3  으로 임계값 지정"
      ],
      "metadata": {
        "id": "tfWp-gpCkWDO"
      }
    },
    {
      "cell_type": "code",
      "source": [
        "s = pd.Series(data=[1,2,3],index=row)\n",
        "print(s)"
      ],
      "metadata": {
        "colab": {
          "base_uri": "https://localhost:8080/"
        },
        "id": "uWEIUiOqkVjI",
        "outputId": "2b034354-5d73-491f-e9b2-ffa099767ac0"
      },
      "execution_count": 9,
      "outputs": [
        {
          "output_type": "stream",
          "name": "stdout",
          "text": [
            "row1    1\n",
            "row2    2\n",
            "row3    3\n",
            "dtype: int64\n"
          ]
        }
      ]
    },
    {
      "cell_type": "code",
      "source": [
        "print(df.clip(-s,s,axis=0))"
      ],
      "metadata": {
        "colab": {
          "base_uri": "https://localhost:8080/"
        },
        "id": "6LDgnEoskl2W",
        "outputId": "e9eb4305-9be8-447c-b70d-fc1cbc30f6fb"
      },
      "execution_count": 10,
      "outputs": [
        {
          "output_type": "stream",
          "name": "stdout",
          "text": [
            "      col1  col2  col3\n",
            "row1    -1     1     1\n",
            "row2     2    -2     1\n",
            "row3    -3     0    -3\n"
          ]
        }
      ]
    },
    {
      "cell_type": "markdown",
      "source": [
        "## 레이블 필터링 (filter)"
      ],
      "metadata": {
        "id": "398SRYmNkowL"
      }
    },
    {
      "cell_type": "markdown",
      "source": [
        "**기본 사용법**  \n",
        "df.filter(items=None, like=None, regex=None, axis=None)  \n",
        "\n",
        "\n",
        "*   items : 이름으로 필터링하는 경우입니다. 리스트형태로 입력합니다.\n",
        "*   like : str로 필터링합니다. 해당 문자열이 포함된 경우를 반환합니다.\n",
        "*   regex : 정규표현식을 이용해 필터링합니다. re.search(regex, label) == True에서 사용되는 경우와 동일합니다.\n",
        "*   axis : {0 : index / 1 : columns} 필터링할 레이블입니다. 0은 행, 1은 열 입니다.\n"
      ],
      "metadata": {
        "id": "zk2fFGFIkrUU"
      }
    },
    {
      "cell_type": "code",
      "source": [
        "col  = ['alpha','beta','gamma','delta','epsilon']\n",
        "row  = ['sigma','omega','lambda']\n",
        "data = [[1,2,3,4,5],[6,7,8,9,10],[11,12,13,14,15]]\n",
        "df = pd.DataFrame(data,row,col)\n",
        "print(df)"
      ],
      "metadata": {
        "colab": {
          "base_uri": "https://localhost:8080/"
        },
        "id": "xAk4u3Prk-a2",
        "outputId": "db611505-d676-4d08-a2fb-39834b77afbf"
      },
      "execution_count": 11,
      "outputs": [
        {
          "output_type": "stream",
          "name": "stdout",
          "text": [
            "        alpha  beta  gamma  delta  epsilon\n",
            "sigma       1     2      3      4        5\n",
            "omega       6     7      8      9       10\n",
            "lambda     11    12     13     14       15\n"
          ]
        }
      ]
    },
    {
      "cell_type": "markdown",
      "source": [
        "items인수를 통해 alpha, beta 열을 필터링 해보겠습니다."
      ],
      "metadata": {
        "id": "J0_EyTlilETU"
      }
    },
    {
      "cell_type": "code",
      "source": [
        "print(df.filter(items=['alpha','delta']))"
      ],
      "metadata": {
        "colab": {
          "base_uri": "https://localhost:8080/"
        },
        "id": "2BpOrqknlB9V",
        "outputId": "7c8c39cb-c526-4eaa-f824-831a1e7a8447"
      },
      "execution_count": 12,
      "outputs": [
        {
          "output_type": "stream",
          "name": "stdout",
          "text": [
            "        alpha  delta\n",
            "sigma       1      4\n",
            "omega       6      9\n",
            "lambda     11     14\n"
          ]
        }
      ]
    },
    {
      "cell_type": "markdown",
      "source": [
        "omega행을 필터링해보겠습니다."
      ],
      "metadata": {
        "id": "zwThij2QlGca"
      }
    },
    {
      "cell_type": "code",
      "source": [
        "print(df.filter(items=['omega'],axis=0))"
      ],
      "metadata": {
        "colab": {
          "base_uri": "https://localhost:8080/"
        },
        "id": "18efvYKxlFk1",
        "outputId": "9e98394e-1763-4da4-f0d5-5c88d1330924"
      },
      "execution_count": 13,
      "outputs": [
        {
          "output_type": "stream",
          "name": "stdout",
          "text": [
            "       alpha  beta  gamma  delta  epsilon\n",
            "omega      6     7      8      9       10\n"
          ]
        }
      ]
    },
    {
      "cell_type": "markdown",
      "source": [
        "like인수를 이용해 'ta'가 포함된 열을 필터링해보겠습니다.\n",
        "\n"
      ],
      "metadata": {
        "id": "5yTyA2yilKLh"
      }
    },
    {
      "cell_type": "code",
      "source": [
        "print(df.filter(like='ta'))"
      ],
      "metadata": {
        "id": "vvv77xI1lMWh"
      },
      "execution_count": null,
      "outputs": []
    },
    {
      "cell_type": "markdown",
      "source": [
        "regex인수를 사용해서 m과 n이 포함된 열을 필터링 해보겠습니다. \n",
        " \n",
        "정규표현식 [ ] 는 [ ] 안의 모든 문자가 포함된 경우를 말합니다.  \n",
        "즉, [mn]은m과 n이 포함된 경우입니다.\n"
      ],
      "metadata": {
        "id": "XCQF9fxklPmx"
      }
    },
    {
      "cell_type": "code",
      "source": [
        "print(df.filter(regex='[mn]'))"
      ],
      "metadata": {
        "colab": {
          "base_uri": "https://localhost:8080/"
        },
        "id": "sCR2QUuOlYL-",
        "outputId": "1ebf8251-d977-4f78-9ee5-bb82daf39d67"
      },
      "execution_count": 14,
      "outputs": [
        {
          "output_type": "stream",
          "name": "stdout",
          "text": [
            "        gamma  epsilon\n",
            "sigma       3        5\n",
            "omega       8       10\n",
            "lambda     13       15\n"
          ]
        }
      ]
    },
    {
      "cell_type": "markdown",
      "source": [
        "g로 시작하는 경우에 대해 필터링 해보겠습니다.  \n",
        "\n",
        "정규표현식 ^는 ^뒤에있는 문자로 시작하는 문자열을 말합니다.  \n",
        "즉, ^g는 g로 시작하는 경우를 말합니다."
      ],
      "metadata": {
        "id": "_s__QUgylmQY"
      }
    },
    {
      "cell_type": "code",
      "source": [
        "print(df.filter(regex='^g'))"
      ],
      "metadata": {
        "colab": {
          "base_uri": "https://localhost:8080/"
        },
        "id": "NbuFNUQKlpPq",
        "outputId": "8fa453fe-0da0-4d10-c6d3-4cb129aaeb94"
      },
      "execution_count": 15,
      "outputs": [
        {
          "output_type": "stream",
          "name": "stdout",
          "text": [
            "        gamma\n",
            "sigma       3\n",
            "omega       8\n",
            "lambda     13\n"
          ]
        }
      ]
    },
    {
      "cell_type": "markdown",
      "source": [
        "a로 끝나는 경우에 대해 필터링 해보겠습니다.  \n",
        "\n",
        "정규표현식 $는 $앞에있는 문자로 끝나는 문자열을 말합니다.  \n",
        "즉, a$는 a로 끝나는 경우를 말합니다."
      ],
      "metadata": {
        "id": "QwdjD-g5lrUA"
      }
    },
    {
      "cell_type": "code",
      "source": [
        "print(df.filter(regex='a$'))"
      ],
      "metadata": {
        "colab": {
          "base_uri": "https://localhost:8080/"
        },
        "id": "cey06Sf_lttD",
        "outputId": "8c34a7e6-36f3-4a87-f54a-a7066ad6723c"
      },
      "execution_count": 16,
      "outputs": [
        {
          "output_type": "stream",
          "name": "stdout",
          "text": [
            "        alpha  beta  gamma  delta\n",
            "sigma       1     2      3      4\n",
            "omega       6     7      8      9\n",
            "lambda     11    12     13     14\n"
          ]
        }
      ]
    },
    {
      "cell_type": "markdown",
      "source": [
        "## 샘플 추출 (sample)"
      ],
      "metadata": {
        "id": "hizheCFml16U"
      }
    },
    {
      "cell_type": "markdown",
      "source": [
        "**기본 사용법**\n",
        "\n",
        "df.sample(n=None, frac=None, replace=False, weights=None, random_state=None, axis=None, ignore_index=False)\n",
        "\n",
        "*   n : 추출할 갯수 입니다. replace가 False면 n의 최댓값은 레이블의 갯수를 넘을수 없습니다.\n",
        "*   frac : 추출할 비율입니다. 1보다 작은값으로 설정하며(예 : 0.3 이면 30%), n과 동시에 사용할 수 없습니다.\n",
        "*   replace : 중복추출의 허용 여부 입니다. True로 하면 중복추출이 가능하며 n의 최댓값이 레이블의 갯수보다 커도 됩니다.\n",
        "*   weight : 가중치입니다. 즉 레이블마다 추출될 확률을 지정할 수 있습니다. 합계가 1(100%)이 아닐경우 자동으로 1로 연산합니다.\n",
        "*   random_state : 랜덤 추출한 값에 시드를 설정할 수 있습니다. 원하는 값을 설정하면, 항상 같은 결과를 출력합니다.\n",
        "*   axis : {0 : index / 1 : columns} 추출할 레이블입니다.\n",
        "*   ignore_index : index의 무시 여부입니다. True일경우 출력시 index를 무시하고 숫자로 출력합니다.\n"
      ],
      "metadata": {
        "id": "EvyyTDkzl3o8"
      }
    },
    {
      "cell_type": "code",
      "source": [
        "col  = ['col1','col2','col3']\n",
        "row  = ['row1','row2','row3','row4','row5']\n",
        "data = [[1,2,3],[4,5,6],[7,8,9],[10,11,12],[13,14,15]]\n",
        "df = pd.DataFrame(data,row,col)\n",
        "print(df)"
      ],
      "metadata": {
        "colab": {
          "base_uri": "https://localhost:8080/"
        },
        "id": "tK1wT2-NmPt0",
        "outputId": "829ef818-e524-422b-fbb4-1bad9ab0c931"
      },
      "execution_count": 17,
      "outputs": [
        {
          "output_type": "stream",
          "name": "stdout",
          "text": [
            "      col1  col2  col3\n",
            "row1     1     2     3\n",
            "row2     4     5     6\n",
            "row3     7     8     9\n",
            "row4    10    11    12\n",
            "row5    13    14    15\n"
          ]
        }
      ]
    },
    {
      "cell_type": "markdown",
      "source": [
        "n을 설정함으로써 원하는 갯수의 추출이 가능합니다. n을 2로 설정함으로써 2개의 행이 추출된것을 볼 수 있습니다."
      ],
      "metadata": {
        "id": "s6TXmIi7mRyI"
      }
    },
    {
      "cell_type": "code",
      "source": [
        "print(df.sample(2))"
      ],
      "metadata": {
        "colab": {
          "base_uri": "https://localhost:8080/"
        },
        "id": "fdhkNCxsmTRR",
        "outputId": "2f6ed26a-9628-4f03-ba43-13cf4f1cf3dd"
      },
      "execution_count": 18,
      "outputs": [
        {
          "output_type": "stream",
          "name": "stdout",
          "text": [
            "      col1  col2  col3\n",
            "row3     7     8     9\n",
            "row2     4     5     6\n"
          ]
        }
      ]
    },
    {
      "cell_type": "markdown",
      "source": [
        "행이 5이지만 replace=True로 설정하여 중복 추출을 허용한다면, n이 5보다 커도 됩니다."
      ],
      "metadata": {
        "id": "vYiqBzMamWTD"
      }
    },
    {
      "cell_type": "code",
      "source": [
        "print(df.sample(10,replace=True))"
      ],
      "metadata": {
        "colab": {
          "base_uri": "https://localhost:8080/"
        },
        "id": "wC2g8L_emYoJ",
        "outputId": "d31e48a9-71a0-4c7a-b26d-dacb2c56dd30"
      },
      "execution_count": 19,
      "outputs": [
        {
          "output_type": "stream",
          "name": "stdout",
          "text": [
            "      col1  col2  col3\n",
            "row2     4     5     6\n",
            "row3     7     8     9\n",
            "row5    13    14    15\n",
            "row2     4     5     6\n",
            "row1     1     2     3\n",
            "row5    13    14    15\n",
            "row5    13    14    15\n",
            "row5    13    14    15\n",
            "row2     4     5     6\n",
            "row5    13    14    15\n"
          ]
        }
      ]
    },
    {
      "cell_type": "code",
      "source": [
        "print(df.sample(10)) # 초과되면 실행되지 않는 모습을 보여준다. "
      ],
      "metadata": {
        "colab": {
          "base_uri": "https://localhost:8080/",
          "height": 359
        },
        "id": "RYp2nt-hmbJl",
        "outputId": "c42b2f15-7ede-4d9d-a0a2-b1f9521ae881"
      },
      "execution_count": 20,
      "outputs": [
        {
          "output_type": "error",
          "ename": "ValueError",
          "evalue": "ignored",
          "traceback": [
            "\u001b[0;31m---------------------------------------------------------------------------\u001b[0m",
            "\u001b[0;31mValueError\u001b[0m                                Traceback (most recent call last)",
            "\u001b[0;32m<ipython-input-20-adf4081e78d6>\u001b[0m in \u001b[0;36m<module>\u001b[0;34m\u001b[0m\n\u001b[0;32m----> 1\u001b[0;31m \u001b[0mprint\u001b[0m\u001b[0;34m(\u001b[0m\u001b[0mdf\u001b[0m\u001b[0;34m.\u001b[0m\u001b[0msample\u001b[0m\u001b[0;34m(\u001b[0m\u001b[0;36m10\u001b[0m\u001b[0;34m)\u001b[0m\u001b[0;34m)\u001b[0m\u001b[0;34m\u001b[0m\u001b[0;34m\u001b[0m\u001b[0m\n\u001b[0m",
            "\u001b[0;32m/usr/local/lib/python3.8/dist-packages/pandas/core/generic.py\u001b[0m in \u001b[0;36msample\u001b[0;34m(self, n, frac, replace, weights, random_state, axis, ignore_index)\u001b[0m\n\u001b[1;32m   5363\u001b[0m             )\n\u001b[1;32m   5364\u001b[0m \u001b[0;34m\u001b[0m\u001b[0m\n\u001b[0;32m-> 5365\u001b[0;31m         \u001b[0mlocs\u001b[0m \u001b[0;34m=\u001b[0m \u001b[0mrs\u001b[0m\u001b[0;34m.\u001b[0m\u001b[0mchoice\u001b[0m\u001b[0;34m(\u001b[0m\u001b[0maxis_length\u001b[0m\u001b[0;34m,\u001b[0m \u001b[0msize\u001b[0m\u001b[0;34m=\u001b[0m\u001b[0mn\u001b[0m\u001b[0;34m,\u001b[0m \u001b[0mreplace\u001b[0m\u001b[0;34m=\u001b[0m\u001b[0mreplace\u001b[0m\u001b[0;34m,\u001b[0m \u001b[0mp\u001b[0m\u001b[0;34m=\u001b[0m\u001b[0mweights\u001b[0m\u001b[0;34m)\u001b[0m\u001b[0;34m\u001b[0m\u001b[0;34m\u001b[0m\u001b[0m\n\u001b[0m\u001b[1;32m   5366\u001b[0m         \u001b[0mresult\u001b[0m \u001b[0;34m=\u001b[0m \u001b[0mself\u001b[0m\u001b[0;34m.\u001b[0m\u001b[0mtake\u001b[0m\u001b[0;34m(\u001b[0m\u001b[0mlocs\u001b[0m\u001b[0;34m,\u001b[0m \u001b[0maxis\u001b[0m\u001b[0;34m=\u001b[0m\u001b[0maxis\u001b[0m\u001b[0;34m)\u001b[0m\u001b[0;34m\u001b[0m\u001b[0;34m\u001b[0m\u001b[0m\n\u001b[1;32m   5367\u001b[0m         \u001b[0;32mif\u001b[0m \u001b[0mignore_index\u001b[0m\u001b[0;34m:\u001b[0m\u001b[0;34m\u001b[0m\u001b[0;34m\u001b[0m\u001b[0m\n",
            "\u001b[0;32mmtrand.pyx\u001b[0m in \u001b[0;36mnumpy.random.mtrand.RandomState.choice\u001b[0;34m()\u001b[0m\n",
            "\u001b[0;31mValueError\u001b[0m: Cannot take a larger sample than population when 'replace=False'"
          ]
        }
      ]
    },
    {
      "cell_type": "markdown",
      "source": [
        "frac을 통해 전체에대한 추출 비율을 정할 수 있습니다.   \n",
        "frac을 0.4로 설정하므로써, 전체에서 40%인 2개를 추출해보겠습니다."
      ],
      "metadata": {
        "id": "8Cf0ljDgmgi_"
      }
    },
    {
      "cell_type": "code",
      "source": [
        "print(df.sample(frac=0.4))"
      ],
      "metadata": {
        "colab": {
          "base_uri": "https://localhost:8080/"
        },
        "id": "ug4cQ1MomidO",
        "outputId": "d1d8952b-10c4-4cd2-e13b-d1bdfadecbc8"
      },
      "execution_count": 21,
      "outputs": [
        {
          "output_type": "stream",
          "name": "stdout",
          "text": [
            "      col1  col2  col3\n",
            "row3     7     8     9\n",
            "row2     4     5     6\n"
          ]
        }
      ]
    },
    {
      "cell_type": "markdown",
      "source": [
        "먼저 가중치를 적용하기위해 5짜리 Series를 하나 만들어보겠습니다."
      ],
      "metadata": {
        "id": "UabZ2QoGmm7k"
      }
    },
    {
      "cell_type": "code",
      "source": [
        "s = pd.Series(data=[10,10,3,3,1],index=row)\n",
        "print(s)"
      ],
      "metadata": {
        "colab": {
          "base_uri": "https://localhost:8080/"
        },
        "id": "J5f4kx3Lmosd",
        "outputId": "d913ff64-d43a-46f2-82bf-feafbea66cad"
      },
      "execution_count": 22,
      "outputs": [
        {
          "output_type": "stream",
          "name": "stdout",
          "text": [
            "row1    10\n",
            "row2    10\n",
            "row3     3\n",
            "row4     3\n",
            "row5     1\n",
            "dtype: int64\n"
          ]
        }
      ]
    },
    {
      "cell_type": "markdown",
      "source": [
        "Series s를 weights에 적용시켜보겠습니다.   \n",
        "가장 가중치가 높은 row1, row2가 추출된 것을 확인할 수 있습니다.  \n",
        "물론 가중치가 적더라도 확률적으로 추출될 가능성이 존재합니다."
      ],
      "metadata": {
        "id": "FIEV1WHlmqy5"
      }
    },
    {
      "cell_type": "code",
      "source": [
        "print(df.sample(2,weights=s))"
      ],
      "metadata": {
        "colab": {
          "base_uri": "https://localhost:8080/"
        },
        "id": "ruNqj29kmw0P",
        "outputId": "98a8023c-ce6e-4432-abef-0fb7004dc347"
      },
      "execution_count": 23,
      "outputs": [
        {
          "output_type": "stream",
          "name": "stdout",
          "text": [
            "      col1  col2  col3\n",
            "row2     4     5     6\n",
            "row1     1     2     3\n"
          ]
        }
      ]
    },
    {
      "cell_type": "markdown",
      "source": [
        "random_state에 원하는 값을 설정하므로써 출력 결과를 동일하게 다시 출력하는것이 가능합니다."
      ],
      "metadata": {
        "id": "ZOtegtxxm29i"
      }
    },
    {
      "cell_type": "code",
      "source": [
        "print(df.sample(5,random_state=7))"
      ],
      "metadata": {
        "colab": {
          "base_uri": "https://localhost:8080/"
        },
        "id": "IXZhsTBzm8l7",
        "outputId": "0aaa6429-3294-4073-83e1-6d0ee21c4463"
      },
      "execution_count": 24,
      "outputs": [
        {
          "output_type": "stream",
          "name": "stdout",
          "text": [
            "      col1  col2  col3\n",
            "row1     1     2     3\n",
            "row4    10    11    12\n",
            "row3     7     8     9\n",
            "row2     4     5     6\n",
            "row5    13    14    15\n"
          ]
        }
      ]
    },
    {
      "cell_type": "markdown",
      "source": [
        "ignore_index를 True로 하면 index는 사라지고 순서대로 번호가 부여됩니다."
      ],
      "metadata": {
        "id": "MNeUJUU4nB1q"
      }
    },
    {
      "cell_type": "code",
      "source": [
        "print(df.sample(3,ignore_index=True))"
      ],
      "metadata": {
        "colab": {
          "base_uri": "https://localhost:8080/"
        },
        "id": "Gg8gNLtKnDV2",
        "outputId": "a0366361-4691-43c2-c522-3f22d3749b25"
      },
      "execution_count": 25,
      "outputs": [
        {
          "output_type": "stream",
          "name": "stdout",
          "text": [
            "   col1  col2  col3\n",
            "0     1     2     3\n",
            "1    13    14    15\n",
            "2    10    11    12\n"
          ]
        }
      ]
    },
    {
      "cell_type": "markdown",
      "source": [
        "# 결측제어"
      ],
      "metadata": {
        "id": "0G9SCaT1nL5d"
      }
    },
    {
      "cell_type": "markdown",
      "source": [
        "## 결측값 확인 (isna, isnull, notna, notnull)"
      ],
      "metadata": {
        "id": "FxEENrswnIVF"
      }
    },
    {
      "cell_type": "markdown",
      "source": [
        "**기본 사용법**\n",
        "df.isna( ) / df.notna( )  \n",
        "np.inf나 그냥 ' ' 의경우 결측값으로 판단하지 않습니다."
      ],
      "metadata": {
        "id": "khs5ubxmnNnN"
      }
    },
    {
      "cell_type": "code",
      "source": [
        "col  = ['col1','col2','col3','col4']\n",
        "row  = ['row1','row2','row3']\n",
        "data = [[1,2,pd.NA,4],\n",
        "        [np.nan,6,7,8],\n",
        "        [9,10,11,None]]\n",
        "df = pd.DataFrame(data,row,col)"
      ],
      "metadata": {
        "id": "US_URJu2nWKZ"
      },
      "execution_count": 26,
      "outputs": []
    },
    {
      "cell_type": "markdown",
      "source": [
        "isna나 isnull의 경우 결측값이면 True를 반환합니다."
      ],
      "metadata": {
        "id": "DDNl-QGDnXzh"
      }
    },
    {
      "cell_type": "code",
      "source": [
        "print(df.isna())"
      ],
      "metadata": {
        "colab": {
          "base_uri": "https://localhost:8080/"
        },
        "id": "7ACDcQOLnZIo",
        "outputId": "c1752ab3-4ec9-4e7c-c9b9-bb3d22a02219"
      },
      "execution_count": 27,
      "outputs": [
        {
          "output_type": "stream",
          "name": "stdout",
          "text": [
            "       col1   col2   col3   col4\n",
            "row1  False  False   True  False\n",
            "row2   True  False  False  False\n",
            "row3  False  False  False   True\n"
          ]
        }
      ]
    },
    {
      "cell_type": "markdown",
      "source": [
        "notna나 notnull의 경우 결측값이면 False를 반환합니다."
      ],
      "metadata": {
        "id": "WZsspS-EnZ9F"
      }
    },
    {
      "cell_type": "code",
      "source": [
        "print(df.notna())"
      ],
      "metadata": {
        "colab": {
          "base_uri": "https://localhost:8080/"
        },
        "id": "77ORB5agncDj",
        "outputId": "8a20b383-7b4f-408c-c862-142a1dd1651e"
      },
      "execution_count": 28,
      "outputs": [
        {
          "output_type": "stream",
          "name": "stdout",
          "text": [
            "       col1  col2   col3   col4\n",
            "row1   True  True  False   True\n",
            "row2  False  True   True   True\n",
            "row3   True  True   True  False\n"
          ]
        }
      ]
    },
    {
      "cell_type": "markdown",
      "source": [
        "## 결측값 제거 (dropna)"
      ],
      "metadata": {
        "id": "B7_F4_KpngfA"
      }
    },
    {
      "cell_type": "markdown",
      "source": [
        "**기본 사용법**\n",
        "df.dropna(axis=0, how='any', thresh=None, subset=None, inplace=False)\n",
        "*   axis : {0: index / 1: columns} 결측치 제거를 진행 할 레이블입니다.\n",
        "*   how : {'any' : 존재하면 제거 / 'all' : 모두 결측치면 제거} 제거할 유형입니다. 포함만 시켜도 제거할지, 전무 NA여야 제거할지 정할 수 있습니다.\n",
        "*   tresh : 결측값이 아닌 값이 몇 개 미만일 경우에만 적용시키는 인수 입니다.\n",
        "*   subset : dropna메서드를 수행할 레이블을 지정합니다.\n",
        "*   inplace : 원본을 변경할지의 여부입니다.\n"
      ],
      "metadata": {
        "id": "nUi5iL7RnkZL"
      }
    },
    {
      "cell_type": "code",
      "source": [
        "col  = ['col1','col2','col3','col4','col5']\n",
        "row  = ['row1','row2','row3','row4']\n",
        "data = [[1,2,3,pd.NA,5],[6,pd.NA,8,pd.NA,10],[11,12,13,14,15],[pd.NA,pd.NA,pd.NA,pd.NA,pd.NA]]\n",
        "df = pd.DataFrame(data,row,col)\n",
        "print(df)"
      ],
      "metadata": {
        "colab": {
          "base_uri": "https://localhost:8080/"
        },
        "id": "Eig_o2vvn8Pm",
        "outputId": "74688b46-bafb-465d-b3b3-952347e1afce"
      },
      "execution_count": 29,
      "outputs": [
        {
          "output_type": "stream",
          "name": "stdout",
          "text": [
            "      col1  col2  col3  col4  col5\n",
            "row1     1     2     3  <NA>     5\n",
            "row2     6  <NA>     8  <NA>    10\n",
            "row3    11    12    13    14    15\n",
            "row4  <NA>  <NA>  <NA>  <NA>  <NA>\n"
          ]
        }
      ]
    },
    {
      "cell_type": "markdown",
      "source": [
        "axis가 0인경우 행에 대해서, axis가 1인경우 열에 대해서 결측치 제거가 수행됩니다.  \n",
        "axis=0인 경우 결측치가 포함된 모든 행이 제거되었습니다."
      ],
      "metadata": {
        "id": "Q_yUSMjOn-Nv"
      }
    },
    {
      "cell_type": "code",
      "source": [
        "print(df.dropna(axis=0))"
      ],
      "metadata": {
        "colab": {
          "base_uri": "https://localhost:8080/"
        },
        "id": "gZdo16o2oBea",
        "outputId": "a1254e3d-3173-4b6d-8368-e6f36bd6e889"
      },
      "execution_count": 30,
      "outputs": [
        {
          "output_type": "stream",
          "name": "stdout",
          "text": [
            "     col1 col2 col3 col4 col5\n",
            "row3   11   12   13   14   15\n"
          ]
        }
      ]
    },
    {
      "cell_type": "markdown",
      "source": [
        "axis=1인 경우 결측치가 포함된 모든 열이 제거되었습니다. 예시의 경우 모든 열에 NA가 존재하므로 빈 값이 반환됩니다."
      ],
      "metadata": {
        "id": "HOMx7eYuoDoO"
      }
    },
    {
      "cell_type": "code",
      "source": [
        "print(df.dropna(axis=1))"
      ],
      "metadata": {
        "colab": {
          "base_uri": "https://localhost:8080/"
        },
        "id": "FVLTb2ZooEx6",
        "outputId": "04cd149a-f89e-4fc0-b5aa-ff5362aebd03"
      },
      "execution_count": 31,
      "outputs": [
        {
          "output_type": "stream",
          "name": "stdout",
          "text": [
            "Empty DataFrame\n",
            "Columns: []\n",
            "Index: [row1, row2, row3, row4]\n"
          ]
        }
      ]
    },
    {
      "cell_type": "markdown",
      "source": [
        "기본적으로 how 는 'any'이며 이 경우 한 값이라도 NA를 가진다면 해당 레이블을 제거합니다."
      ],
      "metadata": {
        "id": "Qre7PW3zoIna"
      }
    },
    {
      "cell_type": "code",
      "source": [
        "print(df.dropna(how='any'))"
      ],
      "metadata": {
        "colab": {
          "base_uri": "https://localhost:8080/"
        },
        "id": "M1_QsJWZoKBa",
        "outputId": "ae472aa0-f014-42cf-dd77-7dc36334269e"
      },
      "execution_count": 32,
      "outputs": [
        {
          "output_type": "stream",
          "name": "stdout",
          "text": [
            "     col1 col2 col3 col4 col5\n",
            "row3   11   12   13   14   15\n"
          ]
        }
      ]
    },
    {
      "cell_type": "code",
      "source": [
        "print(df.dropna(how='all'))"
      ],
      "metadata": {
        "colab": {
          "base_uri": "https://localhost:8080/"
        },
        "id": "-TqBqr_goMJa",
        "outputId": "be29b751-d439-4b1f-d29d-8497ef130893"
      },
      "execution_count": 33,
      "outputs": [
        {
          "output_type": "stream",
          "name": "stdout",
          "text": [
            "     col1  col2 col3  col4 col5\n",
            "row1    1     2    3  <NA>    5\n",
            "row2    6  <NA>    8  <NA>   10\n",
            "row3   11    12   13    14   15\n"
          ]
        }
      ]
    },
    {
      "cell_type": "markdown",
      "source": [
        "thresh를 이용하여 정상값의 수를 보장할 수 있습니다.  \n",
        "thresh가 3일 경우 정상값이 3개 미만인 경우에 대해서만 결측치 보정을 진행합니다.  "
      ],
      "metadata": {
        "id": "eXlnT91HoNr6"
      }
    },
    {
      "cell_type": "code",
      "source": [
        "print(df.dropna(thresh=3))"
      ],
      "metadata": {
        "colab": {
          "base_uri": "https://localhost:8080/"
        },
        "id": "0tJQHvpYoTsh",
        "outputId": "13580dbe-ab9f-450b-faee-941f9e2ee8c1"
      },
      "execution_count": 34,
      "outputs": [
        {
          "output_type": "stream",
          "name": "stdout",
          "text": [
            "     col1  col2 col3  col4 col5\n",
            "row1    1     2    3  <NA>    5\n",
            "row2    6  <NA>    8  <NA>   10\n",
            "row3   11    12   13    14   15\n"
          ]
        }
      ]
    },
    {
      "cell_type": "markdown",
      "source": [
        "thresh가 4인 경우 정상값이 4개 미만인 경우에 대해서 결측치 보정을 진행합니다."
      ],
      "metadata": {
        "id": "M8QOwbAhohmQ"
      }
    },
    {
      "cell_type": "code",
      "source": [
        "print(df.dropna(thresh=4))"
      ],
      "metadata": {
        "colab": {
          "base_uri": "https://localhost:8080/"
        },
        "id": "tl4Lb3xLokWD",
        "outputId": "e4de641c-4b4d-4758-8acf-8a065114c6e6"
      },
      "execution_count": 35,
      "outputs": [
        {
          "output_type": "stream",
          "name": "stdout",
          "text": [
            "     col1 col2 col3  col4 col5\n",
            "row1    1    2    3  <NA>    5\n",
            "row3   11   12   13    14   15\n"
          ]
        }
      ]
    },
    {
      "cell_type": "markdown",
      "source": [
        "subset에 리스트형태의 값을 입력함으로써 결측치 제거를 수행할 레이블을 지정할 수 있습니다.  \n",
        "col1, col2에 대해서 결측치가 있는경우만 제거되었습니다."
      ],
      "metadata": {
        "id": "l22DmIMsoi-S"
      }
    },
    {
      "cell_type": "code",
      "source": [
        "print(df.dropna(subset=['col1','col2']))"
      ],
      "metadata": {
        "colab": {
          "base_uri": "https://localhost:8080/"
        },
        "id": "7jtpoULmooCp",
        "outputId": "73dd169e-19bc-43ca-88f3-87bd2f068db0"
      },
      "execution_count": 36,
      "outputs": [
        {
          "output_type": "stream",
          "name": "stdout",
          "text": [
            "     col1 col2 col3  col4 col5\n",
            "row1    1    2    3  <NA>    5\n",
            "row3   11   12   13    14   15\n"
          ]
        }
      ]
    },
    {
      "cell_type": "markdown",
      "source": [
        "Pandas에서 공통적으로 inplace 인수는 원본의 수정을 의미합니다.  \n",
        " inplace가 True인 경우 원본이 수정됩니다."
      ],
      "metadata": {
        "id": "66mDMHN8os2F"
      }
    },
    {
      "cell_type": "code",
      "source": [
        "df.dropna(inplace=True)\n",
        "print(df)"
      ],
      "metadata": {
        "colab": {
          "base_uri": "https://localhost:8080/"
        },
        "id": "QB2MamPUozEj",
        "outputId": "56333fb9-f240-43dc-8813-d97759805181"
      },
      "execution_count": 37,
      "outputs": [
        {
          "output_type": "stream",
          "name": "stdout",
          "text": [
            "     col1 col2 col3 col4 col5\n",
            "row3   11   12   13   14   15\n"
          ]
        }
      ]
    },
    {
      "cell_type": "markdown",
      "source": [
        "## 결측값 없는 인덱스 확인 (first_valid_index / last_valid_index)"
      ],
      "metadata": {
        "id": "psrOgrM9o2fj"
      }
    },
    {
      "cell_type": "markdown",
      "source": [
        "**기본 사용법**  \n",
        "df.first_valid_index( )  \n",
        "df.last_valid_index( )"
      ],
      "metadata": {
        "id": "cCZridtHo4nj"
      }
    },
    {
      "cell_type": "code",
      "source": [
        "col  = ['col1','col2']\n",
        "row  = ['row1','row2','row3','row4','row5']\n",
        "data = [[np.nan,np.nan],[pd.NA,4],[pd.NA,pd.NaT],[5,6],[np.nan,pd.NA]]\n",
        "df = pd.DataFrame(data,row,col)\n",
        "print(df)"
      ],
      "metadata": {
        "colab": {
          "base_uri": "https://localhost:8080/"
        },
        "id": "lh_Q08-io8Z-",
        "outputId": "4906a658-0fd4-4542-feda-c070443032ac"
      },
      "execution_count": 38,
      "outputs": [
        {
          "output_type": "stream",
          "name": "stdout",
          "text": [
            "      col1  col2\n",
            "row1   NaN   NaN\n",
            "row2  <NA>     4\n",
            "row3  <NA>   NaT\n",
            "row4     5     6\n",
            "row5   NaN  <NA>\n"
          ]
        }
      ]
    },
    {
      "cell_type": "markdown",
      "source": [
        "first_valid_index메서드의 경우 처음으로 결측치가 아닌값이 나오는 행의 인덱스를 출력합니다.  \n",
        "이 경우 row2에서 처음으로 정상값인 4가 있으므로 row2를 출력합니다."
      ],
      "metadata": {
        "id": "6oREO2P8pCa9"
      }
    },
    {
      "cell_type": "code",
      "source": [
        "print(df.first_valid_index()) "
      ],
      "metadata": {
        "colab": {
          "base_uri": "https://localhost:8080/"
        },
        "id": "bDE9ogFUo_Je",
        "outputId": "90958fec-7760-49b6-92c0-6f4ec823fdac"
      },
      "execution_count": 39,
      "outputs": [
        {
          "output_type": "stream",
          "name": "stdout",
          "text": [
            "row2\n"
          ]
        }
      ]
    },
    {
      "cell_type": "markdown",
      "source": [
        "last_valid_index메서드의 경우 마지막으로 결측치가 아닌값이 나오는 행의 인덱스를 출력합니다.  \n",
        "이 경우 row4이후에는 정상값이 없으므로 row4를 출력합니다."
      ],
      "metadata": {
        "id": "N0ysc2m5pGsG"
      }
    },
    {
      "cell_type": "code",
      "source": [
        "print(df.last_valid_index())"
      ],
      "metadata": {
        "colab": {
          "base_uri": "https://localhost:8080/"
        },
        "id": "B0UlryZqpI1H",
        "outputId": "4f07eba9-0e95-4b9c-b08f-99fb44245b38"
      },
      "execution_count": 40,
      "outputs": [
        {
          "output_type": "stream",
          "name": "stdout",
          "text": [
            "row4\n"
          ]
        }
      ]
    },
    {
      "cell_type": "markdown",
      "source": [
        "## 결측값 변경 ( fillna )\n"
      ],
      "metadata": {
        "id": "Bojp4iW7pTaB"
      }
    },
    {
      "cell_type": "markdown",
      "source": [
        "**기본 사용법**  \n",
        "df.fillna(value=None, method=None, axis=None, inplace=False, limit=None, downcast=None)  \n",
        "\n",
        "\n",
        "*   value : 결측값을 대체할 값입니다. dict형태로도 가능합니다.\n",
        "*   method : 결측값을 변경할 방식입니다. bfill로 할경우 결측값을 바로 아래 값과 동일하게 변경합니다.\n",
        "*   ffill로 할 경우 결측값을 바로 위 값과 동일하게 변경합니다.\n",
        "*   axis : {0 : index / 1 : columns} fillna 메서드를 적용할 레이블입니다.\n",
        "*   inplace : 원본을 변경할지 여부입니다. True일 경우 원본을 변경하게 됩니다.\n",
        "*   limit : 결측값을 변경할 횟수입니다. 위에서부터 limit로 지정된 갯수만큼만 변경합니다.\n",
        "*   downcast : 다운캐스트할지 여부입니다. downcast='infer'일 경우 float64를 int64로 변경합니다.\n",
        "\n"
      ],
      "metadata": {
        "id": "MujWtIe5pV05"
      }
    },
    {
      "cell_type": "code",
      "source": [
        "col  = ['col1','col2','col3','col4','col5']\n",
        "row  = ['row1','row2','row3','row4','row5']\n",
        "na = np.nan\n",
        "data = [[na, 2,na, 4,na],\n",
        "        [ 6, 7,na, 9,na],\n",
        "        [11,na,na,14,15],\n",
        "        [na,17,na,na,20],\n",
        "        [na,22,na,na,25]]\n",
        "df = pd.DataFrame(data,row,col)\n",
        "print(df)"
      ],
      "metadata": {
        "colab": {
          "base_uri": "https://localhost:8080/"
        },
        "id": "C7Nf1HEmpweM",
        "outputId": "56a3d904-8690-413d-a4b2-bd436940dae6"
      },
      "execution_count": 41,
      "outputs": [
        {
          "output_type": "stream",
          "name": "stdout",
          "text": [
            "      col1  col2  col3  col4  col5\n",
            "row1   NaN   2.0   NaN   4.0   NaN\n",
            "row2   6.0   7.0   NaN   9.0   NaN\n",
            "row3  11.0   NaN   NaN  14.0  15.0\n",
            "row4   NaN  17.0   NaN   NaN  20.0\n",
            "row5   NaN  22.0   NaN   NaN  25.0\n"
          ]
        }
      ]
    },
    {
      "cell_type": "markdown",
      "source": [
        "value가 숫자나 문자일 경우 그대로 결측값을 대체하게 됩니다.  \n",
        "여기서는 A로 바꿔보겠습니다."
      ],
      "metadata": {
        "id": "nYkZG8wLpzCc"
      }
    },
    {
      "cell_type": "code",
      "source": [
        "print(df.fillna('A'))"
      ],
      "metadata": {
        "colab": {
          "base_uri": "https://localhost:8080/"
        },
        "id": "WDFSi0_-p3w-",
        "outputId": "e67b64d8-a09d-4647-f5e1-8d38286cfb9e"
      },
      "execution_count": 42,
      "outputs": [
        {
          "output_type": "stream",
          "name": "stdout",
          "text": [
            "      col1  col2 col3  col4  col5\n",
            "row1     A   2.0    A   4.0     A\n",
            "row2   6.0   7.0    A   9.0     A\n",
            "row3  11.0     A    A  14.0  15.0\n",
            "row4     A  17.0    A     A  20.0\n",
            "row5     A  22.0    A     A  25.0\n"
          ]
        }
      ]
    },
    {
      "cell_type": "markdown",
      "source": [
        "method인수에 bfill을 입력할 경우 결측값이 바로 아래값과 동일하게 설정됩니다.  \n",
        "※ df.backfill( )이나 df.bfill( )과 완전히 동일한 기능을 수행합니다."
      ],
      "metadata": {
        "id": "aVVvLk2IqAhH"
      }
    },
    {
      "cell_type": "code",
      "source": [
        "print(df.fillna(method='bfill'))"
      ],
      "metadata": {
        "colab": {
          "base_uri": "https://localhost:8080/"
        },
        "id": "xhcxhmsXqCh_",
        "outputId": "10c06fe0-2119-4ab4-ca62-df25f0f3025e"
      },
      "execution_count": 43,
      "outputs": [
        {
          "output_type": "stream",
          "name": "stdout",
          "text": [
            "      col1  col2  col3  col4  col5\n",
            "row1   6.0   2.0   NaN   4.0  15.0\n",
            "row2   6.0   7.0   NaN   9.0  15.0\n",
            "row3  11.0  17.0   NaN  14.0  15.0\n",
            "row4   NaN  17.0   NaN   NaN  20.0\n",
            "row5   NaN  22.0   NaN   NaN  25.0\n"
          ]
        }
      ]
    },
    {
      "cell_type": "markdown",
      "source": [
        "method인수에 ffill을 입력할 경우 결측값이 바로 위값과 동일하게 설정됩니다.\n",
        "※ df.pad( )나 df.ffill( )과 완전히 동일한 기능을 수행합니다."
      ],
      "metadata": {
        "id": "EV-JnXX2qFja"
      }
    },
    {
      "cell_type": "code",
      "source": [
        "print(df.fillna(method='ffill'))"
      ],
      "metadata": {
        "colab": {
          "base_uri": "https://localhost:8080/"
        },
        "id": "ZNxQnl98qGWR",
        "outputId": "f9d9e60b-211b-4192-8cc6-5e29d1d594c2"
      },
      "execution_count": 44,
      "outputs": [
        {
          "output_type": "stream",
          "name": "stdout",
          "text": [
            "      col1  col2  col3  col4  col5\n",
            "row1   NaN   2.0   NaN   4.0   NaN\n",
            "row2   6.0   7.0   NaN   9.0   NaN\n",
            "row3  11.0   7.0   NaN  14.0  15.0\n",
            "row4  11.0  17.0   NaN  14.0  20.0\n",
            "row5  11.0  22.0   NaN  14.0  25.0\n"
          ]
        }
      ]
    },
    {
      "cell_type": "markdown",
      "source": [
        "limit인수는 각 레이블값에 대해서 결측치 변경을 수행할 횟수입니다. 행 기준일경우 왼쪽부터, 열 기준일 경우 위에서부터 수행합니다."
      ],
      "metadata": {
        "id": "Hef4iRJ8qKEQ"
      }
    },
    {
      "cell_type": "code",
      "source": [
        "print(df.fillna('A', limit=2))"
      ],
      "metadata": {
        "colab": {
          "base_uri": "https://localhost:8080/"
        },
        "id": "VYZkI3JZqLep",
        "outputId": "762a7934-d2c4-4603-ec55-5d473c78e703"
      },
      "execution_count": 45,
      "outputs": [
        {
          "output_type": "stream",
          "name": "stdout",
          "text": [
            "      col1  col2 col3  col4  col5\n",
            "row1     A   2.0    A   4.0     A\n",
            "row2   6.0   7.0    A   9.0     A\n",
            "row3  11.0     A  NaN  14.0  15.0\n",
            "row4     A  17.0  NaN     A  20.0\n",
            "row5   NaN  22.0  NaN     A  25.0\n"
          ]
        }
      ]
    },
    {
      "cell_type": "markdown",
      "source": [
        "downcast 인수를 'infer'로 설정함으로써 float64형태를 int64형태로 변경할 수 있습니다."
      ],
      "metadata": {
        "id": "Rbemyk0mqRhZ"
      }
    },
    {
      "cell_type": "code",
      "source": [
        "print(df.fillna(0, downcast='infer'))"
      ],
      "metadata": {
        "colab": {
          "base_uri": "https://localhost:8080/"
        },
        "id": "AIv3LUPdqSp2",
        "outputId": "34dac3e7-07b0-45dc-bc63-6c9c3ad2c9cb"
      },
      "execution_count": 46,
      "outputs": [
        {
          "output_type": "stream",
          "name": "stdout",
          "text": [
            "      col1  col2  col3  col4  col5\n",
            "row1     0     2     0     4     0\n",
            "row2     6     7     0     9     0\n",
            "row3    11     0     0    14    15\n",
            "row4     0    17     0     0    20\n",
            "row5     0    22     0     0    25\n"
          ]
        }
      ]
    },
    {
      "cell_type": "markdown",
      "source": [
        "다른 파이썬 객체에서와 마찬가지로 inplace는 원본을 덮어씌우는 기능과 유사한 기능을 합니다.  \n",
        "즉 df.fillna(0, inplace=True) 는 df=df.fillna(0)과 동일한 기능을 합니다."
      ],
      "metadata": {
        "id": "toYVBk8BqTyO"
      }
    },
    {
      "cell_type": "code",
      "source": [
        "df.fillna('A',inplace=True)\n",
        "print(df)"
      ],
      "metadata": {
        "colab": {
          "base_uri": "https://localhost:8080/"
        },
        "id": "F_jRHe0zqXhz",
        "outputId": "af6b90ad-4e5c-4a2f-d74f-1800be242c27"
      },
      "execution_count": 47,
      "outputs": [
        {
          "output_type": "stream",
          "name": "stdout",
          "text": [
            "      col1  col2 col3  col4  col5\n",
            "row1     A   2.0    A   4.0     A\n",
            "row2   6.0   7.0    A   9.0     A\n",
            "row3  11.0     A    A  14.0  15.0\n",
            "row4     A  17.0    A     A  20.0\n",
            "row5     A  22.0    A     A  25.0\n"
          ]
        }
      ]
    },
    {
      "cell_type": "markdown",
      "metadata": {
        "id": "O8xkWUTy1vZC"
      },
      "source": [
        "## Spilt-Apply-Combine\n",
        "* 분할 - 응용 - 결합\n",
        "* Pandas의 groubpy() 함수를 통해 하위 그룹에 적용"
      ]
    },
    {
      "cell_type": "markdown",
      "metadata": {
        "id": "dT2jG3pm1vZD"
      },
      "source": [
        "#### DataFrame 가져오기"
      ]
    },
    {
      "cell_type": "code",
      "execution_count": null,
      "metadata": {
        "id": "Bcu6l5IV1vZD"
      },
      "outputs": [],
      "source": [
        "# csv 파일 불러오기\n",
        "tips = pd.read_csv('https://raw.github.com/vincentarelbundock/Rdatasets/master/csv/reshape2/tips.csv', )\n",
        "\n",
        "# .head(n= ): 첫번째 n개 행 반환\n",
        "tips.head(n=4)"
      ]
    },
    {
      "cell_type": "code",
      "execution_count": null,
      "metadata": {
        "id": "3m7N9ioy1vZD"
      },
      "outputs": [],
      "source": [
        "# 첫번째 열(Unnamed)에 있는 extra index 삭제  \n",
        "tips = tips.iloc[:, 1:]\n",
        "tips.head(n=4)"
      ]
    },
    {
      "cell_type": "markdown",
      "metadata": {
        "id": "X5ZFFJ5h1vZD"
      },
      "source": [
        "## Split-Apply-Combine 패턴 (성별과 흡연 여부)  \n",
        "  \n",
        "    \n",
        "split-apply-combine 패턴의 예제로, 성별과 흡연 여부에 따른 카운트 확인\n",
        "1. split - 성별과 흡연 여부로 나누어 2x2 group 생성\n",
        "2. apply - .size() 함수를 통해 group 당 항목 수 계산\n",
        "3. combine - 결과를 새로운 multi-index Series로 결합"
      ]
    },
    {
      "cell_type": "markdown",
      "metadata": {
        "id": "_YCG6lkG1vZD"
      },
      "source": [
        "### 1. split"
      ]
    },
    {
      "cell_type": "code",
      "execution_count": null,
      "metadata": {
        "id": "aFKZ7orj1vZD"
      },
      "outputs": [],
      "source": [
        "# 성별과 흡연 여부로 나누기\n",
        "\n",
        "# .groupby(): column을 기준으로 그룹화\n",
        "# group series 또는 일련의 column으로 반환\n",
        "grouped = tips.groupby(['sex', 'smoker'])\n",
        "grouped.size()"
      ]
    },
    {
      "cell_type": "code",
      "execution_count": null,
      "metadata": {
        "id": "vZbXvbKN1vZE"
      },
      "outputs": [],
      "source": [
        "# 교차표 생성, 빈도수 계산\n",
        "\n",
        "# .crosstab(index, column, margins): 두 개 이상의 factor에 대한 교차표\n",
        "# margins = : 행/열 총합 추가, default는 False\n",
        "pd.crosstab(tips.sex, tips.smoker, margins=True)"
      ]
    },
    {
      "cell_type": "markdown",
      "metadata": {
        "id": "oovzszbg1vZE"
      },
      "source": [
        "### 2. apply"
      ]
    },
    {
      "cell_type": "code",
      "execution_count": null,
      "metadata": {
        "id": "Aa89jsqc1vZE"
      },
      "outputs": [],
      "source": [
        "# 원본 data를 변환하여 편리한 분석 가능\n",
        "\n",
        "# total_bill, tips 단위 표준화\n",
        "zscore = lambda x: (x - x.mean())/x.std()\n",
        "\n",
        "std_grouped = grouped['total_bill', 'tip'].transform(zscore)\n",
        "std_grouped.head(n=4)"
      ]
    },
    {
      "cell_type": "code",
      "execution_count": null,
      "metadata": {
        "id": "0TxFH_yf1vZE"
      },
      "outputs": [],
      "source": [
        "# .mean(): group 평균 계산\n",
        "grouped.mean()\n",
        "\n",
        "# 2개 이상의 results 열 생성되면 DataFrame 반환 \n",
        "# print(type(grouped.mean()))"
      ]
    },
    {
      "cell_type": "code",
      "execution_count": null,
      "metadata": {
        "id": "49HX3i-R1vZE"
      },
      "outputs": [],
      "source": [
        "# .agg(): 여러 개의 집계 함수 결과 반환\n",
        "grouped['total_bill', 'tip'].agg(['mean', 'min', 'max'])"
      ]
    },
    {
      "cell_type": "code",
      "execution_count": null,
      "metadata": {
        "id": "-A72eces1vZE"
      },
      "outputs": [],
      "source": [
        "# column에 구체적으로 apply\n",
        "\n",
        "# dict 사용 \n",
        "grouped.agg({'total_bill': (min, max), 'tip': sum})"
      ]
    }
  ],
  "metadata": {
    "kernelspec": {
      "display_name": "Python 3 (ipykernel)",
      "language": "python",
      "name": "python3"
    },
    "language_info": {
      "codemirror_mode": {
        "name": "ipython",
        "version": 3
      },
      "file_extension": ".py",
      "mimetype": "text/x-python",
      "name": "python",
      "nbconvert_exporter": "python",
      "pygments_lexer": "ipython3",
      "version": "3.8.12"
    },
    "colab": {
      "provenance": [],
      "collapsed_sections": [
        "YXxRR_iH1vY-",
        "O8xkWUTy1vZC",
        "dT2jG3pm1vZD",
        "X5ZFFJ5h1vZD",
        "_YCG6lkG1vZD",
        "oovzszbg1vZE"
      ]
    }
  },
  "nbformat": 4,
  "nbformat_minor": 0
}