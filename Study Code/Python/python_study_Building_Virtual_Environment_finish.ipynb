{
  "nbformat": 4,
  "nbformat_minor": 0,
  "metadata": {
    "colab": {
      "private_outputs": true,
      "provenance": []
    },
    "kernelspec": {
      "name": "python3",
      "display_name": "Python 3"
    },
    "language_info": {
      "name": "python"
    }
  },
  "cells": [
    {
      "cell_type": "markdown",
      "source": [
        "# 가상환경 구축\n"
      ],
      "metadata": {
        "id": "ZHu6pkwJ4bNH"
      }
    },
    {
      "cell_type": "markdown",
      "source": [
        "### 가상환경을 왜 구축하느냐?"
      ],
      "metadata": {
        "id": "8sIv6HwZ4eoW"
      }
    },
    {
      "cell_type": "markdown",
      "source": [
        "가상 환경은 프로젝트마다 격리된 환경(즉, 가상 환경)을 생성함으로써 프로젝트별로 패키지를 관리하기 위함이다.   \n",
        "버전이 다를경우 호환이 되지 않아서 프로젝트의 코드를 일일이 수정하는것도 힘이든다.  \n"
      ],
      "metadata": {
        "id": "WE2tmX0b4jLO"
      }
    },
    {
      "cell_type": "markdown",
      "source": [
        "실행 순서 : 아나콘다 실행해서 cmd를 실행하거나 메뉴에 있는 cmd를 실행 그 후 밑에 있는 코드대로 실행  \n",
        "실행 조건 : anaconda3가 컴퓨터에 깔려있어야한다."
      ],
      "metadata": {
        "id": "2ZQOtMPA77ZH"
      }
    },
    {
      "cell_type": "markdown",
      "source": [
        "다음 명령어를 통해 가상환경이 만들어진다."
      ],
      "metadata": {
        "id": "NO5Xr-Q28DQn"
      }
    },
    {
      "cell_type": "code",
      "source": [
        "conda create -n <환경명> python = < 버전 >\n",
        "conda create -n statistic python=3.7 # example / 여기서 statistic은 가상환경 이름을 말한다"
      ],
      "metadata": {
        "id": "wd4gY1zW4swA"
      },
      "execution_count": null,
      "outputs": []
    },
    {
      "cell_type": "markdown",
      "source": [
        "내가 제대로 환경을 만들었는지 확인하는 작업"
      ],
      "metadata": {
        "id": "io_Bls3g896A"
      }
    },
    {
      "cell_type": "code",
      "source": [
        "conda env list"
      ],
      "metadata": {
        "id": "VozoZj-gSuim"
      },
      "execution_count": null,
      "outputs": []
    },
    {
      "cell_type": "markdown",
      "source": [
        "가상환경 실행"
      ],
      "metadata": {
        "id": "qt6y2YHwSwfZ"
      }
    },
    {
      "cell_type": "code",
      "source": [
        "conda activate <환경명>\n",
        "conda activate statistic"
      ],
      "metadata": {
        "id": "y0u5pUd79T_R"
      },
      "execution_count": null,
      "outputs": []
    },
    {
      "cell_type": "markdown",
      "source": [
        "가상환경에서 벗어나려면 "
      ],
      "metadata": {
        "id": "M8HC7FoE9cJf"
      }
    },
    {
      "cell_type": "code",
      "source": [
        "deactivate \n",
        "conda deactivate\n",
        "conda activate "
      ],
      "metadata": {
        "id": "XVKXU-Jk9dUZ"
      },
      "execution_count": null,
      "outputs": []
    },
    {
      "cell_type": "markdown",
      "source": [
        "만들어진 환경을 제거하고싶다면"
      ],
      "metadata": {
        "id": "dYbJmxH6TBi7"
      }
    },
    {
      "cell_type": "code",
      "source": [
        "conda remove -n <환경명> --all\n",
        "conda remove -n statistic --all"
      ],
      "metadata": {
        "id": "_l6uGjLzS_fW"
      },
      "execution_count": null,
      "outputs": []
    },
    {
      "cell_type": "markdown",
      "source": [
        "주요 명령들 "
      ],
      "metadata": {
        "id": "6e42e93MTM7g"
      }
    },
    {
      "cell_type": "code",
      "source": [
        "conda info : 현재 환경 정보 출력\n",
        "conda search : 패키지 검색 \n",
        "conda install 패키지 = 버전 : 특정 버전의 패키지를 설치 / 그냥 뒤에 버전 때고 패키지만 붙여도 된다. \n",
        "conda install 패키지 = 버전 = 파이썬버전 : 파이썬 버전을 지정하여 특정 버전의 패키지를 설치 \n",
        "conda update 패키지 : 패키지 업데이트\n",
        "pip install -r requirements.txt : requirements 메모장에 설치하고싶은 패키지 및 버전을 넣고 설치하면 된다.\n",
        "conda list : 패키지 목록 출력\n",
        "conda remove : 패키지 삭제\n",
        "conda list --export > package-list.txt : 패키지 목록 및 버전 정보 저장\n",
        "conda install --file package-list.txt : 패키지 목록으로 설치 \n",
        "conda update -n base -c defaults conda : 아나콘다 최신버전 확인 \n",
        "ctrl + z : 실행중인 파이썬 모드 나가는법 "
      ],
      "metadata": {
        "id": "ZQVB3du2TOnU"
      },
      "execution_count": null,
      "outputs": []
    },
    {
      "cell_type": "markdown",
      "source": [
        "solving environment failed with initlal frozen solve. retrying with flexible solve 문제점 "
      ],
      "metadata": {
        "id": "0oHMlGKGcDVW"
      }
    },
    {
      "cell_type": "code",
      "source": [
        "conda update --all # conda를 최신버전으로 업데이트하면 해결된다."
      ],
      "metadata": {
        "id": "gCzDIfF-cNnI"
      },
      "execution_count": null,
      "outputs": []
    },
    {
      "cell_type": "markdown",
      "source": [
        "위에 저 방법이 안된다면 본체에 깔려있는 파이썬을 완전히 삭제해서 conda와의 충돌을 방지하는 방법이 있다."
      ],
      "metadata": {
        "id": "_uOtZI45cQb_"
      }
    },
    {
      "cell_type": "markdown",
      "source": [
        "SSLError가 뜬 경우에는 \n",
        "해결 방법 #1\n",
        "\n",
        "1. \"아나콘다경로/Library/bin/\" 경로 열기\n",
        "\n",
        "2. 다음 네 가지 파일들을 복사\n",
        "\n",
        "libcrypto-1_1-x64.dll\n",
        "\n",
        "libcrypto-1_1-x64.pdb\n",
        "\n",
        "libssl-1_1-x64.dll\n",
        "\n",
        "libssl-1_1-x64.pdb\n",
        "\n",
        "3. \"아나콘다경로/DLLs/\" 경로에 붙여넣기\n",
        "\n",
        "해결 방법 #2    \n",
        "\n",
        "시스템 환경변수 Path에 \"아나콘다경로\\Library\\bin\" 추가\n"
      ],
      "metadata": {
        "id": "YDGo6qhEcje_"
      }
    },
    {
      "cell_type": "markdown",
      "source": [
        "아나콘다에서는 현재 가상환경을 yaml 파일 형태로 export 하는 것이 가능하다.  \n",
        "위처럼 가상환경을 활성화 시켜 주고, conda env export 명령어를 통해 현재 가상환경 세팅 정보를 yaml 파일 형태로 내보내기가 가능하다.  \n",
        " '>' 이후에는 저장될 파일의 위치, 이름을 입력해 주면 되는데, 절대경로가 아니라면 현재 워킹 디렉토리 하에 저장된다.\n",
        " 이 파일을 한번 열어보면 위와 같이 가상환경의 정보가 빼곡히 적혀 있는 것을 확인할 수 있다. 디펜던시 키 아래로 설치된 각종 패키지명과 버전이 리스트의 형태로 저장되어 있다.  \n",
        "이렇게 생성된 파일을 이용해 새 가상환경을 만들어 주는 기능 또한 아나콘다에 있다.\n",
        "\n",
        " "
      ],
      "metadata": {
        "id": "sbvwMjuwtQr8"
      }
    },
    {
      "cell_type": "code",
      "source": [
        "conda activate practice\n",
        "conda env export > pracetice.yaml"
      ],
      "metadata": {
        "id": "xZNA2wqItRqU"
      },
      "execution_count": null,
      "outputs": []
    },
    {
      "cell_type": "markdown",
      "source": [
        "Conda 가상환경을 생성할 때, -f 옵션을 통해 export 된 파일 경로를 입력해 주면 해당 파일을 이용해 새로운 가상환경을 생성하고, 각종 디펜던시 또한 함께 설치할 수 있다.  "
      ],
      "metadata": {
        "id": "XDB0WDQqt5rE"
      }
    },
    {
      "cell_type": "code",
      "source": [
        "conda env create -f py39.yaml\n",
        "conda activate py39"
      ],
      "metadata": {
        "id": "sXHQZb7-t6yj"
      },
      "execution_count": null,
      "outputs": []
    },
    {
      "cell_type": "markdown",
      "source": [
        "위처럼 conda env create 이후에 -f {파일 경로} 를 입력해 주면 된다.   \n",
        "다만 새롭게 생성될 가상환경의 이름은 yaml 파일의 name 키에 적혀 있는 대로 정해지기 때문에, 만약 같은 머신에서 다른 이름으로 동일한 가상환경을 생성하고 싶다면 name 키의 값을 수정해 주면 된다."
      ],
      "metadata": {
        "id": "gI7YXU6puCYU"
      }
    },
    {
      "cell_type": "markdown",
      "source": [
        " pip 명령어로 설치할 수 없는 패키지가 존재한다면, 이들은 미리 yaml 파일의 디펜던시 리스트에서 주석 처리하거나 제거해 준 후 설치를 진행해야 한다.  \n",
        "만약 설치 중간에 특정 패키지를 찾을 수 없어 에러가 난다면, 이후 패키지 설치로 계속 진행하는 것이 아니라 문제가 생긴 패키지 이전 패키지들까지만 설치를 완료한 상태로 가상환경 생성을 완료하므로 일이 귀찮아진다."
      ],
      "metadata": {
        "id": "LGWLbG2XuPfM"
      }
    },
    {
      "cell_type": "code",
      "source": [
        "conda env remove -n [environment name]"
      ],
      "metadata": {
        "id": "vIOjeERIuVgr"
      },
      "execution_count": null,
      "outputs": []
    },
    {
      "cell_type": "markdown",
      "source": [
        "만약 다른 머신에 가상환경을 설치해야 하는 경우 yaml 파일을 따로 전송한 후 해당 머신에서 동일하게 설치를 진행하면 된다."
      ],
      "metadata": {
        "id": "FvZ5cxGyucv7"
      }
    },
    {
      "cell_type": "markdown",
      "source": [
        "같은 머신 상에서 가상환경을 똑같이 새로 만드는 상황이라면 이것보다 훨씬 더 간단한 방법이 있다.   \n",
        "바로 conda create 시 --clone 옵션을 제공해 주는 것이다."
      ],
      "metadata": {
        "id": "yf2MOpZWugKs"
      }
    },
    {
      "cell_type": "code",
      "source": [
        "conda create -n practice_test_clone --clone practice"
      ],
      "metadata": {
        "id": "BJtFNbfSuj1L"
      },
      "execution_count": null,
      "outputs": []
    }
  ]
}