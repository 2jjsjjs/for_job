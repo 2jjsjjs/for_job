{
 "cells": [
  {
   "cell_type": "code",
   "execution_count": 2,
   "metadata": {},
   "outputs": [],
   "source": [
    "#%% Functions are first class objects\n",
    "# 함수를 list, int같은 값으로 사용이 가능하다는 장점이 있다.\n",
    "\n",
    "def square(x):\n",
    "    return x*x\n",
    "\n",
    "def cube(x):\n",
    "    return x*x*x"
   ]
  },
  {
   "cell_type": "code",
   "execution_count": 3,
   "metadata": {},
   "outputs": [
    {
     "name": "stdout",
     "output_type": "stream",
     "text": [
      "{'a': <function square at 0x0394A348>, 'b': <function cube at 0x0394A078>}\n"
     ]
    }
   ],
   "source": [
    "# Dictionary : key에 value를 저장함\n",
    "\n",
    "funcs = {\n",
    "    'a': square,\n",
    "    'b': cube,\n",
    "}\n",
    "\n",
    "print(funcs)"
   ]
  },
  {
   "cell_type": "code",
   "execution_count": 4,
   "metadata": {},
   "outputs": [
    {
     "name": "stdout",
     "output_type": "stream",
     "text": [
      "4\n",
      "8\n",
      "a 4\n",
      "b 8\n"
     ]
    }
   ],
   "source": [
    "x = 2\n",
    "\n",
    "print (square(x))\n",
    "print (cube(x))\n",
    "\n",
    "for func in sorted(funcs):\n",
    "    print (func, funcs[func](x))"
   ]
  },
  {
   "cell_type": "code",
   "execution_count": 5,
   "metadata": {},
   "outputs": [
    {
     "name": "stdout",
     "output_type": "stream",
     "text": [
      "[1, 2, 3] 59464120\n",
      "[999, 2, 3] 59464120\n",
      "[999, 2, 3] 59464120\n"
     ]
    }
   ],
   "source": [
    "#%% Fuction arguments : call by \"object reference\"\n",
    "# function을 사용할때, argument하는 것에 대해 주의해야 한다.\n",
    "# x가 list, dictionary처럼 mutable하다면 call by reference\n",
    "# x가 int, str처럼 immutable하다면 call by value\n",
    "\n",
    "def transmogrify(x):\n",
    "    x[0] = 999\n",
    "    return x\n",
    "\n",
    "x = [1,2,3]\n",
    "print (x, id(x))\n",
    "print (transmogrify(x), id(transmogrify(x)))\n",
    "print (x, id(x))"
   ]
  },
  {
   "cell_type": "code",
   "execution_count": 6,
   "metadata": {},
   "outputs": [
    {
     "name": "stdout",
     "output_type": "stream",
     "text": [
      "[1, 2, 3] 59485240\n",
      "[4, 5, 6] 59547936\n",
      "[1, 2, 3] 59485240\n"
     ]
    }
   ],
   "source": [
    "def no_mogrify(x):\n",
    "    x = [4,5,6]\n",
    "    return x\n",
    "\n",
    "x = [1,2,3]\n",
    "print (x, id(x))\n",
    "print (no_mogrify(x), id(no_mogrify(x)))\n",
    "print (x, id(x))"
   ]
  },
  {
   "cell_type": "code",
   "execution_count": 7,
   "metadata": {},
   "outputs": [
    {
     "name": "stdout",
     "output_type": "stream",
     "text": [
      "59483400\n",
      "[1]\n",
      "59483400\n",
      "[1, 1]\n",
      "59483400\n",
      "[1, 1, 1]\n",
      "59483320\n",
      "[9, 9, 9, 1]\n",
      "59483400\n",
      "[1, 1, 1, 1]\n",
      "59483400\n",
      "[1, 1, 1, 1, 1]\n"
     ]
    }
   ],
   "source": [
    "#%% Fuction arguments : binding of default arguments occurs at function definition\n",
    "\n",
    "def f(x = []):\n",
    "    x.append(1)\n",
    "    print(id(x))\n",
    "    return x\n",
    "\n",
    "print (f())\n",
    "print (f())\n",
    "print (f())\n",
    "print (f(x = [9,9,9]))\n",
    "print (f())\n",
    "print (f())"
   ]
  },
  {
   "cell_type": "code",
   "execution_count": 8,
   "metadata": {},
   "outputs": [
    {
     "name": "stdout",
     "output_type": "stream",
     "text": [
      "59483240\n",
      "[1]\n",
      "59483400\n",
      "[1]\n",
      "59483240\n",
      "[1]\n",
      "59483400\n",
      "[9, 9, 9, 1]\n",
      "59483240\n",
      "[1]\n",
      "59483400\n",
      "[1]\n"
     ]
    }
   ],
   "source": [
    "def f(x = None):\n",
    "    if x is None:\n",
    "        x = []\n",
    "    x.append(1)\n",
    "    print(id(x))\n",
    "    return x\n",
    "\n",
    "print (f())\n",
    "print (f())\n",
    "print (f())\n",
    "print (f(x = [9,9,9]))\n",
    "print (f())\n",
    "print (f())"
   ]
  },
  {
   "cell_type": "code",
   "execution_count": 9,
   "metadata": {},
   "outputs": [
    {
     "data": {
      "text/plain": [
       "[0, 1, 4, 9, 16]"
      ]
     },
     "execution_count": 9,
     "metadata": {},
     "output_type": "execute_result"
    }
   ],
   "source": [
    "#%% Higher-order functions\n",
    "# 함수의 결과 및 함수의 인자를 받아서 다른함수에 사용하는 것을 의미\n",
    "\n",
    "list(map(square, range(5)))"
   ]
  },
  {
   "cell_type": "code",
   "execution_count": 14,
   "metadata": {},
   "outputs": [
    {
     "data": {
      "text/plain": [
       "[0, 2, 4]"
      ]
     },
     "execution_count": 14,
     "metadata": {},
     "output_type": "execute_result"
    }
   ],
   "source": [
    "def is_even(x):\n",
    "    return x%2 == 0\n",
    "\n",
    "list(filter(is_even, range(5)))"
   ]
  },
  {
   "cell_type": "code",
   "execution_count": 15,
   "metadata": {},
   "outputs": [
    {
     "data": {
      "text/plain": [
       "[True, False, True, False, True]"
      ]
     },
     "execution_count": 15,
     "metadata": {},
     "output_type": "execute_result"
    }
   ],
   "source": [
    "# map은 true, false를 반환한다\n",
    "\n",
    "list(map(is_even, range(5)))"
   ]
  },
  {
   "cell_type": "code",
   "execution_count": 16,
   "metadata": {},
   "outputs": [
    {
     "data": {
      "text/plain": [
       "[0, 4, 16]"
      ]
     },
     "execution_count": 16,
     "metadata": {},
     "output_type": "execute_result"
    }
   ],
   "source": [
    "list(map(square, filter(is_even, range(5))))"
   ]
  },
  {
   "cell_type": "code",
   "execution_count": 17,
   "metadata": {},
   "outputs": [
    {
     "data": {
      "text/plain": [
       "15"
      ]
     },
     "execution_count": 17,
     "metadata": {},
     "output_type": "execute_result"
    }
   ],
   "source": [
    "# python3 부터는 reduce는 내장함수에서 빠졌다.\n",
    "# reduce는 filter, map과 다르게 list를 input으로 받는다.\n",
    "\n",
    "import functools\n",
    "\n",
    "def my_add(x, y):\n",
    "    return x + y\n",
    "  \n",
    "functools.reduce(my_add, [1,2,3,4,5])"
   ]
  },
  {
   "cell_type": "code",
   "execution_count": 18,
   "metadata": {},
   "outputs": [
    {
     "name": "stdout",
     "output_type": "stream",
     "text": [
      "30\n",
      "100\n"
     ]
    }
   ],
   "source": [
    "def custom_sum(xs, transform):\n",
    "    return sum(map(transform, xs))\n",
    "\n",
    "xs = range(5)\n",
    "print (custom_sum(xs, square))\n",
    "print (custom_sum(xs, cube))"
   ]
  },
  {
   "cell_type": "code",
   "execution_count": 19,
   "metadata": {},
   "outputs": [],
   "source": [
    "# 함수를 반환하는 함수 is also useful\n",
    "\n",
    "def make_logger(target):\n",
    "    def logger(data):\n",
    "        with open(target, 'a') as s:\n",
    "            s.write(data + '\\n')\n",
    "    return logger\n",
    "\n",
    "study_logger = make_logger('study.txt')\n",
    "study_logger('안녕')\n",
    "study_logger('파이썬')"
   ]
  },
  {
   "cell_type": "code",
   "execution_count": 20,
   "metadata": {},
   "outputs": [
    {
     "name": "stdout",
     "output_type": "stream",
     "text": [
      "안녕\n",
      "파이썬\n"
     ]
    }
   ],
   "source": [
    "s = open(\"study.txt\", 'r')\n",
    "\n",
    "while True:\n",
    "    line = s.readline()\n",
    "    if not line: break\n",
    "    print(line, end='')\n",
    "    \n",
    "s.close()"
   ]
  },
  {
   "cell_type": "code",
   "execution_count": 21,
   "metadata": {},
   "outputs": [
    {
     "name": "stdout",
     "output_type": "stream",
     "text": [
      "[0, 1, 4, 9, 16]\n"
     ]
    }
   ],
   "source": [
    "#%% Anonymous functions\n",
    "\n",
    "def square(x):\n",
    "    return x*x\n",
    "\n",
    "print (list(map(square, range(5))))"
   ]
  },
  {
   "cell_type": "code",
   "execution_count": 22,
   "metadata": {},
   "outputs": [
    {
     "name": "stdout",
     "output_type": "stream",
     "text": [
      "[0, 1, 4, 9, 16]\n"
     ]
    }
   ],
   "source": [
    "# Using lambda\n",
    "\n",
    "print (list(map(lambda x: x*x, range(5))))"
   ]
  },
  {
   "cell_type": "code",
   "execution_count": 23,
   "metadata": {},
   "outputs": [
    {
     "name": "stdout",
     "output_type": "stream",
     "text": [
      "285\n",
      "285\n"
     ]
    }
   ],
   "source": [
    "s1 = functools.reduce(lambda x, y: x+y, map(lambda x: x**2, range(1,10)))\n",
    "print (s1)\n",
    "\n",
    "s2 = sum(x**2 for x in range(1,10))\n",
    "print (s2)"
   ]
  },
  {
   "cell_type": "code",
   "execution_count": 24,
   "metadata": {},
   "outputs": [
    {
     "name": "stdout",
     "output_type": "stream",
     "text": [
      "1\n",
      "2\n",
      "3\n"
     ]
    },
    {
     "ename": "StopIteration",
     "evalue": "",
     "output_type": "error",
     "traceback": [
      "\u001b[1;31m---------------------------------------------------------------------------\u001b[0m",
      "\u001b[1;31mStopIteration\u001b[0m                             Traceback (most recent call last)",
      "\u001b[1;32m<ipython-input-24-a9f5eed24803>\u001b[0m in \u001b[0;36m<module>\u001b[1;34m\u001b[0m\n\u001b[0;32m      9\u001b[0m \u001b[0mprint\u001b[0m \u001b[1;33m(\u001b[0m\u001b[0mnext\u001b[0m\u001b[1;33m(\u001b[0m\u001b[0mx_iter\u001b[0m\u001b[1;33m)\u001b[0m\u001b[1;33m)\u001b[0m\u001b[1;33m\u001b[0m\u001b[1;33m\u001b[0m\u001b[0m\n\u001b[0;32m     10\u001b[0m \u001b[0mprint\u001b[0m \u001b[1;33m(\u001b[0m\u001b[0mnext\u001b[0m\u001b[1;33m(\u001b[0m\u001b[0mx_iter\u001b[0m\u001b[1;33m)\u001b[0m\u001b[1;33m)\u001b[0m\u001b[1;33m\u001b[0m\u001b[1;33m\u001b[0m\u001b[0m\n\u001b[1;32m---> 11\u001b[1;33m \u001b[0mprint\u001b[0m \u001b[1;33m(\u001b[0m\u001b[0mnext\u001b[0m\u001b[1;33m(\u001b[0m\u001b[0mx_iter\u001b[0m\u001b[1;33m)\u001b[0m\u001b[1;33m)\u001b[0m\u001b[1;33m\u001b[0m\u001b[1;33m\u001b[0m\u001b[0m\n\u001b[0m",
      "\u001b[1;31mStopIteration\u001b[0m: "
     ]
    }
   ],
   "source": [
    "#%% Iterators\n",
    "# for 문은 sequence 뿐만 아니라 dictionary, list 등 순서에 상관없는 데이터에도 사용\n",
    "# iterator는 다음 출력이 무엇인지 보여주는 것\n",
    "\n",
    "xs = [1,2,3]\n",
    "x_iter = iter(xs)\n",
    "\n",
    "print (next(x_iter))\n",
    "print (next(x_iter))\n",
    "print (next(x_iter))\n",
    "print (next(x_iter))"
   ]
  },
  {
   "cell_type": "code",
   "execution_count": 25,
   "metadata": {},
   "outputs": [
    {
     "name": "stdout",
     "output_type": "stream",
     "text": [
      "1\n",
      "2\n",
      "3\n"
     ]
    }
   ],
   "source": [
    "x_iter = iter(xs)\n",
    "for x in x_iter:\n",
    "    print (x)"
   ]
  },
  {
   "cell_type": "code",
   "execution_count": 27,
   "metadata": {},
   "outputs": [],
   "source": [
    "#%% Generators\n",
    "# 앞의 iterator와 비슷하다. 다만 yield 문 사용\n",
    "\n",
    "def count_down(n):\n",
    "    for i in range(n, 0, -1):\n",
    "        yield i"
   ]
  },
  {
   "cell_type": "code",
   "execution_count": 28,
   "metadata": {},
   "outputs": [
    {
     "name": "stdout",
     "output_type": "stream",
     "text": [
      "10\n",
      "9\n",
      "8 7 6 5 4 3 2 1 "
     ]
    }
   ],
   "source": [
    "counter = count_down(10)\n",
    "print (next(counter))\n",
    "print (next(counter))\n",
    "for count in counter:\n",
    "    print(count, end=' ')"
   ]
  },
  {
   "cell_type": "code",
   "execution_count": 29,
   "metadata": {},
   "outputs": [
    {
     "name": "stdout",
     "output_type": "stream",
     "text": [
      "[0, 1, 4, 9, 16]\n",
      "<generator object <genexpr> at 0x03960470>\n",
      "0 1 4 9 16 "
     ]
    }
   ],
   "source": [
    "xs1 = [x*x for x in range(5)]\n",
    "print (xs1)\n",
    "\n",
    "xs2 = (x*x for x in range(5))\n",
    "print (xs2)\n",
    "\n",
    "for x in xs2:\n",
    "    print (x, end=' ')"
   ]
  },
  {
   "cell_type": "code",
   "execution_count": 30,
   "metadata": {},
   "outputs": [],
   "source": [
    "def fib():\n",
    "    a, b = 0, 1\n",
    "    while True:\n",
    "        yield a\n",
    "        a, b = b, a+b"
   ]
  },
  {
   "cell_type": "code",
   "execution_count": 31,
   "metadata": {},
   "outputs": [
    {
     "name": "stdout",
     "output_type": "stream",
     "text": [
      "0 1 1 2 3 5 8 13 21 34 55 89 144 233 377 610 987 "
     ]
    }
   ],
   "source": [
    "for i in fib():\n",
    "    if i > 1000:\n",
    "        break\n",
    "    print (i, end=' ')"
   ]
  },
  {
   "cell_type": "code",
   "execution_count": 32,
   "metadata": {},
   "outputs": [
    {
     "name": "stdout",
     "output_type": "stream",
     "text": [
      "안녕\n",
      "파이썬\n"
     ]
    }
   ],
   "source": [
    "for line in open('study.txt','r'):\n",
    "    print (line, end='')"
   ]
  },
  {
   "cell_type": "code",
   "execution_count": 33,
   "metadata": {},
   "outputs": [
    {
     "name": "stdout",
     "output_type": "stream",
     "text": [
      "<generator object <genexpr> at 0x039608F0>\n",
      "[0, 1, 2, 3, 4, 5, 6, 7, 8, 9]\n",
      "{0, 1, 2, 3, 4, 5, 6, 7, 8, 9}\n",
      "{0: 0, 1: 1, 2: 2, 3: 3, 4: 4, 5: 5, 6: 6, 7: 7, 8: 8, 9: 9}\n"
     ]
    }
   ],
   "source": [
    "#%% Generators : Generators and comprehensions\n",
    "\n",
    "print (x for x in range(10))\n",
    "\n",
    "print ([x for x in range(10)])\n",
    "\n",
    "print ({x for x in range(10)})\n",
    "\n",
    "print ({x: x for x in range(10)})"
   ]
  },
  {
   "cell_type": "code",
   "execution_count": 34,
   "metadata": {},
   "outputs": [
    {
     "name": "stdout",
     "output_type": "stream",
     "text": [
      "0 1\n",
      "1 2\n",
      "2 3\n",
      "3 4\n",
      "\n",
      "0 1\n",
      "1 2\n",
      "2 3\n",
      "3 4\n"
     ]
    }
   ],
   "source": [
    "#%% Generators : Utilites - enumerate, zip and the ternary if-else operator\n",
    "\n",
    "xs = [1,2,3,4]\n",
    "for i in range(len(xs)):\n",
    "    print (i, xs[i])\n",
    "print ()\n",
    "\n",
    "for i, x in enumerate(xs):\n",
    "    print (i, x)"
   ]
  },
  {
   "cell_type": "code",
   "execution_count": 35,
   "metadata": {},
   "outputs": [
    {
     "name": "stdout",
     "output_type": "stream",
     "text": [
      "1 10 a\n",
      "2 20 b\n",
      "3 30 c\n",
      "4 40 d\n"
     ]
    }
   ],
   "source": [
    "xs = [1, 2, 3, 4]\n",
    "ys = [10, 20, 30, 40]\n",
    "zs = ['a', 'b', 'c', 'd', 'e']\n",
    "\n",
    "for x, y, z in zip(xs, ys, zs):\n",
    "    print (x, y, z)"
   ]
  },
  {
   "cell_type": "code",
   "execution_count": 36,
   "metadata": {},
   "outputs": [
    {
     "data": {
      "text/plain": [
       "[0, 1, 4, 27, 16, 125, 36, 343, 64, 729]"
      ]
     },
     "execution_count": 36,
     "metadata": {},
     "output_type": "execute_result"
    }
   ],
   "source": [
    "[x**2 if x%2 == 0 else x**3 for x in range(10)]"
   ]
  },
  {
   "cell_type": "code",
   "execution_count": 40,
   "metadata": {},
   "outputs": [
    {
     "name": "stdout",
     "output_type": "stream",
     "text": [
      "0 5.3254237288135595 482.9027851567349\n",
      "1 6.854218980132854 112.78459729896915\n",
      "2 7.821607493223549 45.76666221374958\n",
      "3 8.359503057752283 35.96699310977093\n",
      "4 8.561890044193905 35.21190766265462\n",
      "5 8.590721034104195 35.20062461885276\n",
      "6 8.591272614592903 35.200620688206975\n",
      "7 8.591272813881039 35.20062068820646\n"
     ]
    },
    {
     "data": {
      "image/png": "[encoded data removed]",
      "text/plain": [
       "<Figure size 432x288 with 1 Axes>"
      ]
     },
     "execution_count": 40,
     "metadata": {},
     "output_type": "execute_result"
    },
    {
     "data": {
      "image/png": "[encoded data removed]",
      "text/plain": [
       "<Figure size 432x288 with 1 Axes>"
      ]
     },
     "metadata": {
      "needs_background": "light"
     },
     "output_type": "display_data"
    }
   ],
   "source": [
    "#%% Newton's Method\n",
    "# objective function = (x - 3.0)**2 + (x - 10.0)**4\n",
    "# derivartive = 2*(x-3.0) + 4*(x - 10.0)**3\n",
    "# second order derivertive = 2 + 12*(x-10.0)**2\n",
    "\n",
    "init_point = 3.0\n",
    "\n",
    "def obj_cal(x):\n",
    "    return (x - 3.0)**2 + (x - 10.0)**4\n",
    "\n",
    "def der_cal(x):\n",
    "    return 2*(x-3.0) + 4*(x - 10.0)**3\n",
    "\n",
    "def so_der_cal(x):\n",
    "    return 2 + 12*(x-10.0)**2\n",
    "\n",
    "point = [3.0]\n",
    "obj_value = [obj_cal(3.0)]\n",
    "\n",
    "for i in range(1000):\n",
    "    if i == 0:\n",
    "        old_point = init_point\n",
    "\t\n",
    "    new_point = old_point - der_cal(old_point)/so_der_cal(old_point)\n",
    "    obj = obj_cal(new_point)\n",
    "    \n",
    "    print(i, new_point, obj)\n",
    "    \n",
    "    if (new_point - old_point)**2 < 1e-10:\n",
    "        break\n",
    "    \n",
    "    else :\n",
    "        point.append(new_point)\n",
    "        obj_value.append(obj)\n",
    "        old_point = new_point\n",
    "\n",
    "from matplotlib import pyplot as plt\n",
    "y = [y/100 for y in range(300, 1300)]\n",
    "y_value = list(map(obj_cal, y))\n",
    "\n",
    "plt.plot(y, y_value)\n",
    "plt.scatter(point, list(map(obj_cal, point)), color = \"red\")\n",
    "plt.gcf()"
   ]
  },
  {
   "cell_type": "code",
   "execution_count": 41,
   "metadata": {},
   "outputs": [
    {
     "name": "stdout",
     "output_type": "stream",
     "text": [
      "0 4.372 1005.1489857794561\n",
      "10 7.076834813278085 89.63580768031053\n",
      "20 7.700824902721232 50.04172999318673\n",
      "30 8.002635264171111 40.94219765730786\n",
      "40 8.180404690596236 37.798830953675036\n",
      "50 8.29548736327906 36.48332248664336\n",
      "60 8.374152236722043 35.868975106882424\n",
      "70 8.429807048584841 35.56152395084323\n",
      "80 8.470102151308486 35.40036705119743\n",
      "90 8.499749671609022 35.31312672970397\n",
      "100 8.521815582282843 35.26479981064917\n",
      "110 8.538376996255296 35.2375760607639\n",
      "120 8.550884299683194 35.22204902672503\n",
      "130 8.56037368086813 35.21311094752966\n",
      "140 8.56759841350015 35.20792989269753\n",
      "150 8.573113434168793 35.20491081670474\n",
      "160 8.577331751722282 35.20314452497013\n",
      "170 8.580563158920748 35.20210802195266\n",
      "180 8.583041427397431 35.2014983636353\n",
      "190 8.584943779146048 35.20113913290382\n",
      "200 8.586405043868464 35.200927174211586\n",
      "210 8.58752807999446 35.20080198061251\n",
      "220 8.588391520924054 35.20072797564105\n",
      "230 8.589055577778757 35.200684202581314\n",
      "240 8.589566412817677 35.20065829908961\n",
      "250 8.589959451342127 35.200642964659565\n",
      "260 8.59026189908251 35.20063388439654\n",
      "270 8.590494661214267 35.200628506373505\n",
      "280 8.590673808521556 35.20062532057152\n",
      "290 8.590811699523957 35.20062343314425\n"
     ]
    },
    {
     "data": {
      "image/png": "[encoded data removed]",
      "text/plain": [
       "<Figure size 432x288 with 1 Axes>"
      ]
     },
     "execution_count": 41,
     "metadata": {},
     "output_type": "execute_result"
    },
    {
     "data": {
      "image/png": "[encoded data removed]",
      "text/plain": [
       "<Figure size 432x288 with 1 Axes>"
      ]
     },
     "metadata": {
      "needs_background": "light"
     },
     "output_type": "display_data"
    }
   ],
   "source": [
    "#%% Gradient Descent\n",
    "# objective function = (x - 3.0)**2 + (x - 10.0)**4\n",
    "# derivartive = 2*(x-3.0) + 4*(x - 10.0)**3\n",
    "# second order derivertive = 2 + 12*(x-10.0)**2\n",
    "\n",
    "init_point = 3\n",
    "alpha = 0.001\n",
    "\n",
    "def obj_cal(x):\n",
    "    return (x-3)**2 + (x - 10)**4\n",
    "\n",
    "def der_cal(x):\n",
    "    return 2*(x-3) + 4*(x - 10)**3\n",
    "\n",
    "def so_der_cal(x):\n",
    "    return 2 + 12*(x-10)**2\n",
    "\n",
    "point = []\n",
    "obj_value = []\n",
    "\n",
    "for i in range(1000):\n",
    "    if i == 0:\n",
    "        old_point = init_point\n",
    "    \n",
    "    new_point = old_point - alpha*der_cal(old_point)\n",
    "    obj = obj_cal(new_point)\n",
    "  \n",
    "    if i % 10 == 0:\n",
    "        print(i, new_point, obj)\n",
    "    \n",
    "    if (new_point - old_point)**2 < 1e-10:\n",
    "        break\n",
    "    else :\n",
    "        point.append(new_point)\n",
    "        obj_value.append(obj)\n",
    "        old_point = new_point\n",
    "    \n",
    "from matplotlib import pyplot as plt\n",
    "y = [y/100 for y in range(300, 1300)]\n",
    "y_value = list(map(obj_cal, y))\n",
    "\n",
    "plt.plot(y, y_value)\n",
    "plt.scatter(point, list(map(obj_cal, point)), color = \"red\")\n",
    "plt.gcf()"
   ]
  },
  {
   "cell_type": "code",
   "execution_count": 42,
   "metadata": {
    "scrolled": true
   },
   "outputs": [
    {
     "ename": "IndentationError",
     "evalue": "expected an indented block (<ipython-input-42-8c8a4b939a9d>, line 17)",
     "output_type": "error",
     "traceback": [
      "\u001b[1;36m  File \u001b[1;32m\"<ipython-input-42-8c8a4b939a9d>\"\u001b[1;36m, line \u001b[1;32m17\u001b[0m\n\u001b[1;33m    if i % 20 == 0:\u001b[0m\n\u001b[1;37m     ^\u001b[0m\n\u001b[1;31mIndentationError\u001b[0m\u001b[1;31m:\u001b[0m expected an indented block\n"
     ]
    }
   ],
   "source": [
    "alpha = 0.001\n",
    "\n",
    "def obj_cal(x):\n",
    "    return (x-3)**2 + (x - 10)**4\n",
    "\n",
    "def der_cal(x):\n",
    "    return 2*(x-3) + 4*(x - 10)**3\n",
    "\n",
    "def so_der_cal(x):\n",
    "    return 2 + 12*(x-10)**2\n",
    "\n",
    "def gred_cal():\n",
    "    point = 3\n",
    "    i, obj, grad_value = 1, obj_cal(3), der_cal(3)\n",
    "  \n",
    "    while True:\n",
    "    if i % 20 == 0:\n",
    "        print(i, point, obj, grad_value)\n",
    "      \n",
    "    yield grad_value\n",
    "    point = point - alpha*der_cal(point)\n",
    "    obj, grad_value = obj_cal(point), der_cal(point)\n",
    "    i += 1\n",
    "    \n",
    "for gv in gred_cal():\n",
    "    if gv < 1e-5 or i == 1000:\n",
    "        break"
   ]
  }
 ],
 "metadata": {
  "kernelspec": {
   "display_name": "Python 3",
   "language": "python",
   "name": "python3"
  },
  "language_info": {
   "codemirror_mode": {
    "name": "ipython",
    "version": 3
   },
   "file_extension": ".py",
   "mimetype": "text/x-python",
   "name": "python",
   "nbconvert_exporter": "python",
   "pygments_lexer": "ipython3",
   "version": "3.8.8"
  }
 },
 "nbformat": 4,
 "nbformat_minor": 2
}
