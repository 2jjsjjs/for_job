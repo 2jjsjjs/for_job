{
 "cells": [
  {
   "cell_type": "markdown",
   "metadata": {},
   "source": [
    "# NumPy"
   ]
  },
  {
   "cell_type": "markdown",
   "metadata": {},
   "source": [
    "Python의 [NumPy](https://www.numpy.org/)는 행렬이나 다차원 배열을 쉽게 처리 할 수 있도록 도와주는 Python의 라이브러리이다. 벡터화를 통해 수치 계산을 효육적으로 하는 기능을 제공한다."
   ]
  },
  {
   "cell_type": "markdown",
   "metadata": {},
   "source": [
    "NumPy를 설명하기에 앞서 이 문서의 예제 코드는 [여기](https://people.duke.edu/~ccc14/sta-663/UsingNumpySolutions.html)의 코드를 참고하여 작성되었다."
   ]
  },
  {
   "cell_type": "markdown",
   "metadata": {},
   "source": [
    "## NumPy 불러오기"
   ]
  },
  {
   "cell_type": "code",
   "execution_count": 6,
   "metadata": {},
   "outputs": [],
   "source": [
    "import numpy as np"
   ]
  },
  {
   "cell_type": "markdown",
   "metadata": {},
   "source": [
    "## Array(ndarray) 알아보기"
   ]
  },
  {
   "cell_type": "markdown",
   "metadata": {},
   "source": [
    "### Array 생성 (Array generation)"
   ]
  },
  {
   "cell_type": "markdown",
   "metadata": {},
   "source": [
    "NumPy를 통한 array 생성은 array함수를 이용할 수 있다. Numpy에서는 R과 다르게 행 우선(row-wise)으로 array를 생성한다."
   ]
  },
  {
   "cell_type": "code",
   "execution_count": 8,
   "metadata": {},
   "outputs": [
    {
     "name": "stdout",
     "output_type": "stream",
     "text": [
      "[1 2 3] \n",
      "\n",
      "[[1 2 3]\n",
      " [4 5 6]] \n",
      "\n",
      "[[1. 2. 3.]\n",
      " [4. 5. 6.]] \n",
      "\n",
      "[[1 2 3]\n",
      " [4 5 6]] \n",
      "\n",
      "[[0. 0.]\n",
      " [0. 0.]\n",
      " [0. 0.]] \n",
      "\n",
      "[[1. 1. 1.]\n",
      " [1. 1. 1.]] \n",
      "\n",
      "[0. 0. 0.] \n",
      "\n",
      "[1. 1. 1.] \n",
      "\n",
      "[[0. 1. 4.]\n",
      " [1. 2. 5.]]\n"
     ]
    }
   ],
   "source": [
    "# Array 생성\n",
    "A = np.array([1, 2, 3]) # 3x1 벡터\n",
    "B = np.array([[1, 2, 3], [4, 5, 6]]) # 2x3 행렬\n",
    "C = np.matrix(\"1., 2., 3.; 4., 5., 6.\") # 2x3 행렬\n",
    "D = np.array(np.matrix(\"1, 2, 3; 4, 5, 6\")) # 2x3 행렬\n",
    "E = np.zeros([3, 2]) # 3x2 행렬\n",
    "F = np.ones([2, 3]) # 2x3 행렬\n",
    "e = np.zeros(3) # 3x1 벡터\n",
    "f = np.ones(3) # 3x1 벡터\n",
    "fun = lambda i, j : i**2 + j**2\n",
    "X = np.fromfunction(fun, (2, 3)) # 2x3 행렬\n",
    "print(A, \"\\n\")\n",
    "print(B, \"\\n\")\n",
    "print(C, \"\\n\")\n",
    "print(D, \"\\n\")\n",
    "print(E, \"\\n\")\n",
    "print(F, \"\\n\")\n",
    "print(e, \"\\n\")\n",
    "print(f, \"\\n\")\n",
    "print(X)"
   ]
  },
  {
   "cell_type": "markdown",
   "metadata": {},
   "source": [
    "### 시퀀스 생성 (Sequence generation)"
   ]
  },
  {
   "cell_type": "code",
   "execution_count": 9,
   "metadata": {},
   "outputs": [
    {
     "name": "stdout",
     "output_type": "stream",
     "text": [
      "[0 1 2] \n",
      "\n",
      "[1 2 3 4] \n",
      "\n",
      "[1.  1.5 2.  2.5 3.  3.5 4.  4.5] \n",
      "\n",
      "[1.         1.44444444 1.88888889 2.33333333 2.77777778 3.22222222\n",
      " 3.66666667 4.11111111 4.55555556 5.        ] \n",
      "\n",
      "[1.  1.4 1.8 2.2 2.6 3.  3.4 3.8 4.2 4.6] \n",
      "\n"
     ]
    }
   ],
   "source": [
    "A_seq1 = np.arange(3) # 3x1 벡터\n",
    "A_seq2 = np.arange(1, 5) # 4x1 벡터\n",
    "A_seq3 = np.arange(1, 5, step = 0.5) # 8x1 벡터\n",
    "A_seq4 = np.linspace(1, 5, num = 10, endpoint = True) # 10x1 벡터\n",
    "A_seq5 = np.linspace(1, 5, num = 10, endpoint = False) # 10x1 벡터\n",
    "print(A_seq1, \"\\n\") # 0부터 2까지의 시퀀스\n",
    "print(A_seq2, \"\\n\") # 1부터 4까지의 시퀀스\n",
    "print(A_seq3, \"\\n\") # 1부터 5미만의 0.5간격의 시퀀스\n",
    "print(A_seq4, \"\\n\") # 1부터 5이하의 길이 10인 시퀀스\n",
    "print(A_seq5, \"\\n\") # 1부터 5미만의 길이 10인 시퀀스"
   ]
  },
  {
   "cell_type": "markdown",
   "metadata": {},
   "source": [
    "### 난수 생성 (Random number generation)"
   ]
  },
  {
   "cell_type": "code",
   "execution_count": 11,
   "metadata": {},
   "outputs": [
    {
     "name": "stdout",
     "output_type": "stream",
     "text": [
      "[[[0.96702984]\n",
      "  [0.54723225]\n",
      "  [0.97268436]]\n",
      "\n",
      " [[0.71481599]\n",
      "  [0.69772882]\n",
      "  [0.2160895 ]]\n",
      "\n",
      " [[0.97627445]\n",
      "  [0.00623026]\n",
      "  [0.25298236]]\n",
      "\n",
      " [[0.43479153]\n",
      "  [0.77938292]\n",
      "  [0.19768507]]\n",
      "\n",
      " [[0.86299324]\n",
      "  [0.98340068]\n",
      "  [0.16384224]]] \n",
      "\n",
      "[ 0.19466789 -0.9820278  -0.22685743] \n",
      "\n",
      "[[[ 0.61866969]\n",
      "  [-0.08798693]\n",
      "  [ 0.4250724 ]]\n",
      "\n",
      " [[ 0.33225315]\n",
      "  [-1.15681626]\n",
      "  [ 0.35099715]]\n",
      "\n",
      " [[-0.60688728]\n",
      "  [ 1.54697933]\n",
      "  [ 0.72334161]]\n",
      "\n",
      " [[ 0.04613557]\n",
      "  [-0.98299165]\n",
      "  [ 0.05443274]]\n",
      "\n",
      " [[ 0.15989294]\n",
      "  [-1.20894816]\n",
      "  [ 2.22336022]]] \n",
      "\n",
      "[0 1 0 1 1] \n",
      "\n",
      "[1 2 3 3 2] \n",
      "\n",
      "[2 1 0]\n"
     ]
    }
   ],
   "source": [
    "np.random.seed(4) # fix seed for reproducible results\n",
    "rand1 = np.random.rand(5, 3, 1) # 5x3x1 차원의 [0, 1]사이의 난수 배열 \n",
    "rand2 = np.random.uniform(-1, 1, 3) # [-1, 1]사이의 3x1 난수 벡터 \n",
    "rand3 = np.random.randn(5, 3, 1) # 5x3x1 차원의 표준정규분포에서 추출된 난수 배열 \n",
    "rand4 = np.random.binomial(1, 1/2, 5) # 5x1 베르누이 분포에서 추출된 난수 벡터\n",
    "rand5 = np.random.binomial(5, 1/2, 5) # 5x1 5번 시행인 이항 분포에서 추출된 난수 벡터\n",
    "rand6 = np.random.choice(np.arange(5), size = 3, replace = False) # 주어진 벡터에서 크기 3인 표본 추출\n",
    "print(rand1, \"\\n\")\n",
    "print(rand2, \"\\n\")\n",
    "print(rand3, \"\\n\")\n",
    "print(rand4, \"\\n\")\n",
    "print(rand5, \"\\n\")\n",
    "print(rand6)"
   ]
  },
  {
   "cell_type": "markdown",
   "metadata": {},
   "source": [
    "### NumPy array의 주요 속성 : array의 객체는 속성을 가지고 있으며 이 속성은 변경이 가능하다. 또한 속성이 변경되면 그 속성에 맞도록 객체가 변경된다."
   ]
  },
  {
   "cell_type": "markdown",
   "metadata": {},
   "source": [
    "array.T : array의 전치행렬을 반환. array.transpose()와 같은 결과를 얻음.\n",
    "array.dtype : array의 원소의 종류를 반환. (Data-type of the array's elements.)\n",
    "array.size : array의 원소의 개수를 반환. (Number of elements in the array.)\n",
    "array.ndim : array의 차원의 개수 반환. (Number of array dimensions.)\n",
    "array.shape : array의 차원을 반환. (array dimensions.)"
   ]
  },
  {
   "cell_type": "code",
   "execution_count": 12,
   "metadata": {},
   "outputs": [
    {
     "name": "stdout",
     "output_type": "stream",
     "text": [
      "[[1 4]\n",
      " [2 5]\n",
      " [3 6]] \n",
      "\n",
      "int32 \n",
      "\n",
      "6 \n",
      "\n",
      "2 \n",
      "\n",
      "(2, 3)\n"
     ]
    }
   ],
   "source": [
    "print(B.T, \"\\n\") # B의 전치행렬\n",
    "print(B.dtype, \"\\n\") # B의 원소 type\n",
    "print(B.size, \"\\n\") # B의 원소 개수\n",
    "print(B.ndim, \"\\n\") # B의 차원 수\n",
    "print(B.shape) # B의 차원"
   ]
  },
  {
   "cell_type": "code",
   "execution_count": 15,
   "metadata": {},
   "outputs": [
    {
     "name": "stdout",
     "output_type": "stream",
     "text": [
      "int32\n",
      "int32\n",
      "[[         0 1072693248          0 1073741824          0 1074266112]\n",
      " [         0 1074790400          0 1075052544          0 1075314688]]\n",
      "int32\n"
     ]
    },
    {
     "ename": "ValueError",
     "evalue": "When changing to a larger dtype, its size must be a divisor of the total size in bytes of the last axis of the array.",
     "output_type": "error",
     "traceback": [
      "\u001b[1;31m---------------------------------------------------------------------------\u001b[0m",
      "\u001b[1;31mValueError\u001b[0m                                Traceback (most recent call last)",
      "\u001b[1;32m<ipython-input-15-6eb4f543189d>\u001b[0m in \u001b[0;36m<module>\u001b[1;34m\u001b[0m\n\u001b[0;32m      5\u001b[0m \u001b[1;33m\u001b[0m\u001b[0m\n\u001b[0;32m      6\u001b[0m \u001b[0mprint\u001b[0m\u001b[1;33m(\u001b[0m\u001b[0mB\u001b[0m\u001b[1;33m.\u001b[0m\u001b[0mdtype\u001b[0m\u001b[1;33m)\u001b[0m \u001b[1;31m# 하위 데이터 종류를 상위 데이터 종류로 변환은 불가능\u001b[0m\u001b[1;33m\u001b[0m\u001b[1;33m\u001b[0m\u001b[0m\n\u001b[1;32m----> 7\u001b[1;33m \u001b[0mB\u001b[0m\u001b[1;33m.\u001b[0m\u001b[0mdtype\u001b[0m \u001b[1;33m=\u001b[0m \u001b[1;34m\"float64\"\u001b[0m \u001b[1;31m# error!\u001b[0m\u001b[1;33m\u001b[0m\u001b[1;33m\u001b[0m\u001b[0m\n\u001b[0m",
      "\u001b[1;31mValueError\u001b[0m: When changing to a larger dtype, its size must be a divisor of the total size in bytes of the last axis of the array."
     ]
    }
   ],
   "source": [
    "print(C.dtype)\n",
    "C.dtype = \"int32\" # C의 원소 종류는 float64이지만 int32로 바꿀 수 있음 \n",
    "print(C.dtype) # 속성의 직접 변환은 추천하지 않음\n",
    "print(C) \n",
    "\n",
    "print(B.dtype) # 하위 데이터 종류를 상위 데이터 종류로 변환은 불가능 \n",
    "B.dtype = \"float64\" # error!"
   ]
  },
  {
   "cell_type": "code",
   "execution_count": 16,
   "metadata": {},
   "outputs": [
    {
     "name": "stdout",
     "output_type": "stream",
     "text": [
      "[[1 2]\n",
      " [3 4]\n",
      " [5 6]]\n",
      "[1 2 3]\n",
      "[[1]\n",
      " [2]\n",
      " [3]]\n"
     ]
    }
   ],
   "source": [
    "D.shape = (3, 2) # 2x3 배열의 shape에 (3, 2)를 할당해 3x2 배열로 변환\n",
    "print(D)\n",
    "print(A.T)\n",
    "A.shape = (A.shape[0], 1)\n",
    "print(A)"
   ]
  },
  {
   "cell_type": "markdown",
   "metadata": {},
   "source": [
    "### 주요 methods:"
   ]
  },
  {
   "cell_type": "markdown",
   "metadata": {},
   "source": [
    "array.astype() : array를 지정한 데이터 종류로 변환한 복사본을 반환. (Copy of the array, cast to a specified type.)\n",
    "\n",
    "array.copy() : array의 복사본을 반환. (Return a copy of the array.)\n",
    "\n",
    "array.reshape() : 지정한 shape를 갖는 array를 반환. (복사하지 않고 같은 메모리 주소를 참조하는 array를 반환함에 주의!). (Return an array containing the same data with a new shape.)\n",
    "\n",
    "array.argmax([axis]) : 주어진 axis에 따른 최댓값의 인덱스를 반환. (Return indices of the maximum values along the given axis.)\n",
    "\n",
    "array.max([axis]) : 주어진 axis에 따른 최댓값을 반환. (Return the maximum along a given axis.)\n",
    "\n",
    "array.mean([axis]) : 주어진 axis에 따른 평균을 반환. (Return the average of the array elements along given axis.)\n",
    "\n",
    "array.sum([axis]) : 주어진 axis에 따른 원소들의 합을 반환. (Returns the sum of the array elements over the given axis.)\n",
    "\n",
    "array.transpose(*axes) : array의 전치행렬을 반환. (Returns a view of the array with axes transposed.)"
   ]
  },
  {
   "cell_type": "code",
   "execution_count": 18,
   "metadata": {},
   "outputs": [
    {
     "name": "stdout",
     "output_type": "stream",
     "text": [
      "[[1.]\n",
      " [2.]\n",
      " [3.]]\n"
     ]
    }
   ],
   "source": [
    "Ap = A.astype(\"float64\") # A의 데이터 종류를 float64로 변환하여 Ap에 할당\n",
    "print(Ap)"
   ]
  },
  {
   "cell_type": "code",
   "execution_count": 19,
   "metadata": {},
   "outputs": [
    {
     "name": "stdout",
     "output_type": "stream",
     "text": [
      "[[0 2]\n",
      " [3 4]\n",
      " [5 6]] \n",
      "\n",
      "[[1 2]\n",
      " [3 4]\n",
      " [5 6]]\n"
     ]
    }
   ],
   "source": [
    "E = D # Python에서는 단순히 '='만 사용하면 변수명만 복사됨\n",
    "D[0, 0] = 0\n",
    "print(E, \"\\n\")\n",
    "\n",
    "D[0, 0] = 1\n",
    "E = D.copy() # D와 같은 값을 갖는 객체 E를 생성하고 둘이 독립적으로 처리하기 위해서는 copy를 사용해야 함\n",
    "D[0, 0] = 0\n",
    "print(E)"
   ]
  },
  {
   "cell_type": "code",
   "execution_count": 20,
   "metadata": {},
   "outputs": [
    {
     "name": "stdout",
     "output_type": "stream",
     "text": [
      "[[1 2 3]\n",
      " [4 5 6]] \n",
      "\n",
      "[[5 2 3]\n",
      " [4 5 6]] \n",
      "\n"
     ]
    }
   ],
   "source": [
    "G = E.reshape([2, 3]) # G는 E와 같은 원소를 갖지만 array의 배열이 (2, 3)으로 바뀜\n",
    "print(G, \"\\n\")\n",
    "\n",
    "E[0, 0] = 5 # array.reshape는 같은 메모리 주소를 참조함\n",
    "print(G, \"\\n\")"
   ]
  },
  {
   "cell_type": "code",
   "execution_count": 21,
   "metadata": {},
   "outputs": [
    {
     "name": "stdout",
     "output_type": "stream",
     "text": [
      "[4.33333333 4.        ] \n",
      "\n",
      "[3.5 3.5 5.5] \n",
      "\n",
      "[0 2] \n",
      "\n",
      "[0 1 1]\n"
     ]
    }
   ],
   "source": [
    "print(E.mean(0), \"\\n\") # 행 방향으로 평균을 계산 (즉, 열 평균을 반환)\n",
    "print(E.mean(1), \"\\n\") # 열 방향으로 평균을 계산\n",
    "print(E.argmax(0), \"\\n\") # 행 방향으로 최대값의 인덱스 반환 (즉, 각 열의 최대값 인덱스 반환)\n",
    "print(E.argmax(1)) # 열 방향으로 최대값 인덱스 반환"
   ]
  },
  {
   "cell_type": "markdown",
   "metadata": {},
   "source": [
    "### Array 의 인덱싱 (Array indexing)"
   ]
  },
  {
   "cell_type": "markdown",
   "metadata": {},
   "source": [
    "#### 숫자 인덱싱 : 대괄호 []에 숫자를 통해 array의 인덱싱을 수행할 수 있다. "
   ]
  },
  {
   "cell_type": "code",
   "execution_count": 23,
   "metadata": {},
   "outputs": [
    {
     "name": "stdout",
     "output_type": "stream",
     "text": [
      "[[5 2]\n",
      " [3 4]\n",
      " [5 6]] \n",
      "\n",
      "[5 2] \n",
      "\n",
      "[5 2] \n",
      "\n",
      "[[5 2]] \n",
      "\n",
      "[5 6] \n",
      "\n",
      "[3 4] \n",
      "\n",
      "[5 3 5] \n",
      "\n",
      "[[5]\n",
      " [3]\n",
      " [5]] \n",
      "\n",
      "[4 6] \n",
      "\n",
      "[[4]\n",
      " [6]]\n"
     ]
    }
   ],
   "source": [
    "print(E, \"\\n\")\n",
    "print(E[0], \"\\n\") # 첫번째 행을 반환 (2x1 벡터)\n",
    "print(E[0, :], \"\\n\") # 첫번째 행을 반환 (2x1 벡터)\n",
    "print(E[0, None], \"\\n\") # 첫번째 행을 반환 (1x2 행렬)\n",
    "print(E[-1, :], \"\\n\") # 행의 끝에서 첫번째 행을 반환\n",
    "print(E[-2, :], \"\\n\") # 행의 끝에서 두번째 행을 반환\n",
    "print(E[:, 0], \"\\n\") # 첫번째 열을 반환 (3x1 벡터)\n",
    "print(E[:, 0:1], \"\\n\") # 첫번째 열을 반환 (3x1 행렬)\n",
    "print(E[1:3, 1], \"\\n\") # 두번째 열의 2, 3행 반환 (2x1 벡터)\n",
    "print(E[1:3, 1:2]) # 두번째 열의 2, 3행 반환 (2x1 행렬)"
   ]
  },
  {
   "cell_type": "markdown",
   "metadata": {},
   "source": [
    "#### 논리 인덱싱 : 대괄호 []에 논리 값을 통해 array의 인덱싱을 수행할 수 있다. "
   ]
  },
  {
   "cell_type": "code",
   "execution_count": 24,
   "metadata": {},
   "outputs": [
    {
     "name": "stdout",
     "output_type": "stream",
     "text": [
      "[[ True False]\n",
      " [ True  True]\n",
      " [ True  True]] \n",
      "\n",
      "[5 3 4 5 6] \n",
      "\n"
     ]
    }
   ],
   "source": [
    "print(E > 2, \"\\n\") # E 행렬의 주어진 조건 (2보다 큰)을 만족하는지 논리 값을 산출\n",
    "print(E[E > 2], \"\\n\") # E 행렬에서 조건의 논리 값을 이용하여 2보다 큰 원소들을 추출"
   ]
  },
  {
   "cell_type": "markdown",
   "metadata": {},
   "source": [
    "### Array의 결합 및 분할 (Combining and splitting of array)"
   ]
  },
  {
   "cell_type": "code",
   "execution_count": 25,
   "metadata": {},
   "outputs": [
    {
     "name": "stdout",
     "output_type": "stream",
     "text": [
      "[[0. 1. 4.]\n",
      " [1. 2. 5.]\n",
      " [0. 1. 4.]\n",
      " [1. 2. 5.]] \n",
      "\n",
      "[[0. 1. 4.]\n",
      " [1. 2. 5.]\n",
      " [0. 1. 4.]\n",
      " [1. 2. 5.]] \n",
      "\n",
      "[[0. 1. 4.]\n",
      " [1. 2. 5.]\n",
      " [0. 1. 4.]\n",
      " [1. 2. 5.]] \n",
      "\n",
      "[[0. 1. 4. 0. 1. 4.]\n",
      " [1. 2. 5. 1. 2. 5.]] \n",
      "\n",
      "[[0. 1. 4. 0. 1. 4.]\n",
      " [1. 2. 5. 1. 2. 5.]] \n",
      "\n",
      "[[0. 1. 4. 0. 1. 4.]\n",
      " [1. 2. 5. 1. 2. 5.]]\n"
     ]
    }
   ],
   "source": [
    "print(np.r_[X, X], \"\\n\") # 열을 기준으로 행 결합 (rbind in R)\n",
    "print(np.vstack([X, X]), \"\\n\") # 열을 기준으로 행 결합\n",
    "print(np.concatenate([X, X], axis = 0), \"\\n\") # 열을 기준으로 행 결합\n",
    "print(np.c_[X, X], \"\\n\") # 행을 기준으로 열 결합 (cbind in R)\n",
    "print(np.hstack([X, X]), \"\\n\") # 행을 기준으로 열 결합\n",
    "print(np.concatenate([X, X], axis = 1)) # 행을 기준으로 열 결합"
   ]
  },
  {
   "cell_type": "code",
   "execution_count": 26,
   "metadata": {},
   "outputs": [
    {
     "name": "stdout",
     "output_type": "stream",
     "text": [
      "[[0.]\n",
      " [1.]\n",
      " [0.]\n",
      " [1.]] \n",
      "\n",
      " [[1.]\n",
      " [2.]\n",
      " [1.]\n",
      " [2.]] \n",
      "\n",
      " [[4.]\n",
      " [5.]\n",
      " [4.]\n",
      " [5.]] \n",
      "\n",
      "\n",
      "[[0. 1. 4.]\n",
      " [1. 2. 5.]] \n",
      "\n",
      " [[0. 1. 4.]\n",
      " [1. 2. 5.]]\n"
     ]
    }
   ],
   "source": [
    "Y = np.r_[X, X] \n",
    "a, b, c = np.hsplit(Y, 3) # Y를 행을 따라 3개의 array로 분할\n",
    "a1, b1 = np.vsplit(Y, 2) # T를 열을 따라 2개의 array로 분할\n",
    "print(a, \"\\n\\n\", b, \"\\n\\n\", c, \"\\n\\n\")\n",
    "print(a1, \"\\n\\n\", b1)"
   ]
  },
  {
   "cell_type": "code",
   "execution_count": 27,
   "metadata": {},
   "outputs": [
    {
     "name": "stdout",
     "output_type": "stream",
     "text": [
      "[array([[0.],\n",
      "       [1.],\n",
      "       [0.],\n",
      "       [1.]]), array([[1.],\n",
      "       [2.],\n",
      "       [1.],\n",
      "       [2.]]), array([[4.],\n",
      "       [5.],\n",
      "       [4.],\n",
      "       [5.]])]\n",
      "[array([[0.],\n",
      "       [1.],\n",
      "       [0.],\n",
      "       [1.]]), array([[1., 4.],\n",
      "       [2., 5.],\n",
      "       [1., 4.],\n",
      "       [2., 5.]])]\n"
     ]
    }
   ],
   "source": [
    "print(np.hsplit(Y, 3)) \n",
    "print(np.hsplit(Y, [1])) # Y를 2번째 행 이후 (2번째 행 포함)의 array와 이전 array로 분할"
   ]
  },
  {
   "cell_type": "markdown",
   "metadata": {},
   "source": [
    "### Array의 계산 (Calculations of array)\n",
    "#### 상수 및 행렬과 행렬 계산"
   ]
  },
  {
   "cell_type": "code",
   "execution_count": 28,
   "metadata": {},
   "outputs": [
    {
     "name": "stdout",
     "output_type": "stream",
     "text": [
      "[[ 0.  5. 20.]\n",
      " [ 5. 10. 25.]] \n",
      "\n",
      "[[ 0.  2.  8.]\n",
      " [ 2.  4. 10.]] \n",
      "\n",
      "[[ 0.  1. 16.]\n",
      " [ 1.  4. 25.]] \n",
      "\n",
      "[[ 1.  2.  5.]\n",
      " [ 2.  5. 14.]\n",
      " [ 5. 14. 41.]] \n",
      "\n"
     ]
    }
   ],
   "source": [
    "print(X * 5, \"\\n\") # 상수와 행렬 (array) 곱\n",
    "print(X + X, \"\\n\") # 행렬과 행렬 덧셈\n",
    "print(X * X, \"\\n\") # Hadamard(Element-wise) 곱\n",
    "print(X.T @ X, \"\\n\") # 행렬 곱"
   ]
  },
  {
   "cell_type": "markdown",
   "metadata": {},
   "source": [
    "#### 행렬과 벡터 계산 ( +Broadcating Rules)"
   ]
  },
  {
   "cell_type": "code",
   "execution_count": 29,
   "metadata": {},
   "outputs": [
    {
     "name": "stdout",
     "output_type": "stream",
     "text": [
      "[[0. 1. 4.]\n",
      " [1. 2. 5.]\n",
      " [0. 1. 4.]\n",
      " [1. 2. 5.]]\n",
      "[0.5 1.5 4.5]\n",
      "[1.66666667 2.66666667 1.66666667 2.66666667]\n"
     ]
    }
   ],
   "source": [
    "print(Y)\n",
    "y_colmeans = Y.mean(0)\n",
    "y_rowmeans = Y.mean(1)\n",
    "print(y_colmeans)\n",
    "print(y_rowmeans)"
   ]
  },
  {
   "cell_type": "code",
   "execution_count": 30,
   "metadata": {},
   "outputs": [
    {
     "name": "stdout",
     "output_type": "stream",
     "text": [
      "[[-0.5 -0.5 -0.5]\n",
      " [ 0.5  0.5  0.5]\n",
      " [-0.5 -0.5 -0.5]\n",
      " [ 0.5  0.5  0.5]]\n",
      "[[-1.66666667 -0.66666667  2.33333333]\n",
      " [-1.66666667 -0.66666667  2.33333333]\n",
      " [-1.66666667 -0.66666667  2.33333333]\n",
      " [-1.66666667 -0.66666667  2.33333333]]\n",
      "[[-1.66666667 -0.66666667  2.33333333]\n",
      " [-1.66666667 -0.66666667  2.33333333]\n",
      " [-1.66666667 -0.66666667  2.33333333]\n",
      " [-1.66666667 -0.66666667  2.33333333]]\n"
     ]
    }
   ],
   "source": [
    "print(Y - y_colmeans) # Y 행렬과 y_colmeans 벡터 계산, Y의 각 행별로 y_colmeans 빼기 (broadcating rules)\n",
    "#print(Y - y_rowmeans) # error!\n",
    "print((Y.T - y_rowmeans).T) # Y 행렬과 y_rowmaens 벡터 계산, Y의 각 열별로 y_rowmeans 빼기 \n",
    "print(Y - y_rowmeans[:, None]) # Y 행렬과 y_rowmaens 벡터 계산"
   ]
  },
  {
   "cell_type": "code",
   "execution_count": 31,
   "metadata": {},
   "outputs": [
    {
     "name": "stdout",
     "output_type": "stream",
     "text": [
      "[[-1. -1. -1.]\n",
      " [ 1.  1.  1.]\n",
      " [-1. -1. -1.]\n",
      " [ 1.  1.  1.]] \n",
      "\n",
      "[[-0.98058068 -0.39223227  1.37281295]\n",
      " [-0.98058068 -0.39223227  1.37281295]\n",
      " [-0.98058068 -0.39223227  1.37281295]\n",
      " [-0.98058068 -0.39223227  1.37281295]] \n",
      "\n"
     ]
    }
   ],
   "source": [
    "y_colstd = Y.std(0)\n",
    "y_rowstd = Y.std(1)\n",
    "print((Y - y_colmeans) / y_colstd, \"\\n\") # Y - y_rowmeans 행렬의 각 열별로 y_colstd 나누기 \n",
    "#print((Y - y_rowmeans[:, None]) / y_rowstd) # error!\n",
    "print((Y - y_rowmeans[:, None]) / y_rowstd[:, None], \"\\n\") # Y - y_rowmeans 행렬의 각 행별로 y_rowstd 나누기 "
   ]
  },
  {
   "cell_type": "code",
   "execution_count": null,
   "metadata": {},
   "outputs": [],
   "source": [
    "from IPython.display import Image"
   ]
  },
  {
   "cell_type": "markdown",
   "metadata": {},
   "source": [
    "### R과 Python의 연산속도 비교\n",
    "#### 임의의 10000x1000 행렬, 임의의 1000x1 벡터 그리고 임의의 10000x1 벡터를 생성하여 행렬에서 벡터를 빼는 연산에 대해 R과 Python 에서 속도를 비교해보도록 한다."
   ]
  },
  {
   "cell_type": "markdown",
   "metadata": {},
   "source": [
    "#### Python"
   ]
  },
  {
   "cell_type": "code",
   "execution_count": 33,
   "metadata": {},
   "outputs": [],
   "source": [
    "n = 10000\n",
    "p = 1000\n",
    "A = np.random.randn(n, p)\n",
    "b = np.random.randn(n)\n",
    "bt = np.random.randn(p)\n",
    "def fun1(A, bt):\n",
    "  return(A - bt)\n",
    "\n",
    "def fun2(A, b):\n",
    "  return((A.T - b).T)\n",
    "\n",
    "def fun3(A, b):\n",
    "  return(A - b[:, None])"
   ]
  },
  {
   "cell_type": "code",
   "execution_count": 38,
   "metadata": {},
   "outputs": [
    {
     "data": {
      "image/jpeg": "[encoded data removed]",
      "text/plain": [
       "<IPython.core.display.Image object>"
      ]
     },
     "execution_count": 38,
     "metadata": {},
     "output_type": "execute_result"
    }
   ],
   "source": [
    "Image(\"python_benchmark.jpg\")"
   ]
  },
  {
   "cell_type": "markdown",
   "metadata": {},
   "source": [
    "#### R"
   ]
  },
  {
   "cell_type": "code",
   "execution_count": null,
   "metadata": {},
   "outputs": [],
   "source": [
    "n = 10000\n",
    "p = 1000\n",
    "A = matrix(rnorm(n * p), n, p)\n",
    "b = rnorm(n)\n",
    "bt = rnorm(p)\n",
    "\n",
    "fun1 = function(A, b) {return(A - b)}\n",
    "fun2 = function(A, bt) {return(t(t(A)) - bt)}\n",
    "fun3 = function(A, bt) {\n",
    "  np = dim(A)\n",
    "  return(A - matrix(bt, nrow = np[1], ncol = np[2], byrow = TRUE))\n",
    "}"
   ]
  },
  {
   "cell_type": "code",
   "execution_count": 42,
   "metadata": {},
   "outputs": [
    {
     "data": {
      "image/jpeg": "[encoded data removed]",
      "text/plain": [
       "<IPython.core.display.Image object>"
      ]
     },
     "execution_count": 42,
     "metadata": {},
     "output_type": "execute_result"
    }
   ],
   "source": [
    "Image(\"R_benchmark.jpg\")"
   ]
  },
  {
   "cell_type": "markdown",
   "metadata": {},
   "source": [
    "## NumPy 함수 (NumPy functions)"
   ]
  },
  {
   "cell_type": "code",
   "execution_count": 43,
   "metadata": {},
   "outputs": [
    {
     "name": "stdout",
     "output_type": "stream",
     "text": [
      "1.2246467991473532e-16 \n",
      "\n",
      "[ 2.71828183  7.3890561  20.08553692] \n",
      "\n",
      "[0.         0.69314718 1.09861229] \n",
      "\n",
      "[1.         1.41421356 1.73205081] \n",
      "\n",
      "[-1 -1  1  1] \n",
      "\n",
      "3.0 \n",
      "\n",
      "[3.1 3.2] \n",
      "\n",
      "[3. 4.] \n",
      "\n",
      "[4. 5.]\n"
     ]
    }
   ],
   "source": [
    "print(np.sin(np.pi), \"\\n\") # 삼각함수\n",
    "print(np.exp([1, 2, 3]), \"\\n\") # exp 함수\n",
    "print(np.log([1, 2, 3]), \"\\n\") # log 함수\n",
    "print(np.sqrt([1, 2, 3]), \"\\n\") # sqrt 함수\n",
    "print(np.sign([-3, -1, 1, 3]), \"\\n\") # 부호 함수\n",
    "print(np.around(3.14), \"\\n\") # 반올림 (소수점 첫째자리에서 반올림)\n",
    "print(np.around([3.14, 3.15], 1), \"\\n\") # 소수점 둘째자리에서 반올림\n",
    "print(np.floor([3.14, 4.5]), \"\\n\") # 소수점 내림\n",
    "print(np.ceil([3.14, 4.5])) # 소수점 올림"
   ]
  },
  {
   "cell_type": "code",
   "execution_count": 44,
   "metadata": {},
   "outputs": [
    {
     "name": "stdout",
     "output_type": "stream",
     "text": [
      "3 \n",
      "\n",
      "12 \n",
      "\n",
      "3.0 \n",
      "\n",
      "2.0 \n",
      "\n",
      "[1 1]\n"
     ]
    }
   ],
   "source": [
    "print(np.sum([1, 2]), \"\\n\") # 리스트 혹은 array 객체의 원소 합\n",
    "print(np.prod([3, 4]), \"\\n\") # 리스트 혹은 array 객체의 원소 곱\n",
    "print(np.nansum([1, 2, float(\"NaN\")]), \"\\n\") # NaN은 0으로 처리한 후 원소 합\n",
    "print(np.nanprod([1, 2, float(\"NaN\")]), \"\\n\") # NaN은 0으로 처리한 후 원소 곱\n",
    "print(np.diff([1, 2, 3])) # 원소 순서대로 원소 값의 차이"
   ]
  },
  {
   "cell_type": "markdown",
   "metadata": {},
   "source": [
    "## 선형대수 (Linear algebra)"
   ]
  },
  {
   "cell_type": "code",
   "execution_count": 45,
   "metadata": {},
   "outputs": [
    {
     "name": "stdout",
     "output_type": "stream",
     "text": [
      "14 \n",
      "\n",
      "14 \n",
      "\n",
      "[[ 6 12 18]\n",
      " [ 6 12 18]\n",
      " [ 6 12 18]] \n",
      "\n",
      "[[ 6 12 18]\n",
      " [ 6 12 18]\n",
      " [ 6 12 18]] \n",
      "\n",
      "[14 14 14] \n",
      "\n",
      "[14 14 14] \n",
      "\n",
      "[ 6 12 18] \n",
      "\n",
      "[ 6 12 18]\n"
     ]
    }
   ],
   "source": [
    "A = np.arange(1, 4)\n",
    "B = np.array([(1, 2, 3) for i in range(3)])\n",
    "print(A.dot(A), \"\\n\") # A^T x A; 벡터 내적\n",
    "print(np.dot(A, A), \"\\n\")\n",
    "print(B.dot(B), \"\\n\") # B x B; 행렬 곱\n",
    "print(np.dot(B, B), \"\\n\")\n",
    "print(B.dot(A), \"\\n\") # B x A; 행렬 벡터 곱\n",
    "print(np.dot(B, A), \"\\n\")\n",
    "print(A.dot(B), \"\\n\") # A^T x B\n",
    "print(np.dot(A, B))"
   ]
  },
  {
   "cell_type": "code",
   "execution_count": 49,
   "metadata": {},
   "outputs": [
    {
     "name": "stdout",
     "output_type": "stream",
     "text": [
      "[[-1.80594232  2.63636226 -0.97905597]\n",
      " [ 5.09697245 -2.94416718 -0.22598024]\n",
      " [-3.01208342  1.55429314  1.37691016]] \n",
      "\n",
      "[ 0.67825033 -3.39612766  4.30811347]\n"
     ]
    }
   ],
   "source": [
    "import numpy.linalg as la\n",
    "C = np.random.rand(3, 3)\n",
    "b = np.arange(3)\n",
    "print(la.inv(C), \"\\n\") # C의 역행렬\n",
    "print(la.solve(C, b)) # C * x = b의 해 즉 C^T x b"
   ]
  },
  {
   "cell_type": "markdown",
   "metadata": {},
   "source": [
    "## 행렬 분해 (Matrix decomposition)"
   ]
  },
  {
   "cell_type": "code",
   "execution_count": 50,
   "metadata": {},
   "outputs": [
    {
     "name": "stdout",
     "output_type": "stream",
     "text": [
      "[[-0.47188216 -0.29389616 -0.83123539]\n",
      " [-0.64556851 -0.52693979  0.55278907]\n",
      " [-0.60047359  0.79747069  0.05892338]] \n",
      "\n",
      "[1.64010221 0.49637649 0.13505785] \n",
      "\n",
      "[[-0.42948248 -0.60489199 -0.67055982]\n",
      " [-0.81366685 -0.06293776  0.57791444]\n",
      " [ 0.39177935 -0.79381643  0.46514989]] \n",
      "\n",
      "[[0.40710873 0.56644632 0.38244174]\n",
      " [0.69680813 0.59765552 0.59355542]\n",
      " [0.10400197 0.56448977 0.89285948]] \n",
      "\n",
      "[[0.40710873 0.56644632 0.38244174]\n",
      " [0.69680813 0.59765552 0.59355542]\n",
      " [0.10400197 0.56448977 0.89285948]]\n"
     ]
    }
   ],
   "source": [
    "V, D, U = la.svd(C) # 특이값 분해 : m x n 실수행렬을 두개의 직교행렬과 하나의 대각 행렬로 분해\n",
    "print(V, \"\\n\")\n",
    "print(D, \"\\n\")\n",
    "print(U, \"\\n\")\n",
    "print(V @ np.diag(D) @ U, \"\\n\")\n",
    "print(C)"
   ]
  },
  {
   "cell_type": "code",
   "execution_count": 51,
   "metadata": {},
   "outputs": [
    {
     "name": "stdout",
     "output_type": "stream",
     "text": [
      "[[ 9.98787734e-02  0.00000000e+00  0.00000000e+00]\n",
      " [-2.08542229e-02  5.46195611e-02  0.00000000e+00]\n",
      " [-1.08586057e-02 -3.96119589e-01  4.71274591e-09]] \n",
      "\n",
      "[[ 0.00997577 -0.00208289 -0.00108454]\n",
      " [-0.00208289  0.0034182  -0.02140943]\n",
      " [-0.00108454 -0.02140943  0.15702864]] \n",
      "\n",
      "[[ 0.00997577 -0.00208289 -0.00108454]\n",
      " [-0.00208289  0.0034182  -0.02140943]\n",
      " [-0.00108454 -0.02140943  0.15702864]]\n"
     ]
    }
   ],
   "source": [
    "D = C + 1\n",
    "D_cov = np.cov(D)\n",
    "L = la.cholesky(D_cov) # Cholesky 분해 : positive definite 행렬을 하삼각행렬로 분해\n",
    "print(L, \"\\n\") # 하삼각행렬 (lower triangular matrix)\n",
    "print(L @ L.T, \"\\n\")\n",
    "print(D_cov)"
   ]
  },
  {
   "cell_type": "code",
   "execution_count": 52,
   "metadata": {},
   "outputs": [
    {
     "name": "stdout",
     "output_type": "stream",
     "text": [
      "[[-0.50032258  0.26799764 -0.82331925]\n",
      " [-0.85635313 -0.2935353   0.42484861]\n",
      " [-0.12781484  0.91761337  0.37636296]] \n",
      "\n",
      "[[-0.81369251 -0.86736023 -0.81375797]\n",
      " [ 0.          0.49435664  0.7475638 ]\n",
      " [ 0.          0.          0.27333879]] \n",
      "\n",
      "[[0.40710873 0.56644632 0.38244174]\n",
      " [0.69680813 0.59765552 0.59355542]\n",
      " [0.10400197 0.56448977 0.89285948]] \n",
      "\n",
      "[[0.40710873 0.56644632 0.38244174]\n",
      " [0.69680813 0.59765552 0.59355542]\n",
      " [0.10400197 0.56448977 0.89285948]]\n"
     ]
    }
   ],
   "source": [
    "Q, R = la.qr(C) # QR 분해 : m x n 실수행렬을 직교 행렬과 상삼각 행렬로 분해\n",
    "print(Q, \"\\n\")\n",
    "print(R, \"\\n\")\n",
    "print(C, \"\\n\")\n",
    "print(Q @ R)"
   ]
  },
  {
   "cell_type": "code",
   "execution_count": 53,
   "metadata": {},
   "outputs": [
    {
     "name": "stdout",
     "output_type": "stream",
     "text": [
      "[[ 0.21643392  0.97628297 -0.0052835 ]\n",
      " [ 0.96714653 -0.21514139 -0.13543183]\n",
      " [ 0.13335649 -0.02420213  0.99077258]] \n",
      "\n",
      "[3.08643379e-18 1.04616582e-02 1.59960944e-01] \n",
      "\n",
      "[[ 0.00997577 -0.00208289 -0.00108454]\n",
      " [-0.00208289  0.0034182  -0.02140943]\n",
      " [-0.00108454 -0.02140943  0.15702864]] \n",
      "\n",
      "[[ 0.00997577 -0.00208289 -0.00108454]\n",
      " [-0.00208289  0.0034182  -0.02140943]\n",
      " [-0.00108454 -0.02140943  0.15702864]] \n",
      "\n",
      "-4.629543276513104e-17\n"
     ]
    }
   ],
   "source": [
    "E, V = la.eigh(D_cov) # 고유값 분해 : n x n행렬을 고유값과 고유벡터로 분해\n",
    "print(V, \"\\n\")\n",
    "print(E, \"\\n\")\n",
    "print(V @ np.diag(E) @ V.T, \"\\n\")\n",
    "print(D_cov, \"\\n\")\n",
    "print(np.dot(V[0, :], V[1, :])) # 고유벡터의 내적은 0"
   ]
  },
  {
   "cell_type": "markdown",
   "metadata": {},
   "source": [
    "## NumPy를 이용하여 데이터 불러오기"
   ]
  },
  {
   "cell_type": "code",
   "execution_count": 54,
   "metadata": {},
   "outputs": [],
   "source": [
    "population = np.loadtxt(\"population.txt\")\n",
    "population = np.loadtxt(\"population.txt\").astype(\"float64\")\n",
    "population = np.loadtxt(\"population.txt\", dtype = np.float)"
   ]
  },
  {
   "cell_type": "code",
   "execution_count": 55,
   "metadata": {},
   "outputs": [
    {
     "name": "stdout",
     "output_type": "stream",
     "text": [
      "[[ 1900. 30000.  4000. 48300.]\n",
      " [ 1901. 47200.  6100. 48200.]\n",
      " [ 1902. 70200.  9800. 41500.]\n",
      " [ 1903. 77400. 35200. 38200.]\n",
      " [ 1904. 36300. 59400. 40600.]\n",
      " [ 1905. 20600. 41700. 39800.]\n",
      " [ 1906. 18100. 19000. 38600.]\n",
      " [ 1907. 21400. 13000. 42300.]\n",
      " [ 1908. 22000.  8300. 44500.]\n",
      " [ 1909. 25400.  9100. 42100.]\n",
      " [ 1910. 27100.  7400. 46000.]\n",
      " [ 1911. 40300.  8000. 46800.]\n",
      " [ 1912. 57000. 12300. 43800.]\n",
      " [ 1913. 76600. 19500. 40900.]\n",
      " [ 1914. 52300. 45700. 39400.]\n",
      " [ 1915. 19500. 51100. 39000.]\n",
      " [ 1916. 11200. 29700. 36700.]\n",
      " [ 1917.  7600. 15800. 41800.]\n",
      " [ 1918. 14600.  9700. 43300.]\n",
      " [ 1919. 16200. 10100. 41300.]\n",
      " [ 1920. 24700.  8600. 47300.]]\n"
     ]
    }
   ],
   "source": [
    "print(population)"
   ]
  },
  {
   "cell_type": "markdown",
   "metadata": {},
   "source": [
    "## Example : NumPy 를 이용하여 선형회귀모형을 적합하기\n",
    "#### NumPy 를 이용하여 선형회귀모형을 적합해보자. 아래의 코드는 시뮬레이션 데이터를 생성한다"
   ]
  },
  {
   "cell_type": "code",
   "execution_count": 56,
   "metadata": {},
   "outputs": [
    {
     "data": {
      "text/plain": [
       "<matplotlib.collections.PathCollection at 0x221bda804e0>"
      ]
     },
     "execution_count": 56,
     "metadata": {},
     "output_type": "execute_result"
    }
   ],
   "source": [
    "import numpy as np\n",
    "import numpy.random as npr\n",
    "import matplotlib.pyplot as plt\n",
    "\n",
    "n = 200\n",
    "beta = [1, 1, 2, 3]\n",
    "p = len(beta)\n",
    "X = npr.randn(n, p - 1)\n",
    "X_design = np.c_[np.ones(n), X]\n",
    "y = X_design @ beta + npr.randn(n)\n",
    "plt.scatter(X[:, 2], y)"
   ]
  },
  {
   "cell_type": "markdown",
   "metadata": {},
   "source": [
    "#### regression 클래스를 정의하고 회귀모형의 계수를 추정, 적합된 값을 산출 그리고 새로운 값을 예측하는 method를 구현한다."
   ]
  },
  {
   "cell_type": "code",
   "execution_count": 57,
   "metadata": {},
   "outputs": [],
   "source": [
    "class regression:\n",
    "    \n",
    "    def __init__(self, X, y, intercept = True, qr = True):\n",
    "        self.X = X\n",
    "        self.y = y\n",
    "        self.qr = qr\n",
    "        self.intercept = intercept\n",
    "        nd = X.shape\n",
    "        n = nd[0]\n",
    "        d = nd[1]\n",
    "        \n",
    "        if (intercept == True):\n",
    "            design_mat = np.c_[np.ones(n), self.X]\n",
    "            self.design_mat = design_mat\n",
    "        else:\n",
    "            design_mat = self.X\n",
    "            self.design_mat = design_mat\n",
    "        \n",
    "    def est_coef(self):\n",
    "        if (self.qr == True):\n",
    "            design_mat = self.design_mat\n",
    "            Q, R = np.linalg.qr(design_mat)\n",
    "            beta = np.linalg.inv(R) @ Q.T @ self.y\n",
    "            self.beta = beta\n",
    "        else:\n",
    "            design_mat = self.design_mat\n",
    "            beta = np.linalg.inv(design_mat.T @ design_mat) @ design_mat.T @ self.y\n",
    "            self.beta = beta\n",
    "        return(beta)\n",
    "            \n",
    "    def fitted(self):\n",
    "        try: \n",
    "            self.beta\n",
    "        except AttributeError:\n",
    "            print(\"You must estimate the coefficients first.\")\n",
    "        else:\n",
    "            beta = self.beta\n",
    "        \n",
    "        fitted = self.design_mat @ beta\n",
    "        \n",
    "        return(fitted)\n",
    "    \n",
    "    def predict(self, X):\n",
    "        \n",
    "        try: \n",
    "            self.beta\n",
    "        except AttributeError:\n",
    "            print(\"You must estimate the coefficients first.\")\n",
    "        else:\n",
    "            beta = self.beta\n",
    "        \n",
    "        if (self.intercept == True):\n",
    "            design_new = np.c_[np.ones(n), X]\n",
    "        else: design_new = X\n",
    "        \n",
    "        pred = design_new @ beta\n",
    "        return(pred)"
   ]
  },
  {
   "cell_type": "markdown",
   "metadata": {},
   "source": [
    "#### 실제로 잘 추정하는지 확인한다."
   ]
  },
  {
   "cell_type": "code",
   "execution_count": 58,
   "metadata": {},
   "outputs": [
    {
     "name": "stdout",
     "output_type": "stream",
     "text": [
      "[0.91621934 1.01762456 1.9446225  2.97375038] \n",
      "\n",
      "[0.91621934 1.01762456 1.9446225  2.97375038] \n",
      "\n"
     ]
    },
    {
     "data": {
      "text/plain": [
       "array([-6.81196163e-01, -5.32739724e-02, -2.78578322e+00, -1.35271618e+00,\n",
       "        2.70138854e+00,  2.29061227e+00, -1.29802034e+00,  6.60239089e-01,\n",
       "        2.32438206e+00,  6.28287040e+00, -8.62449307e-01,  5.26593355e+00,\n",
       "        4.96385524e+00, -3.11380433e+00,  1.99916532e+00,  6.05976684e+00,\n",
       "        4.54692850e-01,  4.68264210e+00,  4.09300930e+00, -7.03961693e-01,\n",
       "        1.03954816e-02, -2.51521892e+00,  3.80304764e+00,  2.54568228e-01,\n",
       "        4.29912339e-02,  3.13045419e+00,  4.62766751e+00,  4.75565025e+00,\n",
       "       -2.95012654e+00,  9.43373865e-01,  3.92753767e+00, -1.52251100e+00,\n",
       "        2.37460051e+00, -3.78519102e+00, -6.25917831e+00,  1.80298518e+00,\n",
       "        5.98272510e+00,  1.56737434e+00, -1.15963555e+00, -4.07144175e+00,\n",
       "        2.26308908e+00,  3.76261576e+00, -2.66766845e-01,  2.96983730e+00,\n",
       "       -2.50142673e+00,  9.68603275e-01,  4.11591275e-01,  7.09045038e+00,\n",
       "        3.99809741e+00, -1.03739779e+00, -2.60923278e-01,  4.04207334e-01,\n",
       "       -6.04188256e+00,  3.93620199e+00, -4.58005670e-01,  5.01570767e+00,\n",
       "        1.54396008e-01,  2.16176556e+00,  4.32340212e+00, -1.09604706e+00,\n",
       "       -8.27289806e-01,  2.52699308e+00, -5.78776528e+00, -9.50806922e-01,\n",
       "        3.11931374e+00,  5.38217710e+00, -3.20722764e+00, -1.72319908e+00,\n",
       "        4.96051747e+00, -7.34703275e-01,  2.45742249e-01,  1.48205704e+00,\n",
       "        6.89655159e+00,  9.91385763e-01,  6.23201019e+00, -1.69456821e+00,\n",
       "        2.09313472e+00,  4.49965734e+00, -4.65467212e-01,  4.45251374e+00,\n",
       "        1.66924858e+00, -9.90490206e-02, -4.75909386e+00,  2.76971351e+00,\n",
       "       -2.19733614e-01,  7.02058789e+00, -5.34629902e+00,  3.31798464e+00,\n",
       "        5.65977021e-01, -6.41987659e+00,  1.99360596e+00,  5.18606881e+00,\n",
       "        3.76115702e+00, -9.90758573e-01,  1.04040297e+01,  1.64915098e+00,\n",
       "        7.15684467e+00,  5.87351433e+00, -4.80941860e+00,  1.14513852e+00,\n",
       "        1.51111276e+00, -7.74206797e+00, -1.03548933e+00, -8.54173684e-01,\n",
       "       -1.09773998e+00,  1.45623711e+00, -1.89760229e+00,  2.28162326e+00,\n",
       "       -3.45806700e+00,  5.95525293e-01,  1.43570757e-01, -3.62704592e+00,\n",
       "        6.48259346e+00,  4.77225928e+00, -5.06552685e+00,  1.01330703e+00,\n",
       "        2.69064765e+00,  1.78572564e+00, -8.57525384e+00,  2.48525181e+00,\n",
       "       -5.24042225e+00,  6.59937924e+00,  3.80818975e+00, -5.59650976e+00,\n",
       "        4.25872761e-01, -8.21717723e-01,  5.14181080e+00, -8.08962511e-01,\n",
       "       -3.03066453e+00, -3.31322044e+00,  8.02160257e-01,  1.56649858e+00,\n",
       "        4.62980895e+00, -2.34398166e-01,  1.35388050e+00,  2.98340389e+00,\n",
       "        4.70135832e+00, -1.07917738e+01, -2.30519294e+00,  1.04617894e+01,\n",
       "        2.92484901e+00, -6.50311953e+00,  1.76267252e+00, -3.16965780e+00,\n",
       "        2.73773842e+00,  1.20617592e+00,  3.33052206e+00, -3.14918422e+00,\n",
       "       -7.38714112e-01,  4.19728346e-01, -2.30769419e+00,  6.34945662e+00,\n",
       "        4.29902425e-01,  2.39379376e+00,  1.34173639e-01,  3.01877958e+00,\n",
       "       -2.49018575e+00, -2.96123412e+00,  1.13120208e+00,  1.77252068e+00,\n",
       "        4.02538120e+00,  2.66836758e+00,  3.58339698e+00,  2.70017493e-01,\n",
       "        3.27304237e+00,  6.11957127e+00, -1.27263137e+00, -1.61667794e+00,\n",
       "        1.22633215e+00, -9.19794255e-01, -2.14136041e+00, -1.46309069e+00,\n",
       "       -3.52260311e+00,  2.44300252e+00, -1.34097278e+00,  1.08008565e+01,\n",
       "        8.20460512e-01, -3.70341173e+00, -3.48469872e+00, -1.33209675e-01,\n",
       "       -2.32862569e+00, -2.54077577e+00, -4.64523209e+00, -2.90108982e+00,\n",
       "       -1.47504849e+00,  6.41027491e-01,  6.71048518e+00,  1.36866785e-01,\n",
       "       -3.15642460e-01,  2.15041260e+00,  2.25676011e+00,  1.17340157e+00,\n",
       "       -5.27664903e+00, -4.18402537e+00,  6.24332569e+00, -3.60813240e+00,\n",
       "        1.21209806e+00, -5.15572099e+00,  7.13178901e-01, -1.58804360e+00])"
      ]
     },
     "execution_count": 58,
     "metadata": {},
     "output_type": "execute_result"
    }
   ],
   "source": [
    "lin_reg = regression(X, y, qr = False)    \n",
    "print(lin_reg.est_coef(), \"\\n\")        \n",
    "lin_reg.fitted()                \n",
    "lin_reg.predict(X)        \n",
    "        \n",
    "lin_reg2 = regression(X, y, qr = True)\n",
    "print(lin_reg2.est_coef(), \"\\n\")\n",
    "lin_reg2.fitted()\n",
    "lin_reg2.predict(X)"
   ]
  },
  {
   "cell_type": "markdown",
   "metadata": {},
   "source": [
    "#### population 데이터에 위에서 정의한 regression을 이용하여 회귀모형을 적합해보자. 반응변수는 맨 마지막 열로 한다."
   ]
  },
  {
   "cell_type": "code",
   "execution_count": 59,
   "metadata": {},
   "outputs": [
    {
     "name": "stdout",
     "output_type": "stream",
     "text": [
      "[ 2.19616207e+05 -9.12189534e+01 -5.12540325e-03 -1.39503841e-01] \n",
      "\n",
      "[45588.41815813 45116.08420261 44390.81676247 40719.29734139\n",
      " 37462.73950642 39921.2073718  43009.53911991 43738.42938254\n",
      " 44299.80324049 44079.55484322 44216.77923425 43974.20265338\n",
      " 43197.52294902 42001.41843602 38379.74614429 37703.31967537\n",
      " 40640.02376885 42506.35965871 43230.23631345 43075.01517846\n",
      " 43149.4860592 ]\n"
     ]
    }
   ],
   "source": [
    "X = population[:, :-1]\n",
    "y = population[:, -1]\n",
    "lmfit = regression(X, y)\n",
    "print(lmfit.est_coef(), \"\\n\")\n",
    "print(lmfit.fitted())"
   ]
  }
 ],
 "metadata": {
  "kernelspec": {
   "display_name": "Python 3",
   "language": "python",
   "name": "python3"
  },
  "language_info": {
   "codemirror_mode": {
    "name": "ipython",
    "version": 3
   },
   "file_extension": ".py",
   "mimetype": "text/x-python",
   "name": "python",
   "nbconvert_exporter": "python",
   "pygments_lexer": "ipython3",
   "version": "3.8.8"
  }
 },
 "nbformat": 4,
 "nbformat_minor": 2
}
