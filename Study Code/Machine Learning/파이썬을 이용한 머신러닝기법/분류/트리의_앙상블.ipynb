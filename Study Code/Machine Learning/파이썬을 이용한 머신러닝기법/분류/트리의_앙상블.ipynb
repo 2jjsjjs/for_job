{
  "nbformat": 4,
  "nbformat_minor": 0,
  "metadata": {
    "colab": {
      "private_outputs": true,
      "provenance": []
    },
    "kernelspec": {
      "name": "python3",
      "display_name": "Python 3"
    },
    "language_info": {
      "name": "python"
    }
  },
  "cells": [
    {
      "cell_type": "code",
      "execution_count": null,
      "metadata": {
        "id": "w8zFFtLJs-He"
      },
      "outputs": [],
      "source": [
        "import numpy as np\n",
        "import pandas as pd \n",
        "from sklearn.model_selection import train_test_split\n",
        "wine = pd.read_csv('https://bit.ly/wine_csv_data')\n",
        "data = wine[['alcohol','sugar','pH']].to_numpy()\n",
        "target = wine['class'].to_numpy()\n",
        "train_input , test_input , train_target , test_target = train_test_split(data , target , test_size=0.2 , random_state = 42)"
      ]
    },
    {
      "cell_type": "markdown",
      "source": [
        "준비과정"
      ],
      "metadata": {
        "id": "m7ofZIiAv6-q"
      }
    },
    {
      "cell_type": "code",
      "source": [
        "from sklearn.model_selection import cross_validate\n",
        "from sklearn.ensemble import RandomForestClassifier\n",
        "rf = RandomForestClassifier(n_jobs=-1 , random_state = 42)\n",
        "scores = cross_validate(rf , train_input,train_target, return_train_score = True,n_jobs=-1)\n",
        "print(np.mean(scores['train_score']),np.mean(scores['test_score']))"
      ],
      "metadata": {
        "id": "0kokqk3wv58y"
      },
      "execution_count": null,
      "outputs": []
    },
    {
      "cell_type": "markdown",
      "source": [
        "과대적합이 보인다 but 예제가 많지 않기 때문에 그런 것 "
      ],
      "metadata": {
        "id": "vpE2yGz-xeY8"
      }
    },
    {
      "cell_type": "code",
      "source": [
        "rf.fit(train_input,train_target)\n",
        "print(rf.feature_importances_)"
      ],
      "metadata": {
        "id": "p8NFLkUIxiZL"
      },
      "execution_count": null,
      "outputs": []
    },
    {
      "cell_type": "markdown",
      "source": [
        "특성 중요도"
      ],
      "metadata": {
        "id": "IFPgCm44yLZZ"
      }
    },
    {
      "cell_type": "code",
      "source": [
        "rf = RandomForestClassifier(oob_score=True , n_jobs=-1 , random_state = 42)\n",
        "rf.fit(train_input , train_target)\n",
        "print(rf.oob_score_)"
      ],
      "metadata": {
        "id": "76AeE62AyMmi"
      },
      "execution_count": null,
      "outputs": []
    },
    {
      "cell_type": "markdown",
      "source": [
        "oob이란 부트스트랩 샘플을 쓰고 남은 샘플들이다(검증세트의 역할)"
      ],
      "metadata": {
        "id": "f6uG4Vqyymti"
      }
    },
    {
      "cell_type": "code",
      "source": [
        "from sklearn.ensemble import ExtraTreesClassifier\n",
        "et = ExtraTreesClassifier(n_jobs=-1 , random_state = 42)\n",
        "scores = cross_validate(et,train_input,train_target, return_train_score=True,n_jobs=-1)\n",
        "print(np.mean(scores['train_score']),np.mean(scores['test_score']))"
      ],
      "metadata": {
        "id": "kvdJzcdUzn9S"
      },
      "execution_count": null,
      "outputs": []
    },
    {
      "cell_type": "code",
      "source": [
        "et.fit(train_input,train_target)\n",
        "print(et.feature_importances_)"
      ],
      "metadata": {
        "id": "UV1SQIZr0RFC"
      },
      "execution_count": null,
      "outputs": []
    },
    {
      "cell_type": "code",
      "source": [
        "from sklearn.ensemble import GradientBoostingClassifier\n",
        "gb = GradientBoostingClassifier(random_state=42)\n",
        "scores = cross_validate(gb,train_input,train_target,return_train_score=True,n_jobs=-1)\n",
        "print(np.mean(scores['train_score']),np.mean(scores['test_score']))"
      ],
      "metadata": {
        "id": "8ZV32zRq0gGx"
      },
      "execution_count": null,
      "outputs": []
    },
    {
      "cell_type": "code",
      "source": [
        "gb = GradientBoostingClassifier(n_estimators=500,learning_rate=0.2,random_state=42)\n",
        "scores=cross_validate(gb,train_input,train_target,return_train_score=True,n_jobs=-1)\n",
        "print(np.mean(scores['train_score']),np.mean(scores['test_score']))"
      ],
      "metadata": {
        "id": "j9UugmBB06t7"
      },
      "execution_count": null,
      "outputs": []
    },
    {
      "cell_type": "code",
      "source": [
        "gb.fit(train_input,train_target)\n",
        "print(gb.feature_importances_)"
      ],
      "metadata": {
        "id": "bdVPFEd82_4C"
      },
      "execution_count": null,
      "outputs": []
    },
    {
      "cell_type": "code",
      "source": [
        "from sklearn.experimental import enable_hist_gradient_boosting\n",
        "from sklearn.ensemble import HistGradientBoostingClassifier\n",
        "hgb = HistGradientBoostingClassifier(random_state=42)\n",
        "scores = cross_validate(hgb,train_input,train_target,return_train_score=True)\n",
        "print(np.mean(scores['train_score']),np.mean(scores['test_score']))"
      ],
      "metadata": {
        "id": "LwJ9nZM13IcR"
      },
      "execution_count": null,
      "outputs": []
    },
    {
      "cell_type": "code",
      "source": [
        "from sklearn.inspection import permutation_importance\n",
        "hgb.fit(train_input,train_target)\n",
        "result = permutation_importance(hgb,train_input,train_target,n_repeats = 10 , random_state = 42 , n_jobs=-1)\n",
        "print(result.importances_mean)"
      ],
      "metadata": {
        "id": "4MP7wz4D32Qa"
      },
      "execution_count": null,
      "outputs": []
    },
    {
      "cell_type": "code",
      "source": [
        "result = permutation_importance(hgb,test_input,test_target,n_repeats = 10 , random_state = 42 , n_jobs=-1)\n",
        "print(result.importances_mean)"
      ],
      "metadata": {
        "id": "KZxI5GkU4Y6S"
      },
      "execution_count": null,
      "outputs": []
    },
    {
      "cell_type": "code",
      "source": [
        "hgb.score(test_input,test_target)"
      ],
      "metadata": {
        "id": "lRTLWxl04fnQ"
      },
      "execution_count": null,
      "outputs": []
    },
    {
      "cell_type": "code",
      "source": [
        "from xgboost import XGBClassifier \n",
        "xgb = XGBClassifier(tree_method = 'hist',random_state=42)\n",
        "scores = cross_validate(xgb,train_input,train_target, return_train_score = True)\n",
        "print(np.mean(scores['train_score']),np.mean(scores['test_score']))"
      ],
      "metadata": {
        "id": "Wx2yMpFu448e"
      },
      "execution_count": null,
      "outputs": []
    },
    {
      "cell_type": "code",
      "source": [
        "from lightgbm import LGBMClassifier\n",
        "lgb = LGBMClassifier(random_state=42)\n",
        "scores = cross_validate(lgb,train_input,train_target,return_train_score=True,n_jobs=-1)\n",
        "print(np.mean(scores['train_score']),np.mean(scores['test_score']))"
      ],
      "metadata": {
        "id": "JcM9A-bD6HRO"
      },
      "execution_count": null,
      "outputs": []
    }
  ]
}