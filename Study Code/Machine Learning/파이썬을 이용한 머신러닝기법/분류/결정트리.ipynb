{
  "nbformat": 4,
  "nbformat_minor": 0,
  "metadata": {
    "colab": {
      "private_outputs": true,
      "provenance": []
    },
    "kernelspec": {
      "name": "python3",
      "display_name": "Python 3"
    },
    "language_info": {
      "name": "python"
    }
  },
  "cells": [
    {
      "cell_type": "code",
      "execution_count": null,
      "metadata": {
        "id": "AYCGMuswfd7I"
      },
      "outputs": [],
      "source": [
        "import pandas as pd \n",
        "wine = pd.read_csv('http://bit.ly/wine_csv_data')"
      ]
    },
    {
      "cell_type": "code",
      "source": [
        "wine.head()"
      ],
      "metadata": {
        "id": "acYc1vTOfmfS"
      },
      "execution_count": null,
      "outputs": []
    },
    {
      "cell_type": "code",
      "source": [
        "wine.info()"
      ],
      "metadata": {
        "id": "-D6Kp3Jzg1q0"
      },
      "execution_count": null,
      "outputs": []
    },
    {
      "cell_type": "markdown",
      "source": [
        "6497개의 샘플이 있고 4개의 열은 모두 실숫값입니다 / 누락된 값이 있으면 채우거나 혹은 평균값으로 처리한다. 여기서는 훈련 세트의 통계값으로 테스트 세트를 변환해야한다"
      ],
      "metadata": {
        "id": "3w7J6O_GhBUU"
      }
    },
    {
      "cell_type": "code",
      "source": [
        "wine.describe()"
      ],
      "metadata": {
        "id": "xDcaBcbyhQms"
      },
      "execution_count": null,
      "outputs": []
    },
    {
      "cell_type": "code",
      "source": [
        "data = wine[['alcohol','sugar','pH']].to_numpy()\n",
        "target = wine['class'].to_numpy()"
      ],
      "metadata": {
        "id": "hk71lxcohjzP"
      },
      "execution_count": null,
      "outputs": []
    },
    {
      "cell_type": "markdown",
      "source": [
        "넘파이배열로 변환하는 이유는 속도도 더빠르고 메모리도 적게 차지하기 때문이다."
      ],
      "metadata": {
        "id": "q4UkCsR2iAIw"
      }
    },
    {
      "cell_type": "code",
      "source": [
        "from sklearn.model_selection import train_test_split\n",
        "train_input,test_input,train_target,test_target = train_test_split(data,target,test_size=0.2,random_state = 42 )"
      ],
      "metadata": {
        "id": "T7p3a3QHh4xw"
      },
      "execution_count": null,
      "outputs": []
    },
    {
      "cell_type": "markdown",
      "source": [
        "여기서 test_size = 0.2 라는 뜻은 20% 정도만 테스트 세트로 나눴다는 뜻이다.\n"
      ],
      "metadata": {
        "id": "ogfTlzNoiSjH"
      }
    },
    {
      "cell_type": "code",
      "source": [
        "print(train_input.shape,test_input.shape)"
      ],
      "metadata": {
        "id": "gZkqKJGWiUzB"
      },
      "execution_count": null,
      "outputs": []
    },
    {
      "cell_type": "code",
      "source": [
        "from sklearn.preprocessing import StandardScaler\n",
        "ss = StandardScaler()\n",
        "ss.fit(train_input)\n",
        "train_scaled = ss.transform(train_input)\n",
        "test_scaled = ss.transform(test_input)"
      ],
      "metadata": {
        "id": "xCj6ChirifJR"
      },
      "execution_count": null,
      "outputs": []
    },
    {
      "cell_type": "markdown",
      "source": [
        "정규화 과정 / 정규화를 하는 이유는 특성의 단위도 다르고 범위도 다르기 때문에 단순비교를 할 수 없게 된다 또한 scale의 범위가 너무 크면 노이즈 데이터가 생성되거나 overfitting이 될 가능성이 높아지기 때문이다."
      ],
      "metadata": {
        "id": "LLX9v2ltitWv"
      }
    },
    {
      "cell_type": "code",
      "source": [
        "from sklearn.linear_model import LogisticRegression\n",
        "lr = LogisticRegression()\n",
        "lr.fit(train_scaled,train_target)\n",
        "print(lr.score(train_scaled,train_target))\n",
        "print(lr.score(test_scaled,test_target))"
      ],
      "metadata": {
        "id": "GjNJERIQiw_v"
      },
      "execution_count": null,
      "outputs": []
    },
    {
      "cell_type": "markdown",
      "source": [
        "과소적합이 보이는 것 같으니 하이퍼 파라미터 C의 값을 변화시켜 본다. "
      ],
      "metadata": {
        "id": "9mH5ghhxjRQ5"
      }
    },
    {
      "cell_type": "code",
      "source": [
        "print(lr.coef_,lr.intercept_)"
      ],
      "metadata": {
        "id": "99S0-YpfjYZY"
      },
      "execution_count": null,
      "outputs": []
    },
    {
      "cell_type": "markdown",
      "source": [
        "도수값에 0.51 곱하고 , 당도에 1.67 곱하고 , ph값에 -0.68을 곱한다음 모두 더합니다 그다음 마지막으로 1.81을 더하면 77%로 와인을 분류했다는 뜻이다."
      ],
      "metadata": {
        "id": "Rwbe5mJKjkwB"
      }
    },
    {
      "cell_type": "code",
      "source": [
        "from sklearn.tree import DecisionTreeClassifier\n",
        "dt = DecisionTreeClassifier(random_state = 42)\n",
        "dt.fit(train_scaled,train_target)\n",
        "print(dt.score(train_scaled,train_target))\n",
        "print(dt.score(test_scaled,test_target))"
      ],
      "metadata": {
        "id": "6Fqwq1Z8jvzy"
      },
      "execution_count": null,
      "outputs": []
    },
    {
      "cell_type": "markdown",
      "source": [
        "train set에서는 높게 나오고 test set에서는 낮게 나오기 때문에 과대적합의 모습이 보인다."
      ],
      "metadata": {
        "id": "GxJXX6WZkH1K"
      }
    },
    {
      "cell_type": "code",
      "source": [
        "import matplotlib.pyplot as plt\n",
        "from sklearn.tree import plot_tree\n",
        "plt.figure(figsize=(10,7))\n",
        "plot_tree(dt)\n",
        "plt.show()"
      ],
      "metadata": {
        "id": "ySTm4aJokNsL"
      },
      "execution_count": null,
      "outputs": []
    },
    {
      "cell_type": "markdown",
      "source": [
        "맨 위의 노드를 루트노드라고 부르고 / 맨 아래의 끝에 노드를 리프 노드라고 부릅니다.\n",
        "여기서 노드란 결정트리를 구성하는 핵심 요소입니다."
      ],
      "metadata": {
        "id": "tZGfhMK2kkMj"
      }
    },
    {
      "cell_type": "code",
      "source": [
        "plt.figure(figsize=(10,7))\n",
        "plot_tree(dt,max_depth=1,filled=True,feature_names=['alcohol','sugar','pH'])"
      ],
      "metadata": {
        "id": "0ZtyP-DkkvAl"
      },
      "execution_count": null,
      "outputs": []
    },
    {
      "cell_type": "markdown",
      "source": [
        "맨 위는 테스트조건 \n",
        "밑에는 불순도\n",
        "밑에는 총 샘플수 \n",
        "밑에는 클래스별 샘플수를 뜻한다 \n",
        "이 과정을 가지치기 과정이라고 한다.\n",
        "또한 변수의 max_depth는 루트노드 아래로 최대 1개의 노드까지 성장 가능하다라는 뜻이다 "
      ],
      "metadata": {
        "id": "n8wAc8Byk_30"
      }
    },
    {
      "cell_type": "code",
      "source": [
        "print(dt.feature_importances_)"
      ],
      "metadata": {
        "id": "UMprnUcqlHpN"
      },
      "execution_count": null,
      "outputs": []
    },
    {
      "cell_type": "markdown",
      "source": [
        "특성 중요도를 볼 수 있다. 여기서는 sugar가 0.52인것을 확인 할 수 있다."
      ],
      "metadata": {
        "id": "UJNtZ2gHmZ63"
      }
    }
  ]
}