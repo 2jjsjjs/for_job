{
  "nbformat": 4,
  "nbformat_minor": 0,
  "metadata": {
    "colab": {
      "private_outputs": true,
      "provenance": []
    },
    "kernelspec": {
      "name": "python3",
      "display_name": "Python 3"
    },
    "language_info": {
      "name": "python"
    }
  },
  "cells": [
    {
      "cell_type": "code",
      "execution_count": null,
      "metadata": {
        "id": "2GxMEtbPco_4"
      },
      "outputs": [],
      "source": [
        "import pandas as pd\n",
        "wine = pd.read_csv('https://bit.ly/wine_csv_data')"
      ]
    },
    {
      "cell_type": "code",
      "source": [
        "data = wine[['alcohol','sugar','pH']].to_numpy()\n",
        "target = wine['class'].to_numpy()"
      ],
      "metadata": {
        "id": "9GtgqIlSfRa-"
      },
      "execution_count": null,
      "outputs": []
    },
    {
      "cell_type": "code",
      "source": [
        "from sklearn.model_selection import train_test_split\n",
        "train_input,test_input,train_target,test_target = train_test_split(data,target,test_size=0.2,random_state=42)"
      ],
      "metadata": {
        "id": "pYkzjPmUfrzt"
      },
      "execution_count": null,
      "outputs": []
    },
    {
      "cell_type": "markdown",
      "source": [
        "훈련세트 , 테스트 세트 나누는 것 "
      ],
      "metadata": {
        "id": "IGJ2DNJ8gUaD"
      }
    },
    {
      "cell_type": "code",
      "source": [
        "sub_input , val_input , sub_target, val_target = train_test_split(train_input,train_target,test_size=0.2 , random_state=42)"
      ],
      "metadata": {
        "id": "LwbVocZXgKP0"
      },
      "execution_count": null,
      "outputs": []
    },
    {
      "cell_type": "markdown",
      "source": [
        "훈련세트와 검증세트를 나누는 것"
      ],
      "metadata": {
        "id": "lO_-knQygXEm"
      }
    },
    {
      "cell_type": "code",
      "source": [
        "print(sub_input.shape,val_input.shape)"
      ],
      "metadata": {
        "id": "O9KDdVpagdJN"
      },
      "execution_count": null,
      "outputs": []
    },
    {
      "cell_type": "code",
      "source": [
        "from sklearn.tree import DecisionTreeClassifier\n",
        "dt = DecisionTreeClassifier(random_state = 42)\n",
        "dt.fit(sub_input,sub_target)\n",
        "print(dt.score(sub_input,sub_target))\n",
        "print(dt.score(val_input,val_target))"
      ],
      "metadata": {
        "id": "jKDTSrpCgjEU"
      },
      "execution_count": null,
      "outputs": []
    },
    {
      "cell_type": "markdown",
      "source": [
        "위에서 봤듯이 검증세트를 만들면 훈련세트가 줄어든다 따라서 이를 보완하기위해서 교차검증을 실시한다 이를 k-fold cross validation"
      ],
      "metadata": {
        "id": "1dwFx3Nug8IQ"
      }
    },
    {
      "cell_type": "code",
      "source": [
        "from sklearn.model_selection import cross_validate \n",
        "scores = cross_validate(dt,train_input,train_target)\n",
        "print(scores)"
      ],
      "metadata": {
        "id": "xynED18kg02h"
      },
      "execution_count": null,
      "outputs": []
    },
    {
      "cell_type": "code",
      "source": [
        "import numpy as np\n",
        "print(np.mean(scores['test_score']))"
      ],
      "metadata": {
        "id": "7BBxnabUhsiE"
      },
      "execution_count": null,
      "outputs": []
    },
    {
      "cell_type": "markdown",
      "source": [
        "교차검증의 최종 점수는 test_score 키에 담긴 5개의 점수를 평균하여 구할 수 있다. "
      ],
      "metadata": {
        "id": "5eRTrwDeh8pv"
      }
    },
    {
      "cell_type": "code",
      "source": [
        "from sklearn.model_selection import StratifiedKFold\n",
        "scores = cross_validate(dt,train_input, train_target,cv=StratifiedKFold())\n",
        "print(np.mean(scores['test_score']))"
      ],
      "metadata": {
        "id": "a0cw-xLkiFyW"
      },
      "execution_count": null,
      "outputs": []
    },
    {
      "cell_type": "markdown",
      "source": [
        "cross_validate() 함수는 기본적으로 회귀 모델일 경우 KFold 분할기를 사용하고 / 분류모델일 경우 타깃 클래스를 골고루 나누기 위해 StratifiedKFold를 사용한다.\n"
      ],
      "metadata": {
        "id": "gHDeHX1fi8Vq"
      }
    },
    {
      "cell_type": "code",
      "source": [
        "splitter = StratifiedKFold(n_splits = 10 , shuffle=True , random_state=42)\n",
        "scores = cross_validate(dt,train_input,train_target , cv=splitter)\n",
        "print(np.mean(scores['test_score']))"
      ],
      "metadata": {
        "id": "owrWr3npiUXT"
      },
      "execution_count": null,
      "outputs": []
    },
    {
      "cell_type": "markdown",
      "source": [
        "훈련세트를 섞은 후 10-폴드 교차검증을 수행하는 것 "
      ],
      "metadata": {
        "id": "moaGDl59jPX0"
      }
    },
    {
      "cell_type": "code",
      "source": [
        "from sklearn.model_selection import GridSearchCV\n",
        "params = {'min_impurity_decrease' : [0.0001,0.0002,0.0003,0.0004,0.0005]}\n",
        "gs = GridSearchCV(DecisionTreeClassifier(random_state=42),params,n_jobs=-1)\n",
        "gs.fit(train_input,train_target)"
      ],
      "metadata": {
        "id": "Kilt5XutjTFL"
      },
      "execution_count": null,
      "outputs": []
    },
    {
      "cell_type": "code",
      "source": [
        "dt=gs.best_estimator_\n",
        "print(dt.score(train_input,train_target))\n",
        "print(gs.best_params_)\n",
        "print(gs.cv_results_['mean_test_score'])"
      ],
      "metadata": {
        "id": "3CY-2Itrj5O5"
      },
      "execution_count": null,
      "outputs": []
    },
    {
      "cell_type": "code",
      "source": [
        "from scipy.stats import uniform,randint\n",
        "rgen = randint(0,10)\n",
        "rgen.rvs(10)"
      ],
      "metadata": {
        "id": "TpBnGnp4kY9c"
      },
      "execution_count": null,
      "outputs": []
    },
    {
      "cell_type": "markdown",
      "source": [
        "randint같은 경우는 샘플링하는 것이다."
      ],
      "metadata": {
        "id": "WKGB-HYQlSbT"
      }
    },
    {
      "cell_type": "code",
      "source": [
        "np.unique(rgen.rvs(1000),return_counts=True)"
      ],
      "metadata": {
        "id": "ZxuWpEnEkiG7"
      },
      "execution_count": null,
      "outputs": []
    },
    {
      "cell_type": "code",
      "source": [
        "ugen=uniform(0,1)\n",
        "ugen.rvs(10)"
      ],
      "metadata": {
        "id": "6DULcgZmkm10"
      },
      "execution_count": null,
      "outputs": []
    },
    {
      "cell_type": "markdown",
      "source": [
        "난수 발생기라고 생각하면 된다."
      ],
      "metadata": {
        "id": "rvZd89q6k3MX"
      }
    },
    {
      "cell_type": "code",
      "source": [
        "params = {'min_impurity_decrease' : uniform(0.0001,0.001),\n",
        "          'max_depth' : randint(20,50),\n",
        "          'min_samples_split' : randint(2,25),\n",
        "          'min_samples_leaf' : randint(1,25),}\n",
        "          "
      ],
      "metadata": {
        "id": "oW1XcT5kk1m8"
      },
      "execution_count": null,
      "outputs": []
    },
    {
      "cell_type": "code",
      "source": [
        "from sklearn.model_selection import RandomizedSearchCV\n",
        "gs = RandomizedSearchCV(DecisionTreeClassifier(random_state = 42),params,n_iter=100,n_jobs=-1,random_state=42)\n",
        "gs.fit(train_input,train_target)\n"
      ],
      "metadata": {
        "id": "lER1qXBFlLdc"
      },
      "execution_count": null,
      "outputs": []
    },
    {
      "cell_type": "code",
      "source": [
        "print(gs.best_params_)\n",
        "print(np.max(gs.cv_results_['mean_test_score']))"
      ],
      "metadata": {
        "id": "PgaHxy3Klu-S"
      },
      "execution_count": null,
      "outputs": []
    },
    {
      "cell_type": "code",
      "source": [
        "dt = gs.best_estimator_\n",
        "print(dt.score(test_input,test_target))"
      ],
      "metadata": {
        "id": "MsPS9Y6NlyBG"
      },
      "execution_count": null,
      "outputs": []
    }
  ]
}