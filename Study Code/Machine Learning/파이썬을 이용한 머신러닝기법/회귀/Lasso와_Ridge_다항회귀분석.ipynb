{
  "nbformat": 4,
  "nbformat_minor": 0,
  "metadata": {
    "colab": {
      "private_outputs": true,
      "provenance": []
    },
    "kernelspec": {
      "name": "python3",
      "display_name": "Python 3"
    },
    "language_info": {
      "name": "python"
    }
  },
  "cells": [
    {
      "cell_type": "code",
      "source": [
        "import matplotlib.pyplot as plt\n",
        "plt.scatter(perch_length,perch_weight)\n",
        "plt.xlabel('length')\n",
        "plt.ylabel('weight')\n",
        "plt.show()"
      ],
      "metadata": {
        "id": "hF0XE4g_b75t"
      },
      "execution_count": null,
      "outputs": []
    },
    {
      "cell_type": "code",
      "execution_count": null,
      "metadata": {
        "id": "q2ihNM3Ban-e"
      },
      "outputs": [],
      "source": [
        "import numpy as np\n",
        "perch_length = np.array([8.4, 13.7, 15.0, 16.2, 17.4, 18.0, 18.7, 19.0, 19.6, 20.0, 21.0,\n",
        "       21.0, 21.0, 21.3, 22.0, 22.0, 22.0, 22.0, 22.0, 22.5, 22.5, 22.7,\n",
        "       23.0, 23.5, 24.0, 24.0, 24.6, 25.0, 25.6, 26.5, 27.3, 27.5, 27.5,\n",
        "       27.5, 28.0, 28.7, 30.0, 32.8, 34.5, 35.0, 36.5, 36.0, 37.0, 37.0,\n",
        "       39.0, 39.0, 39.0, 40.0, 40.0, 40.0, 40.0, 42.0, 43.0, 43.0, 43.5,\n",
        "       44.0])\n",
        "perch_weight = np.array([5.9, 32.0, 40.0, 51.5, 70.0, 100.0, 78.0, 80.0, 85.0, 85.0, 110.0,\n",
        "       115.0, 125.0, 130.0, 120.0, 120.0, 130.0, 135.0, 110.0, 130.0,\n",
        "       150.0, 145.0, 150.0, 170.0, 225.0, 145.0, 188.0, 180.0, 197.0,\n",
        "       218.0, 300.0, 260.0, 265.0, 250.0, 250.0, 300.0, 320.0, 514.0,\n",
        "       556.0, 840.0, 685.0, 700.0, 700.0, 690.0, 900.0, 650.0, 820.0,\n",
        "       850.0, 900.0, 1015.0, 820.0, 1100.0, 1000.0, 1100.0, 1000.0,\n",
        "       1000.0])"
      ]
    },
    {
      "cell_type": "code",
      "source": [
        "from sklearn.model_selection import train_test_split\n",
        "train_input,test_input,train_target,test_target = train_test_split(perch_length,perch_weight,random_state=42)"
      ],
      "metadata": {
        "id": "ad9Nm-w_ayN8"
      },
      "execution_count": null,
      "outputs": []
    },
    {
      "cell_type": "code",
      "source": [
        "train_input = train_input.reshape(-1,1)\n",
        "test_input = test_input.reshape(-1,1)\n",
        "print(train_input.shape,test_input.shape)"
      ],
      "metadata": {
        "id": "pousK1pCa3os"
      },
      "execution_count": null,
      "outputs": []
    },
    {
      "cell_type": "code",
      "source": [
        "from sklearn.linear_model import LinearRegression\n",
        "lr = LinearRegression()\n",
        "\n",
        "lr.fit(train_input,train_target)\n",
        "print(lr.predict([[50]]))\n",
        "print(lr.coef_,lr.intercept_)"
      ],
      "metadata": {
        "id": "SkgAA07lbBuT"
      },
      "execution_count": null,
      "outputs": []
    },
    {
      "cell_type": "code",
      "source": [
        "plt.scatter(train_input,train_target)\n",
        "plt.plot([15,50],[15*lr.coef_+lr.intercept_,50*lr.coef_+lr.intercept_])\n",
        "plt.scatter(50,1241.8,marker='^')\n",
        "plt.xlabel('length')\n",
        "plt.ylabel('weight')\n",
        "plt.show()"
      ],
      "metadata": {
        "id": "ckocD2vGbieb"
      },
      "execution_count": null,
      "outputs": []
    },
    {
      "cell_type": "code",
      "source": [
        "print(lr.score(train_input,train_target))\n",
        "print(lr.score(test_input,test_target))"
      ],
      "metadata": {
        "id": "IuEf9SA1b-gT"
      },
      "execution_count": null,
      "outputs": []
    },
    {
      "cell_type": "code",
      "source": [
        "train_poly = np.column_stack((train_input ** 2 , train_input))\n",
        "test_poly = np.column_stack((test_input ** 2 , test_input))"
      ],
      "metadata": {
        "id": "NlH5KP3UcioE"
      },
      "execution_count": null,
      "outputs": []
    },
    {
      "cell_type": "code",
      "source": [
        "print(train_poly.shape,test_poly.shape)"
      ],
      "metadata": {
        "id": "Ar8-94rGcthc"
      },
      "execution_count": null,
      "outputs": []
    },
    {
      "cell_type": "code",
      "source": [
        "lr = LinearRegression()\n",
        "lr.fit(train_poly,train_target)\n",
        "print(lr.predict([[50**2,50]]))\n",
        "print(lr.coef_,lr.intercept_)"
      ],
      "metadata": {
        "id": "UTS0RCkhcwxs"
      },
      "execution_count": null,
      "outputs": []
    },
    {
      "cell_type": "code",
      "source": [
        "point = np.arange(15,50)\n",
        "plt.scatter(train_input , train_target)\n",
        "plt.plot(point , 1.01*point**2 - 21.6*point + 116.05)\n",
        "plt.scatter(50,1574,marker='^')\n",
        "plt.xlabel('length')\n",
        "plt.ylabel('weight')\n",
        "plt.show()"
      ],
      "metadata": {
        "id": "dV5HvVsgdBls"
      },
      "execution_count": null,
      "outputs": []
    },
    {
      "cell_type": "code",
      "source": [
        "print(lr.score(train_poly,train_target))\n",
        "print(lr.score(test_poly,test_target))"
      ],
      "metadata": {
        "id": "uM2taNKjdY8E"
      },
      "execution_count": null,
      "outputs": []
    },
    {
      "cell_type": "code",
      "source": [
        "import pandas as pd\n",
        "df = pd.read_csv('http://bit.ly/perch_csv_data')\n",
        "perch_full = df.to_numpy()\n",
        "print(perch_full)"
      ],
      "metadata": {
        "id": "3M32BAgNeEOu"
      },
      "execution_count": null,
      "outputs": []
    },
    {
      "cell_type": "code",
      "source": [
        "import numpy as np\n",
        "perch_weight = np.array([5.9, 32.0, 40.0, 51.5, 70.0, 100.0, 78.0, 80.0, 85.0, 85.0, 110.0,\n",
        "       115.0, 125.0, 130.0, 120.0, 120.0, 130.0, 135.0, 110.0, 130.0,\n",
        "       150.0, 145.0, 150.0, 170.0, 225.0, 145.0, 188.0, 180.0, 197.0,\n",
        "       218.0, 300.0, 260.0, 265.0, 250.0, 250.0, 300.0, 320.0, 514.0,\n",
        "       556.0, 840.0, 685.0, 700.0, 700.0, 690.0, 900.0, 650.0, 820.0,\n",
        "       850.0, 900.0, 1015.0, 820.0, 1100.0, 1000.0, 1100.0, 1000.0,\n",
        "       1000.0])"
      ],
      "metadata": {
        "id": "oKPrjPu-eWhW"
      },
      "execution_count": null,
      "outputs": []
    },
    {
      "cell_type": "code",
      "source": [
        "from sklearn.model_selection import train_test_split\n",
        "train_input,test_input,train_target,test_target = train_test_split(perch_full,perch_weight,random_state=42)"
      ],
      "metadata": {
        "id": "slyGPRZrechd"
      },
      "execution_count": null,
      "outputs": []
    },
    {
      "cell_type": "code",
      "source": [
        "from sklearn.preprocessing import PolynomialFeatures\n",
        "poly = PolynomialFeatures()\n",
        "poly.fit([[2,3]])\n",
        "print(poly.transform([[2,3]]))"
      ],
      "metadata": {
        "id": "3UluLWpXeiBe"
      },
      "execution_count": null,
      "outputs": []
    },
    {
      "cell_type": "code",
      "source": [
        "poly = PolynomialFeatures(include_bias = False)\n",
        "poly.fit([[2,3]])\n",
        "print(poly.transform([[2,3]]))\n",
        "                          "
      ],
      "metadata": {
        "id": "yPXzKWkxe6wm"
      },
      "execution_count": null,
      "outputs": []
    },
    {
      "cell_type": "code",
      "source": [
        "poly = PolynomialFeatures(include_bias = False)\n",
        "poly.fit(train_input)\n",
        "train_poly = poly.transform(train_input)\n",
        "print(train_poly.shape)"
      ],
      "metadata": {
        "id": "c-1xF3GCfbeH"
      },
      "execution_count": null,
      "outputs": []
    },
    {
      "cell_type": "code",
      "source": [
        "poly.get_feature_names_out()"
      ],
      "metadata": {
        "id": "q43xpNJrfoZw"
      },
      "execution_count": null,
      "outputs": []
    },
    {
      "cell_type": "code",
      "source": [
        "test_poly = poly.transform(test_input)"
      ],
      "metadata": {
        "id": "VRejV8cefsYX"
      },
      "execution_count": null,
      "outputs": []
    },
    {
      "cell_type": "code",
      "source": [
        "from sklearn.linear_model import LinearRegression\n",
        "lr = LinearRegression()\n",
        "lr.fit(train_poly,train_target)\n",
        "print(lr.score(train_poly,train_target))"
      ],
      "metadata": {
        "id": "UGFWh0asf8nX"
      },
      "execution_count": null,
      "outputs": []
    },
    {
      "cell_type": "code",
      "source": [
        "print(lr.score(test_poly,test_target))"
      ],
      "metadata": {
        "id": "JMBmO08zgKhG"
      },
      "execution_count": null,
      "outputs": []
    },
    {
      "cell_type": "code",
      "source": [
        "poly = PolynomialFeatures(include_bias = False , degree=5)\n",
        "poly.fit(train_input)\n",
        "train_poly = poly.transform(train_input)\n",
        "test_poly = poly.transform(test_input)\n",
        "print(train_poly.shape)"
      ],
      "metadata": {
        "id": "DPG9XU-AgNUY"
      },
      "execution_count": null,
      "outputs": []
    },
    {
      "cell_type": "code",
      "source": [
        "lr.fit(train_poly , train_target)\n",
        "print(lr.score(train_poly , train_target))"
      ],
      "metadata": {
        "id": "SRB6MU8GgZsn"
      },
      "execution_count": null,
      "outputs": []
    },
    {
      "cell_type": "code",
      "source": [
        "print(lr.score(test_poly,test_target))"
      ],
      "metadata": {
        "id": "ibY7Cs2dggOP"
      },
      "execution_count": null,
      "outputs": []
    },
    {
      "cell_type": "code",
      "source": [
        "from sklearn.preprocessing import StandardScaler\n",
        "ss = StandardScaler()\n",
        "ss.fit(train_poly)\n",
        "train_scaled = ss.transform(train_poly)\n",
        "test_scaled = ss.transform(test_poly)"
      ],
      "metadata": {
        "id": "7MljDC03g5dA"
      },
      "execution_count": null,
      "outputs": []
    },
    {
      "cell_type": "code",
      "source": [
        "from sklearn.linear_model import Ridge\n",
        "ridge = Ridge()\n",
        "ridge.fit(train_scaled , train_target)\n",
        "print(ridge.score(train_scaled , train_target))"
      ],
      "metadata": {
        "id": "WJu8v_24hPkY"
      },
      "execution_count": null,
      "outputs": []
    },
    {
      "cell_type": "code",
      "source": [
        "print(ridge.score(test_scaled,test_target))"
      ],
      "metadata": {
        "id": "o8buhnighap_"
      },
      "execution_count": null,
      "outputs": []
    },
    {
      "cell_type": "code",
      "source": [
        "import matplotlib.pyplot as plt \n",
        "train_score = []\n",
        "test_score = []\n"
      ],
      "metadata": {
        "id": "tuSStX3Qhk63"
      },
      "execution_count": null,
      "outputs": []
    },
    {
      "cell_type": "code",
      "source": [
        "alpha_list = [ 0.001,0.01,0.1,1,10,100]\n",
        "for alpha in alpha_list:\n",
        "    ridge = Ridge(alpha=alpha)\n",
        "    ridge.fit(train_scaled,train_target)\n",
        "    train_score.append(ridge.score(train_scaled,train_target))\n",
        "    test_score.append(ridge.score(test_scaled,test_target))"
      ],
      "metadata": {
        "id": "HNIcMna9hpSU"
      },
      "execution_count": null,
      "outputs": []
    },
    {
      "cell_type": "code",
      "source": [
        "plt.plot(np.log10(alpha_list),train_score)\n",
        "plt.plot(np.log10(alpha_list),test_score)\n",
        "plt.xlabel('alpha')\n",
        "plt.ylabel('R^2')\n",
        "plt.show()"
      ],
      "metadata": {
        "id": "_FtcWV_kiqEI"
      },
      "execution_count": null,
      "outputs": []
    },
    {
      "cell_type": "code",
      "source": [
        "ridge = Ridge(alpha=0.1)\n",
        "ridge.fit(train_scaled,train_target)\n",
        "print(ridge.score(train_scaled,train_target))\n",
        "print(ridge.score(test_scaled,test_target))"
      ],
      "metadata": {
        "id": "6KV8IN1ejAdw"
      },
      "execution_count": null,
      "outputs": []
    },
    {
      "cell_type": "code",
      "source": [
        "from sklearn.linear_model import Lasso\n",
        "lasso = Lasso()\n",
        "lasso.fit(train_scaled , train_target)\n",
        "print(lasso.score(train_scaled , train_target))\n",
        "print(lasso.score(test_scaled,test_target))"
      ],
      "metadata": {
        "id": "OCKqPXb9jRrH"
      },
      "execution_count": null,
      "outputs": []
    },
    {
      "cell_type": "code",
      "source": [
        "train_score = []\n",
        "test_score = []\n",
        "alpha_list = [ 0.001,0.01,0.1,1,10,100]\n",
        "for alpha in alpha_list:\n",
        "    lasso = Lasso(alpha=alpha)\n",
        "    lasso.fit(train_scaled,train_target)\n",
        "    train_score.append(lasso.score(train_scaled,train_target))\n",
        "    test_score.append(lasso.score(test_scaled,test_target))"
      ],
      "metadata": {
        "id": "7LipYRgBjucQ"
      },
      "execution_count": null,
      "outputs": []
    },
    {
      "cell_type": "code",
      "source": [
        "plt.plot(np.log10(alpha_list),train_score)\n",
        "plt.plot(np.log10(alpha_list),test_score)\n",
        "plt.xlabel=('alpha')\n",
        "plt.ylabel('R^2')\n",
        "plt.show()"
      ],
      "metadata": {
        "id": "Fni4UyfIkBpw"
      },
      "execution_count": null,
      "outputs": []
    },
    {
      "cell_type": "code",
      "source": [
        "lasso=Lasso(alpha=10)\n",
        "lasso.fit(train_scaled,train_target)\n",
        "print(lasso.score(train_scaled,train_target))\n",
        "print(lasso.score(test_scaled,test_target))\n",
        "print(np.sum(lasso.coef_ ==0))"
      ],
      "metadata": {
        "id": "c52m6NmVkWmo"
      },
      "execution_count": null,
      "outputs": []
    }
  ]
}